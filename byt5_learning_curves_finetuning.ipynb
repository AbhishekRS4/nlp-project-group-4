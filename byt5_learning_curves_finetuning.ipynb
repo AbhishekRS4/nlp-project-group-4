{
  "cells": [
    {
      "cell_type": "markdown",
      "metadata": {
        "id": "zg2VF8mPo9Jf"
      },
      "source": [
        "# Parameters"
      ]
    },
    {
      "cell_type": "code",
      "source": [
        "import os\n",
        "import sys"
      ],
      "metadata": {
        "id": "D_dWm21ZA3-z"
      },
      "execution_count": 1,
      "outputs": []
    },
    {
      "cell_type": "code",
      "source": [
        "# Set global random seed\n",
        "SEED = 1234\n",
        "\n",
        "# Set the project directories for local and/or Google Colab \n",
        "dir_local = '.'\n",
        "dir_colab = 'drive/MyDrive/NLP_code_notebooks/project/'\n",
        "file_to_import = os.path.join(dir_colab, \"byt5_model.py\")\n",
        "\n",
        "# Set the important parameters for the model\n",
        "learning_rate = 1e-4\n",
        "num_epochs = 50\n",
        "batch_size = 16"
      ],
      "metadata": {
        "id": "frel8DFL_lQd"
      },
      "execution_count": 2,
      "outputs": []
    },
    {
      "cell_type": "code",
      "source": [
        "try:\n",
        "  import google.colab\n",
        "  IN_COLAB = True\n",
        "except:\n",
        "  IN_COLAB = False"
      ],
      "metadata": {
        "id": "pmDOHeCX_8jq"
      },
      "execution_count": 3,
      "outputs": []
    },
    {
      "cell_type": "code",
      "source": [
        "if IN_COLAB:\n",
        "  print('Running on Google Colab')\n",
        "  from google.colab import drive\n",
        "\n",
        "  !pip install transformers datasets\n",
        "  drive.mount('/content/drive')\n",
        "  dir_project = dir_colab\n",
        "  !cp $file_to_import .\n",
        "  #sys.path.append(dir_project)\n",
        "else:\n",
        "  print('Running locally')\n",
        "  dir_project = dir_local"
      ],
      "metadata": {
        "colab": {
          "base_uri": "https://localhost:8080/"
        },
        "id": "ij2gcFN-AACp",
        "outputId": "084a6d74-4d2d-4b92-89f9-58fe395c000d"
      },
      "execution_count": 4,
      "outputs": [
        {
          "output_type": "stream",
          "name": "stdout",
          "text": [
            "Running on Google Colab\n",
            "Looking in indexes: https://pypi.org/simple, https://us-python.pkg.dev/colab-wheels/public/simple/\n",
            "Collecting transformers\n",
            "  Downloading transformers-4.27.4-py3-none-any.whl (6.8 MB)\n",
            "\u001b[2K     \u001b[90m━━━━━━━━━━━━━━━━━━━━━━━━━━━━━━━━━━━━━━━━\u001b[0m \u001b[32m6.8/6.8 MB\u001b[0m \u001b[31m43.8 MB/s\u001b[0m eta \u001b[36m0:00:00\u001b[0m\n",
            "\u001b[?25hCollecting datasets\n",
            "  Downloading datasets-2.11.0-py3-none-any.whl (468 kB)\n",
            "\u001b[2K     \u001b[90m━━━━━━━━━━━━━━━━━━━━━━━━━━━━━━━━━━━━━━\u001b[0m \u001b[32m468.7/468.7 kB\u001b[0m \u001b[31m34.8 MB/s\u001b[0m eta \u001b[36m0:00:00\u001b[0m\n",
            "\u001b[?25hRequirement already satisfied: regex!=2019.12.17 in /usr/local/lib/python3.9/dist-packages (from transformers) (2022.10.31)\n",
            "Requirement already satisfied: pyyaml>=5.1 in /usr/local/lib/python3.9/dist-packages (from transformers) (6.0)\n",
            "Requirement already satisfied: packaging>=20.0 in /usr/local/lib/python3.9/dist-packages (from transformers) (23.0)\n",
            "Requirement already satisfied: numpy>=1.17 in /usr/local/lib/python3.9/dist-packages (from transformers) (1.22.4)\n",
            "Requirement already satisfied: requests in /usr/local/lib/python3.9/dist-packages (from transformers) (2.27.1)\n",
            "Requirement already satisfied: tqdm>=4.27 in /usr/local/lib/python3.9/dist-packages (from transformers) (4.65.0)\n",
            "Requirement already satisfied: filelock in /usr/local/lib/python3.9/dist-packages (from transformers) (3.11.0)\n",
            "Collecting huggingface-hub<1.0,>=0.11.0\n",
            "  Downloading huggingface_hub-0.13.4-py3-none-any.whl (200 kB)\n",
            "\u001b[2K     \u001b[90m━━━━━━━━━━━━━━━━━━━━━━━━━━━━━━━━━━━━━━\u001b[0m \u001b[32m200.1/200.1 kB\u001b[0m \u001b[31m15.1 MB/s\u001b[0m eta \u001b[36m0:00:00\u001b[0m\n",
            "\u001b[?25hCollecting tokenizers!=0.11.3,<0.14,>=0.11.1\n",
            "  Downloading tokenizers-0.13.3-cp39-cp39-manylinux_2_17_x86_64.manylinux2014_x86_64.whl (7.8 MB)\n",
            "\u001b[2K     \u001b[90m━━━━━━━━━━━━━━━━━━━━━━━━━━━━━━━━━━━━━━━━\u001b[0m \u001b[32m7.8/7.8 MB\u001b[0m \u001b[31m60.3 MB/s\u001b[0m eta \u001b[36m0:00:00\u001b[0m\n",
            "\u001b[?25hCollecting xxhash\n",
            "  Downloading xxhash-3.2.0-cp39-cp39-manylinux_2_17_x86_64.manylinux2014_x86_64.whl (212 kB)\n",
            "\u001b[2K     \u001b[90m━━━━━━━━━━━━━━━━━━━━━━━━━━━━━━━━━━━━━━\u001b[0m \u001b[32m212.2/212.2 kB\u001b[0m \u001b[31m12.4 MB/s\u001b[0m eta \u001b[36m0:00:00\u001b[0m\n",
            "\u001b[?25hRequirement already satisfied: pandas in /usr/local/lib/python3.9/dist-packages (from datasets) (1.5.3)\n",
            "Collecting dill<0.3.7,>=0.3.0\n",
            "  Downloading dill-0.3.6-py3-none-any.whl (110 kB)\n",
            "\u001b[2K     \u001b[90m━━━━━━━━━━━━━━━━━━━━━━━━━━━━━━━━━━━━━━\u001b[0m \u001b[32m110.5/110.5 kB\u001b[0m \u001b[31m11.8 MB/s\u001b[0m eta \u001b[36m0:00:00\u001b[0m\n",
            "\u001b[?25hCollecting aiohttp\n",
            "  Downloading aiohttp-3.8.4-cp39-cp39-manylinux_2_17_x86_64.manylinux2014_x86_64.whl (1.0 MB)\n",
            "\u001b[2K     \u001b[90m━━━━━━━━━━━━━━━━━━━━━━━━━━━━━━━━━━━━━━━━\u001b[0m \u001b[32m1.0/1.0 MB\u001b[0m \u001b[31m15.0 MB/s\u001b[0m eta \u001b[36m0:00:00\u001b[0m\n",
            "\u001b[?25hCollecting responses<0.19\n",
            "  Downloading responses-0.18.0-py3-none-any.whl (38 kB)\n",
            "Collecting multiprocess\n",
            "  Downloading multiprocess-0.70.14-py39-none-any.whl (132 kB)\n",
            "\u001b[2K     \u001b[90m━━━━━━━━━━━━━━━━━━━━━━━━━━━━━━━━━━━━━━\u001b[0m \u001b[32m132.9/132.9 kB\u001b[0m \u001b[31m10.6 MB/s\u001b[0m eta \u001b[36m0:00:00\u001b[0m\n",
            "\u001b[?25hRequirement already satisfied: fsspec[http]>=2021.11.1 in /usr/local/lib/python3.9/dist-packages (from datasets) (2023.3.0)\n",
            "Requirement already satisfied: pyarrow>=8.0.0 in /usr/local/lib/python3.9/dist-packages (from datasets) (9.0.0)\n",
            "Collecting aiosignal>=1.1.2\n",
            "  Downloading aiosignal-1.3.1-py3-none-any.whl (7.6 kB)\n",
            "Collecting multidict<7.0,>=4.5\n",
            "  Downloading multidict-6.0.4-cp39-cp39-manylinux_2_17_x86_64.manylinux2014_x86_64.whl (114 kB)\n",
            "\u001b[2K     \u001b[90m━━━━━━━━━━━━━━━━━━━━━━━━━━━━━━━━━━━━━━━\u001b[0m \u001b[32m114.2/114.2 kB\u001b[0m \u001b[31m3.8 MB/s\u001b[0m eta \u001b[36m0:00:00\u001b[0m\n",
            "\u001b[?25hCollecting async-timeout<5.0,>=4.0.0a3\n",
            "  Downloading async_timeout-4.0.2-py3-none-any.whl (5.8 kB)\n",
            "Requirement already satisfied: charset-normalizer<4.0,>=2.0 in /usr/local/lib/python3.9/dist-packages (from aiohttp->datasets) (2.0.12)\n",
            "Collecting yarl<2.0,>=1.0\n",
            "  Downloading yarl-1.8.2-cp39-cp39-manylinux_2_17_x86_64.manylinux2014_x86_64.whl (264 kB)\n",
            "\u001b[2K     \u001b[90m━━━━━━━━━━━━━━━━━━━━━━━━━━━━━━━━━━━━━━━\u001b[0m \u001b[32m264.6/264.6 kB\u001b[0m \u001b[31m4.2 MB/s\u001b[0m eta \u001b[36m0:00:00\u001b[0m\n",
            "\u001b[?25hCollecting frozenlist>=1.1.1\n",
            "  Downloading frozenlist-1.3.3-cp39-cp39-manylinux_2_5_x86_64.manylinux1_x86_64.manylinux_2_17_x86_64.manylinux2014_x86_64.whl (158 kB)\n",
            "\u001b[2K     \u001b[90m━━━━━━━━━━━━━━━━━━━━━━━━━━━━━━━━━━━━━━━\u001b[0m \u001b[32m158.8/158.8 kB\u001b[0m \u001b[31m6.5 MB/s\u001b[0m eta \u001b[36m0:00:00\u001b[0m\n",
            "\u001b[?25hRequirement already satisfied: attrs>=17.3.0 in /usr/local/lib/python3.9/dist-packages (from aiohttp->datasets) (22.2.0)\n",
            "Requirement already satisfied: typing-extensions>=3.7.4.3 in /usr/local/lib/python3.9/dist-packages (from huggingface-hub<1.0,>=0.11.0->transformers) (4.5.0)\n",
            "Requirement already satisfied: urllib3<1.27,>=1.21.1 in /usr/local/lib/python3.9/dist-packages (from requests->transformers) (1.26.15)\n",
            "Requirement already satisfied: idna<4,>=2.5 in /usr/local/lib/python3.9/dist-packages (from requests->transformers) (3.4)\n",
            "Requirement already satisfied: certifi>=2017.4.17 in /usr/local/lib/python3.9/dist-packages (from requests->transformers) (2022.12.7)\n",
            "Requirement already satisfied: python-dateutil>=2.8.1 in /usr/local/lib/python3.9/dist-packages (from pandas->datasets) (2.8.2)\n",
            "Requirement already satisfied: pytz>=2020.1 in /usr/local/lib/python3.9/dist-packages (from pandas->datasets) (2022.7.1)\n",
            "Requirement already satisfied: six>=1.5 in /usr/local/lib/python3.9/dist-packages (from python-dateutil>=2.8.1->pandas->datasets) (1.16.0)\n",
            "Installing collected packages: tokenizers, xxhash, multidict, frozenlist, dill, async-timeout, yarl, responses, multiprocess, huggingface-hub, aiosignal, transformers, aiohttp, datasets\n",
            "Successfully installed aiohttp-3.8.4 aiosignal-1.3.1 async-timeout-4.0.2 datasets-2.11.0 dill-0.3.6 frozenlist-1.3.3 huggingface-hub-0.13.4 multidict-6.0.4 multiprocess-0.70.14 responses-0.18.0 tokenizers-0.13.3 transformers-4.27.4 xxhash-3.2.0 yarl-1.8.2\n",
            "Mounted at /content/drive\n"
          ]
        }
      ]
    },
    {
      "cell_type": "markdown",
      "metadata": {
        "id": "bpYScF1io9Jl"
      },
      "source": [
        "# Code"
      ]
    },
    {
      "cell_type": "markdown",
      "metadata": {
        "id": "76mpTJcUo9Jl"
      },
      "source": [
        "## Imports, time, and random seed"
      ]
    },
    {
      "cell_type": "code",
      "execution_count": 5,
      "metadata": {
        "id": "CbruWdyPo9Jl"
      },
      "outputs": [],
      "source": [
        "import pandas as pd\n",
        "import numpy as np\n",
        "import torch\n",
        "from byt5_model import *\n",
        "from pathlib import Path\n",
        "from datetime import datetime"
      ]
    },
    {
      "cell_type": "code",
      "source": [
        "from transformers import set_seed"
      ],
      "metadata": {
        "id": "buKUuh1t-kLp"
      },
      "execution_count": 6,
      "outputs": []
    },
    {
      "cell_type": "code",
      "source": [
        "dir_dataset = os.path.join(dir_project, 'data')"
      ],
      "metadata": {
        "id": "-2d6paorqZaM"
      },
      "execution_count": 7,
      "outputs": []
    },
    {
      "cell_type": "code",
      "execution_count": 8,
      "metadata": {
        "id": "qqkCQS8ko9Jm"
      },
      "outputs": [],
      "source": [
        "time_string = datetime.now().strftime(\"%Y-%m-%d_%H-%M-%S\")"
      ]
    },
    {
      "cell_type": "code",
      "execution_count": 9,
      "metadata": {
        "id": "JyxAOhyVo9Jn"
      },
      "outputs": [],
      "source": [
        "torch.manual_seed(SEED)\n",
        "np.random.seed(SEED)\n",
        "set_seed(SEED)"
      ]
    },
    {
      "cell_type": "code",
      "source": [
        "model_name = 'google/byt5-small'\n"
      ],
      "metadata": {
        "id": "-5bTzf7gGH4x"
      },
      "execution_count": 10,
      "outputs": []
    },
    {
      "cell_type": "markdown",
      "metadata": {
        "id": "aMNJ8a3Mo9Jn"
      },
      "source": [
        "## Data"
      ]
    },
    {
      "cell_type": "markdown",
      "source": [],
      "metadata": {
        "id": "QzBPlUhQrfu-"
      }
    },
    {
      "cell_type": "code",
      "source": [
        "header_names = [\"lemma\", \"labels\", \"features\"]\n",
        "df_train_ger, df_valid_ger, df_test_ger = load_raw_data_as_df(dir_dataset)\n",
        "df_train_tur, df_valid_tur, df_test_tur = load_raw_data_as_df(dir_dataset, which_dataset=\"turkish\", turkish_large=True)"
      ],
      "metadata": {
        "id": "bwXPwbK_p8rr"
      },
      "execution_count": 11,
      "outputs": []
    },
    {
      "cell_type": "code",
      "execution_count": 12,
      "metadata": {
        "colab": {
          "base_uri": "https://localhost:8080/",
          "height": 206
        },
        "id": "TqkRqddMo9Jo",
        "outputId": "778de36b-8da8-4b27-bdb2-c02f24c14b6b"
      },
      "outputs": [
        {
          "output_type": "execute_result",
          "data": {
            "text/plain": [
              "          lemma          labels       features                     inputs\n",
              "0     Plätzchen       Plätzchen  N;NOM;NEUT;PL    Plätzchen N;NOM;NEUT;PL\n",
              "1      Kastanie       Kastanien   N;NOM;FEM;PL      Kastanie N;NOM;FEM;PL\n",
              "2         Linie          Linien   N;NOM;FEM;PL         Linie N;NOM;FEM;PL\n",
              "3        Scherz         Scherze  N;NOM;MASC;PL       Scherz N;NOM;MASC;PL\n",
              "4  Wiederholung  Wiederholungen   N;NOM;FEM;PL  Wiederholung N;NOM;FEM;PL"
            ],
            "text/html": [
              "\n",
              "  <div id=\"df-863bc1c8-96e9-4413-a27a-f6225176ac44\">\n",
              "    <div class=\"colab-df-container\">\n",
              "      <div>\n",
              "<style scoped>\n",
              "    .dataframe tbody tr th:only-of-type {\n",
              "        vertical-align: middle;\n",
              "    }\n",
              "\n",
              "    .dataframe tbody tr th {\n",
              "        vertical-align: top;\n",
              "    }\n",
              "\n",
              "    .dataframe thead th {\n",
              "        text-align: right;\n",
              "    }\n",
              "</style>\n",
              "<table border=\"1\" class=\"dataframe\">\n",
              "  <thead>\n",
              "    <tr style=\"text-align: right;\">\n",
              "      <th></th>\n",
              "      <th>lemma</th>\n",
              "      <th>labels</th>\n",
              "      <th>features</th>\n",
              "      <th>inputs</th>\n",
              "    </tr>\n",
              "  </thead>\n",
              "  <tbody>\n",
              "    <tr>\n",
              "      <th>0</th>\n",
              "      <td>Plätzchen</td>\n",
              "      <td>Plätzchen</td>\n",
              "      <td>N;NOM;NEUT;PL</td>\n",
              "      <td>Plätzchen N;NOM;NEUT;PL</td>\n",
              "    </tr>\n",
              "    <tr>\n",
              "      <th>1</th>\n",
              "      <td>Kastanie</td>\n",
              "      <td>Kastanien</td>\n",
              "      <td>N;NOM;FEM;PL</td>\n",
              "      <td>Kastanie N;NOM;FEM;PL</td>\n",
              "    </tr>\n",
              "    <tr>\n",
              "      <th>2</th>\n",
              "      <td>Linie</td>\n",
              "      <td>Linien</td>\n",
              "      <td>N;NOM;FEM;PL</td>\n",
              "      <td>Linie N;NOM;FEM;PL</td>\n",
              "    </tr>\n",
              "    <tr>\n",
              "      <th>3</th>\n",
              "      <td>Scherz</td>\n",
              "      <td>Scherze</td>\n",
              "      <td>N;NOM;MASC;PL</td>\n",
              "      <td>Scherz N;NOM;MASC;PL</td>\n",
              "    </tr>\n",
              "    <tr>\n",
              "      <th>4</th>\n",
              "      <td>Wiederholung</td>\n",
              "      <td>Wiederholungen</td>\n",
              "      <td>N;NOM;FEM;PL</td>\n",
              "      <td>Wiederholung N;NOM;FEM;PL</td>\n",
              "    </tr>\n",
              "  </tbody>\n",
              "</table>\n",
              "</div>\n",
              "      <button class=\"colab-df-convert\" onclick=\"convertToInteractive('df-863bc1c8-96e9-4413-a27a-f6225176ac44')\"\n",
              "              title=\"Convert this dataframe to an interactive table.\"\n",
              "              style=\"display:none;\">\n",
              "        \n",
              "  <svg xmlns=\"http://www.w3.org/2000/svg\" height=\"24px\"viewBox=\"0 0 24 24\"\n",
              "       width=\"24px\">\n",
              "    <path d=\"M0 0h24v24H0V0z\" fill=\"none\"/>\n",
              "    <path d=\"M18.56 5.44l.94 2.06.94-2.06 2.06-.94-2.06-.94-.94-2.06-.94 2.06-2.06.94zm-11 1L8.5 8.5l.94-2.06 2.06-.94-2.06-.94L8.5 2.5l-.94 2.06-2.06.94zm10 10l.94 2.06.94-2.06 2.06-.94-2.06-.94-.94-2.06-.94 2.06-2.06.94z\"/><path d=\"M17.41 7.96l-1.37-1.37c-.4-.4-.92-.59-1.43-.59-.52 0-1.04.2-1.43.59L10.3 9.45l-7.72 7.72c-.78.78-.78 2.05 0 2.83L4 21.41c.39.39.9.59 1.41.59.51 0 1.02-.2 1.41-.59l7.78-7.78 2.81-2.81c.8-.78.8-2.07 0-2.86zM5.41 20L4 18.59l7.72-7.72 1.47 1.35L5.41 20z\"/>\n",
              "  </svg>\n",
              "      </button>\n",
              "      \n",
              "  <style>\n",
              "    .colab-df-container {\n",
              "      display:flex;\n",
              "      flex-wrap:wrap;\n",
              "      gap: 12px;\n",
              "    }\n",
              "\n",
              "    .colab-df-convert {\n",
              "      background-color: #E8F0FE;\n",
              "      border: none;\n",
              "      border-radius: 50%;\n",
              "      cursor: pointer;\n",
              "      display: none;\n",
              "      fill: #1967D2;\n",
              "      height: 32px;\n",
              "      padding: 0 0 0 0;\n",
              "      width: 32px;\n",
              "    }\n",
              "\n",
              "    .colab-df-convert:hover {\n",
              "      background-color: #E2EBFA;\n",
              "      box-shadow: 0px 1px 2px rgba(60, 64, 67, 0.3), 0px 1px 3px 1px rgba(60, 64, 67, 0.15);\n",
              "      fill: #174EA6;\n",
              "    }\n",
              "\n",
              "    [theme=dark] .colab-df-convert {\n",
              "      background-color: #3B4455;\n",
              "      fill: #D2E3FC;\n",
              "    }\n",
              "\n",
              "    [theme=dark] .colab-df-convert:hover {\n",
              "      background-color: #434B5C;\n",
              "      box-shadow: 0px 1px 3px 1px rgba(0, 0, 0, 0.15);\n",
              "      filter: drop-shadow(0px 1px 2px rgba(0, 0, 0, 0.3));\n",
              "      fill: #FFFFFF;\n",
              "    }\n",
              "  </style>\n",
              "\n",
              "      <script>\n",
              "        const buttonEl =\n",
              "          document.querySelector('#df-863bc1c8-96e9-4413-a27a-f6225176ac44 button.colab-df-convert');\n",
              "        buttonEl.style.display =\n",
              "          google.colab.kernel.accessAllowed ? 'block' : 'none';\n",
              "\n",
              "        async function convertToInteractive(key) {\n",
              "          const element = document.querySelector('#df-863bc1c8-96e9-4413-a27a-f6225176ac44');\n",
              "          const dataTable =\n",
              "            await google.colab.kernel.invokeFunction('convertToInteractive',\n",
              "                                                     [key], {});\n",
              "          if (!dataTable) return;\n",
              "\n",
              "          const docLinkHtml = 'Like what you see? Visit the ' +\n",
              "            '<a target=\"_blank\" href=https://colab.research.google.com/notebooks/data_table.ipynb>data table notebook</a>'\n",
              "            + ' to learn more about interactive tables.';\n",
              "          element.innerHTML = '';\n",
              "          dataTable['output_type'] = 'display_data';\n",
              "          await google.colab.output.renderOutput(dataTable, element);\n",
              "          const docLink = document.createElement('div');\n",
              "          docLink.innerHTML = docLinkHtml;\n",
              "          element.appendChild(docLink);\n",
              "        }\n",
              "      </script>\n",
              "    </div>\n",
              "  </div>\n",
              "  "
            ]
          },
          "metadata": {},
          "execution_count": 12
        }
      ],
      "source": [
        "df_train_ger.head()"
      ]
    },
    {
      "cell_type": "code",
      "source": [
        "df_train_tur.head()"
      ],
      "metadata": {
        "id": "1bDjrDDDEN6Y",
        "colab": {
          "base_uri": "https://localhost:8080/",
          "height": 206
        },
        "outputId": "b3b40d87-17bc-4272-c93c-fdf75034b205"
      },
      "execution_count": 13,
      "outputs": [
        {
          "output_type": "execute_result",
          "data": {
            "text/plain": [
              "          lemma                         labels  \\\n",
              "0         masör                    masörlerdim   \n",
              "1    kışkırtmak               kışkırtmış mıyım   \n",
              "2         küçük               küçük değildiler   \n",
              "3        Yahudi                    Yahudimizin   \n",
              "4  bitirttirmek  bitirttirecek olacak mıymışım   \n",
              "\n",
              "                             features  \\\n",
              "0                    N;ARGNO1S;PL;PST   \n",
              "1        V;SG;1;POS;PST;INTR;LGSPEC03   \n",
              "2      ADJ;DECL;PL;3;NEG;PST;LGSPEC01   \n",
              "3                      N;GEN;SG;PSS1P   \n",
              "4  V;PROSP;SG;1;POS;FUT;INTR;LGSPEC03   \n",
              "\n",
              "                                            inputs  \n",
              "0                           masör N;ARGNO1S;PL;PST  \n",
              "1          kışkırtmak V;SG;1;POS;PST;INTR;LGSPEC03  \n",
              "2             küçük ADJ;DECL;PL;3;NEG;PST;LGSPEC01  \n",
              "3                            Yahudi N;GEN;SG;PSS1P  \n",
              "4  bitirttirmek V;PROSP;SG;1;POS;FUT;INTR;LGSPEC03  "
            ],
            "text/html": [
              "\n",
              "  <div id=\"df-5a20e945-b97a-4695-b371-2ef9e10a8a40\">\n",
              "    <div class=\"colab-df-container\">\n",
              "      <div>\n",
              "<style scoped>\n",
              "    .dataframe tbody tr th:only-of-type {\n",
              "        vertical-align: middle;\n",
              "    }\n",
              "\n",
              "    .dataframe tbody tr th {\n",
              "        vertical-align: top;\n",
              "    }\n",
              "\n",
              "    .dataframe thead th {\n",
              "        text-align: right;\n",
              "    }\n",
              "</style>\n",
              "<table border=\"1\" class=\"dataframe\">\n",
              "  <thead>\n",
              "    <tr style=\"text-align: right;\">\n",
              "      <th></th>\n",
              "      <th>lemma</th>\n",
              "      <th>labels</th>\n",
              "      <th>features</th>\n",
              "      <th>inputs</th>\n",
              "    </tr>\n",
              "  </thead>\n",
              "  <tbody>\n",
              "    <tr>\n",
              "      <th>0</th>\n",
              "      <td>masör</td>\n",
              "      <td>masörlerdim</td>\n",
              "      <td>N;ARGNO1S;PL;PST</td>\n",
              "      <td>masör N;ARGNO1S;PL;PST</td>\n",
              "    </tr>\n",
              "    <tr>\n",
              "      <th>1</th>\n",
              "      <td>kışkırtmak</td>\n",
              "      <td>kışkırtmış mıyım</td>\n",
              "      <td>V;SG;1;POS;PST;INTR;LGSPEC03</td>\n",
              "      <td>kışkırtmak V;SG;1;POS;PST;INTR;LGSPEC03</td>\n",
              "    </tr>\n",
              "    <tr>\n",
              "      <th>2</th>\n",
              "      <td>küçük</td>\n",
              "      <td>küçük değildiler</td>\n",
              "      <td>ADJ;DECL;PL;3;NEG;PST;LGSPEC01</td>\n",
              "      <td>küçük ADJ;DECL;PL;3;NEG;PST;LGSPEC01</td>\n",
              "    </tr>\n",
              "    <tr>\n",
              "      <th>3</th>\n",
              "      <td>Yahudi</td>\n",
              "      <td>Yahudimizin</td>\n",
              "      <td>N;GEN;SG;PSS1P</td>\n",
              "      <td>Yahudi N;GEN;SG;PSS1P</td>\n",
              "    </tr>\n",
              "    <tr>\n",
              "      <th>4</th>\n",
              "      <td>bitirttirmek</td>\n",
              "      <td>bitirttirecek olacak mıymışım</td>\n",
              "      <td>V;PROSP;SG;1;POS;FUT;INTR;LGSPEC03</td>\n",
              "      <td>bitirttirmek V;PROSP;SG;1;POS;FUT;INTR;LGSPEC03</td>\n",
              "    </tr>\n",
              "  </tbody>\n",
              "</table>\n",
              "</div>\n",
              "      <button class=\"colab-df-convert\" onclick=\"convertToInteractive('df-5a20e945-b97a-4695-b371-2ef9e10a8a40')\"\n",
              "              title=\"Convert this dataframe to an interactive table.\"\n",
              "              style=\"display:none;\">\n",
              "        \n",
              "  <svg xmlns=\"http://www.w3.org/2000/svg\" height=\"24px\"viewBox=\"0 0 24 24\"\n",
              "       width=\"24px\">\n",
              "    <path d=\"M0 0h24v24H0V0z\" fill=\"none\"/>\n",
              "    <path d=\"M18.56 5.44l.94 2.06.94-2.06 2.06-.94-2.06-.94-.94-2.06-.94 2.06-2.06.94zm-11 1L8.5 8.5l.94-2.06 2.06-.94-2.06-.94L8.5 2.5l-.94 2.06-2.06.94zm10 10l.94 2.06.94-2.06 2.06-.94-2.06-.94-.94-2.06-.94 2.06-2.06.94z\"/><path d=\"M17.41 7.96l-1.37-1.37c-.4-.4-.92-.59-1.43-.59-.52 0-1.04.2-1.43.59L10.3 9.45l-7.72 7.72c-.78.78-.78 2.05 0 2.83L4 21.41c.39.39.9.59 1.41.59.51 0 1.02-.2 1.41-.59l7.78-7.78 2.81-2.81c.8-.78.8-2.07 0-2.86zM5.41 20L4 18.59l7.72-7.72 1.47 1.35L5.41 20z\"/>\n",
              "  </svg>\n",
              "      </button>\n",
              "      \n",
              "  <style>\n",
              "    .colab-df-container {\n",
              "      display:flex;\n",
              "      flex-wrap:wrap;\n",
              "      gap: 12px;\n",
              "    }\n",
              "\n",
              "    .colab-df-convert {\n",
              "      background-color: #E8F0FE;\n",
              "      border: none;\n",
              "      border-radius: 50%;\n",
              "      cursor: pointer;\n",
              "      display: none;\n",
              "      fill: #1967D2;\n",
              "      height: 32px;\n",
              "      padding: 0 0 0 0;\n",
              "      width: 32px;\n",
              "    }\n",
              "\n",
              "    .colab-df-convert:hover {\n",
              "      background-color: #E2EBFA;\n",
              "      box-shadow: 0px 1px 2px rgba(60, 64, 67, 0.3), 0px 1px 3px 1px rgba(60, 64, 67, 0.15);\n",
              "      fill: #174EA6;\n",
              "    }\n",
              "\n",
              "    [theme=dark] .colab-df-convert {\n",
              "      background-color: #3B4455;\n",
              "      fill: #D2E3FC;\n",
              "    }\n",
              "\n",
              "    [theme=dark] .colab-df-convert:hover {\n",
              "      background-color: #434B5C;\n",
              "      box-shadow: 0px 1px 3px 1px rgba(0, 0, 0, 0.15);\n",
              "      filter: drop-shadow(0px 1px 2px rgba(0, 0, 0, 0.3));\n",
              "      fill: #FFFFFF;\n",
              "    }\n",
              "  </style>\n",
              "\n",
              "      <script>\n",
              "        const buttonEl =\n",
              "          document.querySelector('#df-5a20e945-b97a-4695-b371-2ef9e10a8a40 button.colab-df-convert');\n",
              "        buttonEl.style.display =\n",
              "          google.colab.kernel.accessAllowed ? 'block' : 'none';\n",
              "\n",
              "        async function convertToInteractive(key) {\n",
              "          const element = document.querySelector('#df-5a20e945-b97a-4695-b371-2ef9e10a8a40');\n",
              "          const dataTable =\n",
              "            await google.colab.kernel.invokeFunction('convertToInteractive',\n",
              "                                                     [key], {});\n",
              "          if (!dataTable) return;\n",
              "\n",
              "          const docLinkHtml = 'Like what you see? Visit the ' +\n",
              "            '<a target=\"_blank\" href=https://colab.research.google.com/notebooks/data_table.ipynb>data table notebook</a>'\n",
              "            + ' to learn more about interactive tables.';\n",
              "          element.innerHTML = '';\n",
              "          dataTable['output_type'] = 'display_data';\n",
              "          await google.colab.output.renderOutput(dataTable, element);\n",
              "          const docLink = document.createElement('div');\n",
              "          docLink.innerHTML = docLinkHtml;\n",
              "          element.appendChild(docLink);\n",
              "        }\n",
              "      </script>\n",
              "    </div>\n",
              "  </div>\n",
              "  "
            ]
          },
          "metadata": {},
          "execution_count": 13
        }
      ]
    },
    {
      "cell_type": "code",
      "execution_count": 14,
      "metadata": {
        "id": "hANUctZvo9Jp"
      },
      "outputs": [],
      "source": [
        "device = torch.device(\"cuda\") if torch.cuda.is_available() else torch.device(\"cpu\")"
      ]
    },
    {
      "cell_type": "code",
      "source": [
        "tokenizer_ger = get_tokenizer(model_name)\n",
        "tokenizer_tur = get_tokenizer(model_name)"
      ],
      "metadata": {
        "id": "1XcLhLVtDths",
        "colab": {
          "base_uri": "https://localhost:8080/",
          "height": 113,
          "referenced_widgets": [
            "eed098d26e134b4db433fdafdd2f5251",
            "0d7c2689d4d94187839dd2d46f97d8e5",
            "47131341c4604f3b91c375c1594cda56",
            "3fd7bd728fe3446bb4e7a12a78970017",
            "c55ecac638e147d4bf710b1651a794bf",
            "d22637037ba748df9169b87940f0891a",
            "517d42273335433396ae62fd224bdb82",
            "04e3cb8c166846a28a89665ddd5db590",
            "712732a71af746d79f23b72be7c84afb",
            "d25f83bb34a94c78a2d2630c12b7e417",
            "4acadb521a1c491e9fea57f08e445fe2",
            "73533665c99c42ffab8b8d7c9446ba5e",
            "6071de22cf8f438b9e6f4bb91e1bbd4c",
            "3cb2bcca7c2d4619a38f865c32eece54",
            "849ea8aff7374e3ab7034bbc09d82014",
            "95b575cd5315478a82bf0fb3937b8e67",
            "150fa950497f42b784d2494311ad9bd8",
            "94027dcc822d4c19beeae6763ec16d08",
            "5b63d6b5cee54180ac798be6c0942334",
            "6acf550a39e34788b39d820a070a8020",
            "56cbaca1369a409cb6eabc4728167f99",
            "550a35cd9cbb4fb6ac1fa1664f5411e3",
            "0ec847dbb2a2474a863a83929c297bd4",
            "25f0d7efb61f4fbe8ef32102f1fe0bf0",
            "5fd6bda34a484185a2544b3d0063059d",
            "203c7c7736184ea0bbf97294f42b2b5f",
            "0eacc2ad181a482a9b94d6f78e52657e",
            "ff505491cb6e49268751815ed63e31b4",
            "4a99f89e133e42f1bd0e0d7bb50be9eb",
            "a3b03c18ec924903893336837ae09be5",
            "ff0103a7dd8f4bcf80e1eaba862065f4",
            "37eb1a354e4445119e76a5b502195b19",
            "c40d8cd7944d41f1acf0d7acff5263ed"
          ]
        },
        "outputId": "bb29080e-ed4a-465d-bc03-0d9b39712249"
      },
      "execution_count": 15,
      "outputs": [
        {
          "output_type": "display_data",
          "data": {
            "text/plain": [
              "Downloading (…)okenizer_config.json:   0%|          | 0.00/2.59k [00:00<?, ?B/s]"
            ],
            "application/vnd.jupyter.widget-view+json": {
              "version_major": 2,
              "version_minor": 0,
              "model_id": "eed098d26e134b4db433fdafdd2f5251"
            }
          },
          "metadata": {}
        },
        {
          "output_type": "display_data",
          "data": {
            "text/plain": [
              "Downloading (…)lve/main/config.json:   0%|          | 0.00/698 [00:00<?, ?B/s]"
            ],
            "application/vnd.jupyter.widget-view+json": {
              "version_major": 2,
              "version_minor": 0,
              "model_id": "73533665c99c42ffab8b8d7c9446ba5e"
            }
          },
          "metadata": {}
        },
        {
          "output_type": "display_data",
          "data": {
            "text/plain": [
              "Downloading (…)cial_tokens_map.json:   0%|          | 0.00/2.50k [00:00<?, ?B/s]"
            ],
            "application/vnd.jupyter.widget-view+json": {
              "version_major": 2,
              "version_minor": 0,
              "model_id": "0ec847dbb2a2474a863a83929c297bd4"
            }
          },
          "metadata": {}
        }
      ]
    },
    {
      "cell_type": "code",
      "source": [
        "tokenizer_tur.save_pretrained(os.path.join(dir_project, \"saved_tokenizer_tur\"))\n",
        "tokenizer_ger.save_pretrained(os.path.join(dir_project, \"saved_tokenizer_ger\"))"
      ],
      "metadata": {
        "colab": {
          "base_uri": "https://localhost:8080/"
        },
        "id": "DoXzTKjVRu1a",
        "outputId": "6e42cf10-f09b-4219-8f1c-6a93e846dbf6"
      },
      "execution_count": 16,
      "outputs": [
        {
          "output_type": "execute_result",
          "data": {
            "text/plain": [
              "('drive/MyDrive/NLP_code_notebooks/project/saved_tokenizer_ger/tokenizer_config.json',\n",
              " 'drive/MyDrive/NLP_code_notebooks/project/saved_tokenizer_ger/special_tokens_map.json',\n",
              " 'drive/MyDrive/NLP_code_notebooks/project/saved_tokenizer_ger/added_tokens.json')"
            ]
          },
          "metadata": {},
          "execution_count": 16
        }
      ]
    },
    {
      "cell_type": "code",
      "source": [
        "tokenized_train_ger, tokenized_valid_ger, tokenized_test_ger = get_tokenized_data(tokenizer_ger, df_train_ger, df_valid_ger, df_test_ger)"
      ],
      "metadata": {
        "id": "iWfHK8qtwW4-"
      },
      "execution_count": 17,
      "outputs": []
    },
    {
      "cell_type": "code",
      "source": [
        "tokenized_train_tur, tokenized_valid_tur, tokenized_test_tur = get_tokenized_data(tokenizer_tur, df_train_tur, df_valid_tur, df_test_tur)"
      ],
      "metadata": {
        "id": "JwK82kXxj6Ke"
      },
      "execution_count": 18,
      "outputs": []
    },
    {
      "cell_type": "code",
      "execution_count": 19,
      "metadata": {
        "colab": {
          "base_uri": "https://localhost:8080/"
        },
        "id": "ZHwF6OGRo9Jq",
        "outputId": "d923145c-4a7d-47bb-f6fa-b72fdcd93a3c"
      },
      "outputs": [
        {
          "output_type": "execute_result",
          "data": {
            "text/plain": [
              "{'input_ids': tensor([[ 83, 111, 198,  ...,   0,   0,   0],\n",
              "         [ 78, 100, 118,  ...,   0,   0,   0],\n",
              "         [ 79, 108, 113,  ...,   0,   0,   0],\n",
              "         ...,\n",
              "         [ 80, 108, 119,  ...,   0,   0,   0],\n",
              "         [ 86, 119, 100,  ...,   0,   0,   0],\n",
              "         [ 85, 120, 103,  ...,   0,   0,   0]]),\n",
              " 'attention_mask': tensor([[1, 1, 1,  ..., 0, 0, 0],\n",
              "         [1, 1, 1,  ..., 0, 0, 0],\n",
              "         [1, 1, 1,  ..., 0, 0, 0],\n",
              "         ...,\n",
              "         [1, 1, 1,  ..., 0, 0, 0],\n",
              "         [1, 1, 1,  ..., 0, 0, 0],\n",
              "         [1, 1, 1,  ..., 0, 0, 0]]),\n",
              " 'labels': tensor([[ 83, 111, 198,  ...,   0,   0,   0],\n",
              "         [ 78, 100, 118,  ...,   0,   0,   0],\n",
              "         [ 79, 108, 113,  ...,   0,   0,   0],\n",
              "         ...,\n",
              "         [ 80, 108, 119,  ...,   0,   0,   0],\n",
              "         [ 86, 119, 100,  ...,   0,   0,   0],\n",
              "         [ 85, 120, 103,  ...,   0,   0,   0]])}"
            ]
          },
          "metadata": {},
          "execution_count": 19
        }
      ],
      "source": [
        "tokenized_train_ger"
      ]
    },
    {
      "cell_type": "code",
      "source": [
        "tokenized_train_tur"
      ],
      "metadata": {
        "colab": {
          "base_uri": "https://localhost:8080/"
        },
        "id": "-dqTWClEj_DM",
        "outputId": "a71679a6-ce1b-45ae-9d38-1e56fdde9956"
      },
      "execution_count": 20,
      "outputs": [
        {
          "output_type": "execute_result",
          "data": {
            "text/plain": [
              "{'input_ids': tensor([[112, 100, 118,  ...,   0,   0,   0],\n",
              "         [110, 199, 180,  ...,   0,   0,   0],\n",
              "         [110, 198, 191,  ...,   0,   0,   0],\n",
              "         ...,\n",
              "         [106, 198, 185,  ...,   0,   0,   0],\n",
              "         [101, 120, 117,  ...,   0,   0,   0],\n",
              "         [110, 100, 111,  ...,   0,   0,   0]]),\n",
              " 'attention_mask': tensor([[1, 1, 1,  ..., 0, 0, 0],\n",
              "         [1, 1, 1,  ..., 0, 0, 0],\n",
              "         [1, 1, 1,  ..., 0, 0, 0],\n",
              "         ...,\n",
              "         [1, 1, 1,  ..., 0, 0, 0],\n",
              "         [1, 1, 1,  ..., 0, 0, 0],\n",
              "         [1, 1, 1,  ..., 0, 0, 0]]),\n",
              " 'labels': tensor([[112, 100, 118,  ...,   0,   0,   0],\n",
              "         [110, 199, 180,  ...,   0,   0,   0],\n",
              "         [110, 198, 191,  ...,   0,   0,   0],\n",
              "         ...,\n",
              "         [106, 198, 185,  ...,   0,   0,   0],\n",
              "         [101, 120, 117,  ...,   0,   0,   0],\n",
              "         [110, 100, 111,  ...,   0,   0,   0]])}"
            ]
          },
          "metadata": {},
          "execution_count": 20
        }
      ]
    },
    {
      "cell_type": "markdown",
      "metadata": {
        "id": "cwB6NQyHo9Jq"
      },
      "source": [
        "## Fine-tuning the pretrained model for the German dataset"
      ]
    },
    {
      "cell_type": "code",
      "source": [
        "import torch\n",
        "from transformers import T5ForConditionalGeneration"
      ],
      "metadata": {
        "id": "oOycdLp4Abe7"
      },
      "execution_count": null,
      "outputs": []
    },
    {
      "cell_type": "code",
      "source": [
        "dir_path_model_ger = os.path.join(dir_project, \"saved_model_fine_ger_new\")\n",
        "if not os.path.isdir(dir_path_model_ger):\n",
        "  os.makedirs(dir_path_model_ger)"
      ],
      "metadata": {
        "id": "-Gh57IUdEnRo"
      },
      "execution_count": null,
      "outputs": []
    },
    {
      "cell_type": "code",
      "source": [
        "model_fine_ger = get_byt5_model(device, model_name)"
      ],
      "metadata": {
        "id": "Ii87jFOrgwtc"
      },
      "execution_count": null,
      "outputs": []
    },
    {
      "cell_type": "code",
      "source": [
        "optimizer_fine_ger = get_optimizer(model_fine_ger, learning_rate)"
      ],
      "metadata": {
        "id": "6thaHaRRGSVc"
      },
      "execution_count": null,
      "outputs": []
    },
    {
      "cell_type": "code",
      "source": [
        "train_dataloader_ger = get_dataloader(tokenized_train_ger, batch_size=batch_size)\n",
        "valid_dataloader_ger = get_dataloader(tokenized_valid_ger, batch_size=1, shuffle=False)"
      ],
      "metadata": {
        "id": "ikr8VJPuxu51",
        "colab": {
          "base_uri": "https://localhost:8080/"
        },
        "outputId": "f4678c51-e9aa-4f61-d9d4-eca19a205be5"
      },
      "execution_count": null,
      "outputs": [
        {
          "output_type": "stream",
          "name": "stderr",
          "text": [
            "/usr/local/lib/python3.9/dist-packages/torch/utils/data/dataloader.py:561: UserWarning: This DataLoader will create 4 worker processes in total. Our suggested max number of worker in current system is 2, which is smaller than what this DataLoader is going to create. Please be aware that excessive worker creation might get DataLoader running slow or even freeze, lower the worker number to avoid potential slowness/freeze if necessary.\n",
            "  warnings.warn(_create_warning_msg(\n"
          ]
        }
      ]
    },
    {
      "cell_type": "code",
      "source": [
        "list_train_losses_fine_ger, list_valid_losses_fine_ger = [], []\n",
        "list_train_losses_fine_ger, list_valid_losses_fine_ger = train_validation_loop(model_fine_ger, \n",
        "                                                                               train_dataloader_ger, \n",
        "                                                                               valid_dataloader_ger, \n",
        "                                                                               optimizer_fine_ger, \n",
        "                                                                               device, \n",
        "                                                                               dir_path_model_ger, \n",
        "                                                                               num_epochs=num_epochs)\n",
        "np.save(os.path.join(dir_project, \"train_losses_fine_ger.npy\"), np.array(list_train_losses_fine_ger))\n",
        "np.save(os.path.join(dir_project, \"valid_losses_fine_ger.npy\"), np.array(list_valid_losses_fine_ger))"
      ],
      "metadata": {
        "id": "1u4pergDxilv",
        "colab": {
          "base_uri": "https://localhost:8080/"
        },
        "outputId": "0a5d6afb-4ed8-4563-bfd2-6e529c693fe8"
      },
      "execution_count": null,
      "outputs": [
        {
          "output_type": "stream",
          "name": "stdout",
          "text": [
            "epoch: 1 / 50, train loss: 35.1419, validation loss: 17.3433\n",
            "epoch: 2 / 50, train loss: 12.8769, validation loss: 4.0278\n",
            "epoch: 3 / 50, train loss: 4.2891, validation loss: 3.5307\n",
            "epoch: 4 / 50, train loss: 3.6173, validation loss: 2.9870\n",
            "epoch: 5 / 50, train loss: 3.0373, validation loss: 2.1625\n",
            "epoch: 6 / 50, train loss: 2.0979, validation loss: 0.8594\n",
            "epoch: 7 / 50, train loss: 0.8113, validation loss: 0.1864\n",
            "epoch: 8 / 50, train loss: 0.3339, validation loss: 0.1204\n",
            "epoch: 9 / 50, train loss: 0.2314, validation loss: 0.0991\n",
            "epoch: 10 / 50, train loss: 0.1700, validation loss: 0.0877\n",
            "epoch: 11 / 50, train loss: 0.1565, validation loss: 0.0856\n",
            "epoch: 12 / 50, train loss: 0.1402, validation loss: 0.0700\n",
            "epoch: 13 / 50, train loss: 0.1241, validation loss: 0.0608\n",
            "epoch: 14 / 50, train loss: 0.1068, validation loss: 0.0591\n",
            "epoch: 15 / 50, train loss: 0.0986, validation loss: 0.0540\n",
            "epoch: 16 / 50, train loss: 0.0954, validation loss: 0.0499\n",
            "epoch: 17 / 50, train loss: 0.0878, validation loss: 0.0484\n",
            "epoch: 18 / 50, train loss: 0.0844, validation loss: 0.0461\n",
            "epoch: 19 / 50, train loss: 0.0726, validation loss: 0.0461\n",
            "epoch: 20 / 50, train loss: 0.0709, validation loss: 0.0464\n",
            "epoch: 21 / 50, train loss: 0.0697, validation loss: 0.0501\n",
            "epoch: 22 / 50, train loss: 0.0623, validation loss: 0.0431\n",
            "epoch: 23 / 50, train loss: 0.0551, validation loss: 0.0427\n",
            "epoch: 24 / 50, train loss: 0.0541, validation loss: 0.0422\n",
            "epoch: 25 / 50, train loss: 0.0532, validation loss: 0.0412\n",
            "epoch: 26 / 50, train loss: 0.0501, validation loss: 0.0410\n",
            "epoch: 27 / 50, train loss: 0.0504, validation loss: 0.0413\n",
            "epoch: 28 / 50, train loss: 0.0511, validation loss: 0.0413\n",
            "epoch: 29 / 50, train loss: 0.0458, validation loss: 0.0413\n",
            "epoch: 30 / 50, train loss: 0.0417, validation loss: 0.0410\n",
            "epoch: 31 / 50, train loss: 0.0411, validation loss: 0.0413\n",
            "epoch: 32 / 50, train loss: 0.0393, validation loss: 0.0412\n",
            "epoch: 33 / 50, train loss: 0.0372, validation loss: 0.0418\n",
            "epoch: 34 / 50, train loss: 0.0356, validation loss: 0.0425\n",
            "epoch: 35 / 50, train loss: 0.0317, validation loss: 0.0428\n",
            "epoch: 36 / 50, train loss: 0.0348, validation loss: 0.0434\n",
            "epoch: 37 / 50, train loss: 0.0347, validation loss: 0.0450\n",
            "epoch: 38 / 50, train loss: 0.0286, validation loss: 0.0435\n",
            "epoch: 39 / 50, train loss: 0.0325, validation loss: 0.0443\n",
            "epoch: 40 / 50, train loss: 0.0303, validation loss: 0.0438\n",
            "epoch: 41 / 50, train loss: 0.0275, validation loss: 0.0459\n",
            "epoch: 42 / 50, train loss: 0.0252, validation loss: 0.0454\n",
            "epoch: 43 / 50, train loss: 0.0233, validation loss: 0.0459\n",
            "epoch: 44 / 50, train loss: 0.0248, validation loss: 0.0483\n",
            "epoch: 45 / 50, train loss: 0.0269, validation loss: 0.0495\n",
            "epoch: 46 / 50, train loss: 0.0237, validation loss: 0.0468\n",
            "epoch: 47 / 50, train loss: 0.0239, validation loss: 0.0472\n",
            "epoch: 48 / 50, train loss: 0.0263, validation loss: 0.0485\n",
            "epoch: 49 / 50, train loss: 0.0208, validation loss: 0.0467\n",
            "epoch: 50 / 50, train loss: 0.0216, validation loss: 0.0477\n"
          ]
        }
      ]
    },
    {
      "cell_type": "code",
      "execution_count": null,
      "metadata": {
        "id": "oBVr22Ido9Jr"
      },
      "outputs": [],
      "source": []
    },
    {
      "cell_type": "code",
      "source": [],
      "metadata": {
        "id": "ZUvge-OaG3z5"
      },
      "execution_count": null,
      "outputs": []
    },
    {
      "cell_type": "code",
      "source": [],
      "metadata": {
        "id": "IEBD79GqG3cZ"
      },
      "execution_count": null,
      "outputs": []
    },
    {
      "cell_type": "markdown",
      "source": [
        "## Fine-tuning the pretrained model for the Turkish dataset\n"
      ],
      "metadata": {
        "id": "7KjqgcmQmfjB"
      }
    },
    {
      "cell_type": "code",
      "source": [
        "dir_path_model_tur = os.path.join(dir_project, \"saved_model_fine_tur_latest\")\n",
        "if not os.path.isdir(dir_path_model_tur):\n",
        "  os.makedirs(dir_path_model_tur)"
      ],
      "metadata": {
        "id": "hYIhkrMBrWnc"
      },
      "execution_count": 22,
      "outputs": []
    },
    {
      "cell_type": "code",
      "source": [
        "model_fine_tur = get_byt5_model(device, model_name)"
      ],
      "metadata": {
        "colab": {
          "base_uri": "https://localhost:8080/",
          "height": 81,
          "referenced_widgets": [
            "8ad677cc642c451d9a4b058d783108f2",
            "aab5f3562bf2480dba994c9f1f4df047",
            "06514da1fe4445d981e9ad80ffeed934",
            "cae06eac0e9446a9962c40107b95fd81",
            "6befbf9348a942e7b618b9f4b6b85985",
            "031db8bf463543e28ab378a4d5819b3c",
            "a20898425a134a83a0df7f733a974f98",
            "7b678d39cbe444d09ca2c4c4c5e2ef22",
            "b6a73f8c903540209a3f0e78bca25d9c",
            "b005dfc7143f4d2098c975669584c447",
            "09e437fe7225458b90a25a58ac76090e",
            "a2ad37c026034410a72a2322e9b86efc",
            "719302b867224c77b29ed6f79976ca0f",
            "b0f7a95836274cc2a91f19b537946d8c",
            "999f8f9275104e6bac54b5541ffc8a48",
            "3df770fa2b334475b6af3aa1cbaf249b",
            "159216a2dfa343a5a261967ed8faa921",
            "7960fe6cc758497e968e39b9a7d6a33f",
            "bbf481d9a1f94a54bcd854a744fcbe64",
            "66578a061068434d8798c320d38c5739",
            "d80f68e519b84bb7bb90d728e91f3bdd",
            "2139d21b6a724d349f0fde4d60c56077"
          ]
        },
        "id": "qt76_3QNmWy5",
        "outputId": "7b9ebb4d-6113-4ab0-b427-1074f9480c2f"
      },
      "execution_count": 24,
      "outputs": [
        {
          "output_type": "display_data",
          "data": {
            "text/plain": [
              "Downloading pytorch_model.bin:   0%|          | 0.00/1.20G [00:00<?, ?B/s]"
            ],
            "application/vnd.jupyter.widget-view+json": {
              "version_major": 2,
              "version_minor": 0,
              "model_id": "8ad677cc642c451d9a4b058d783108f2"
            }
          },
          "metadata": {}
        },
        {
          "output_type": "display_data",
          "data": {
            "text/plain": [
              "Downloading (…)neration_config.json:   0%|          | 0.00/147 [00:00<?, ?B/s]"
            ],
            "application/vnd.jupyter.widget-view+json": {
              "version_major": 2,
              "version_minor": 0,
              "model_id": "a2ad37c026034410a72a2322e9b86efc"
            }
          },
          "metadata": {}
        }
      ]
    },
    {
      "cell_type": "code",
      "source": [
        "optimizer_fine_tur = get_optimizer(model_fine_tur, learning_rate)"
      ],
      "metadata": {
        "id": "XfFMUtx8G22K"
      },
      "execution_count": 25,
      "outputs": []
    },
    {
      "cell_type": "code",
      "source": [
        "train_dataloader_tur = get_dataloader(tokenized_train_tur, batch_size=batch_size)\n",
        "valid_dataloader_tur = get_dataloader(tokenized_valid_tur, batch_size=1, shuffle=False)"
      ],
      "metadata": {
        "colab": {
          "base_uri": "https://localhost:8080/"
        },
        "id": "Oo1fDsmWF3ZX",
        "outputId": "65586c24-79b3-41e9-9386-c2949d935187"
      },
      "execution_count": 26,
      "outputs": [
        {
          "output_type": "stream",
          "name": "stderr",
          "text": [
            "/usr/local/lib/python3.9/dist-packages/torch/utils/data/dataloader.py:561: UserWarning: This DataLoader will create 4 worker processes in total. Our suggested max number of worker in current system is 2, which is smaller than what this DataLoader is going to create. Please be aware that excessive worker creation might get DataLoader running slow or even freeze, lower the worker number to avoid potential slowness/freeze if necessary.\n",
            "  warnings.warn(_create_warning_msg(\n"
          ]
        }
      ]
    },
    {
      "cell_type": "code",
      "source": [
        "list_train_losses_fine_tur, list_valid_losses_fine_tur = [], []\n",
        "list_train_losses_fine_tur, list_valid_losses_fine_tur = train_validation_loop(model_fine_tur, \n",
        "                                                                               train_dataloader_tur, \n",
        "                                                                               valid_dataloader_tur, \n",
        "                                                                               optimizer_fine_tur, \n",
        "                                                                               device, \n",
        "                                                                               dir_path_model_tur, \n",
        "                                                                               num_epochs=num_epochs)\n",
        "np.save(os.path.join(dir_project, \"train_losses_fine_tur.npy\"), np.array(list_train_losses_fine_tur))\n",
        "np.save(os.path.join(dir_project, \"valid_losses_fine_tur.npy\"), np.array(list_valid_losses_fine_tur))"
      ],
      "metadata": {
        "id": "6ZJwMO1rr19V",
        "colab": {
          "base_uri": "https://localhost:8080/"
        },
        "outputId": "846b7869-dddf-4371-8692-653af09cb7e9"
      },
      "execution_count": 27,
      "outputs": [
        {
          "output_type": "stream",
          "name": "stdout",
          "text": [
            "epoch: 1 / 50, train loss: 5.0631, validation loss: 0.2509\n",
            "epoch: 2 / 50, train loss: 0.2683, validation loss: 0.1674\n",
            "epoch: 3 / 50, train loss: 0.1920, validation loss: 0.1522\n",
            "epoch: 4 / 50, train loss: 0.1653, validation loss: 0.1362\n",
            "epoch: 5 / 50, train loss: 0.1411, validation loss: 0.1052\n",
            "epoch: 6 / 50, train loss: 0.1082, validation loss: 0.0806\n",
            "epoch: 7 / 50, train loss: 0.0804, validation loss: 0.0512\n",
            "epoch: 8 / 50, train loss: 0.0549, validation loss: 0.0337\n",
            "epoch: 9 / 50, train loss: 0.0361, validation loss: 0.0195\n",
            "epoch: 10 / 50, train loss: 0.0256, validation loss: 0.0157\n",
            "epoch: 11 / 50, train loss: 0.0189, validation loss: 0.0128\n",
            "epoch: 12 / 50, train loss: 0.0147, validation loss: 0.0111\n",
            "epoch: 13 / 50, train loss: 0.0117, validation loss: 0.0112\n",
            "epoch: 14 / 50, train loss: 0.0098, validation loss: 0.0100\n",
            "epoch: 15 / 50, train loss: 0.0088, validation loss: 0.0083\n",
            "epoch: 16 / 50, train loss: 0.0074, validation loss: 0.0089\n",
            "epoch: 17 / 50, train loss: 0.0061, validation loss: 0.0076\n",
            "epoch: 18 / 50, train loss: 0.0060, validation loss: 0.0066\n",
            "epoch: 19 / 50, train loss: 0.0058, validation loss: 0.0093\n",
            "epoch: 20 / 50, train loss: 0.0049, validation loss: 0.0084\n",
            "epoch: 21 / 50, train loss: 0.0036, validation loss: 0.0088\n",
            "epoch: 22 / 50, train loss: 0.0037, validation loss: 0.0096\n",
            "epoch: 23 / 50, train loss: 0.0031, validation loss: 0.0111\n",
            "epoch: 24 / 50, train loss: 0.0029, validation loss: 0.0082\n",
            "epoch: 25 / 50, train loss: 0.0030, validation loss: 0.0085\n",
            "epoch: 26 / 50, train loss: 0.0027, validation loss: 0.0093\n",
            "epoch: 27 / 50, train loss: 0.0018, validation loss: 0.0095\n",
            "epoch: 28 / 50, train loss: 0.0018, validation loss: 0.0105\n",
            "epoch: 29 / 50, train loss: 0.0023, validation loss: 0.0082\n",
            "epoch: 30 / 50, train loss: 0.0024, validation loss: 0.0079\n",
            "epoch: 31 / 50, train loss: 0.0019, validation loss: 0.0063\n",
            "epoch: 32 / 50, train loss: 0.0018, validation loss: 0.0069\n",
            "epoch: 33 / 50, train loss: 0.0018, validation loss: 0.0088\n",
            "epoch: 34 / 50, train loss: 0.0017, validation loss: 0.0079\n",
            "epoch: 35 / 50, train loss: 0.0017, validation loss: 0.0069\n",
            "epoch: 36 / 50, train loss: 0.0015, validation loss: 0.0090\n",
            "epoch: 37 / 50, train loss: 0.0013, validation loss: 0.0075\n",
            "epoch: 38 / 50, train loss: 0.0014, validation loss: 0.0101\n",
            "epoch: 39 / 50, train loss: 0.0017, validation loss: 0.0078\n",
            "epoch: 40 / 50, train loss: 0.0010, validation loss: 0.0090\n",
            "epoch: 41 / 50, train loss: 0.0017, validation loss: 0.0070\n",
            "epoch: 42 / 50, train loss: 0.0011, validation loss: 0.0087\n",
            "epoch: 43 / 50, train loss: 0.0011, validation loss: 0.0082\n",
            "epoch: 44 / 50, train loss: 0.0010, validation loss: 0.0093\n",
            "epoch: 45 / 50, train loss: 0.0013, validation loss: 0.0074\n",
            "epoch: 46 / 50, train loss: 0.0009, validation loss: 0.0066\n",
            "epoch: 47 / 50, train loss: 0.0011, validation loss: 0.0072\n",
            "epoch: 48 / 50, train loss: 0.0011, validation loss: 0.0070\n",
            "epoch: 49 / 50, train loss: 0.0008, validation loss: 0.0073\n",
            "epoch: 50 / 50, train loss: 0.0011, validation loss: 0.0087\n"
          ]
        }
      ]
    },
    {
      "cell_type": "code",
      "source": [],
      "metadata": {
        "id": "5Clw3UKxGJsk"
      },
      "execution_count": null,
      "outputs": []
    },
    {
      "cell_type": "code",
      "source": [],
      "metadata": {
        "id": "C0_mTFlNGJYM"
      },
      "execution_count": null,
      "outputs": []
    },
    {
      "cell_type": "code",
      "source": [],
      "metadata": {
        "id": "ZWvBPb9nJuUi"
      },
      "execution_count": null,
      "outputs": []
    }
  ],
  "metadata": {
    "kernelspec": {
      "display_name": "nlp_project",
      "language": "python",
      "name": "python3"
    },
    "language_info": {
      "codemirror_mode": {
        "name": "ipython",
        "version": 3
      },
      "file_extension": ".py",
      "mimetype": "text/x-python",
      "name": "python",
      "nbconvert_exporter": "python",
      "pygments_lexer": "ipython3",
      "version": "3.10.9"
    },
    "orig_nbformat": 4,
    "vscode": {
      "interpreter": {
        "hash": "da982d180a07211c2fcb2e20ea1814d29d4c51e17f67c3847e86fccf77d47621"
      }
    },
    "colab": {
      "provenance": [],
      "gpuType": "T4"
    },
    "accelerator": "GPU",
    "gpuClass": "standard",
    "widgets": {
      "application/vnd.jupyter.widget-state+json": {
        "eed098d26e134b4db433fdafdd2f5251": {
          "model_module": "@jupyter-widgets/controls",
          "model_name": "HBoxModel",
          "model_module_version": "1.5.0",
          "state": {
            "_dom_classes": [],
            "_model_module": "@jupyter-widgets/controls",
            "_model_module_version": "1.5.0",
            "_model_name": "HBoxModel",
            "_view_count": null,
            "_view_module": "@jupyter-widgets/controls",
            "_view_module_version": "1.5.0",
            "_view_name": "HBoxView",
            "box_style": "",
            "children": [
              "IPY_MODEL_0d7c2689d4d94187839dd2d46f97d8e5",
              "IPY_MODEL_47131341c4604f3b91c375c1594cda56",
              "IPY_MODEL_3fd7bd728fe3446bb4e7a12a78970017"
            ],
            "layout": "IPY_MODEL_c55ecac638e147d4bf710b1651a794bf"
          }
        },
        "0d7c2689d4d94187839dd2d46f97d8e5": {
          "model_module": "@jupyter-widgets/controls",
          "model_name": "HTMLModel",
          "model_module_version": "1.5.0",
          "state": {
            "_dom_classes": [],
            "_model_module": "@jupyter-widgets/controls",
            "_model_module_version": "1.5.0",
            "_model_name": "HTMLModel",
            "_view_count": null,
            "_view_module": "@jupyter-widgets/controls",
            "_view_module_version": "1.5.0",
            "_view_name": "HTMLView",
            "description": "",
            "description_tooltip": null,
            "layout": "IPY_MODEL_d22637037ba748df9169b87940f0891a",
            "placeholder": "​",
            "style": "IPY_MODEL_517d42273335433396ae62fd224bdb82",
            "value": "Downloading (…)okenizer_config.json: 100%"
          }
        },
        "47131341c4604f3b91c375c1594cda56": {
          "model_module": "@jupyter-widgets/controls",
          "model_name": "FloatProgressModel",
          "model_module_version": "1.5.0",
          "state": {
            "_dom_classes": [],
            "_model_module": "@jupyter-widgets/controls",
            "_model_module_version": "1.5.0",
            "_model_name": "FloatProgressModel",
            "_view_count": null,
            "_view_module": "@jupyter-widgets/controls",
            "_view_module_version": "1.5.0",
            "_view_name": "ProgressView",
            "bar_style": "success",
            "description": "",
            "description_tooltip": null,
            "layout": "IPY_MODEL_04e3cb8c166846a28a89665ddd5db590",
            "max": 2593,
            "min": 0,
            "orientation": "horizontal",
            "style": "IPY_MODEL_712732a71af746d79f23b72be7c84afb",
            "value": 2593
          }
        },
        "3fd7bd728fe3446bb4e7a12a78970017": {
          "model_module": "@jupyter-widgets/controls",
          "model_name": "HTMLModel",
          "model_module_version": "1.5.0",
          "state": {
            "_dom_classes": [],
            "_model_module": "@jupyter-widgets/controls",
            "_model_module_version": "1.5.0",
            "_model_name": "HTMLModel",
            "_view_count": null,
            "_view_module": "@jupyter-widgets/controls",
            "_view_module_version": "1.5.0",
            "_view_name": "HTMLView",
            "description": "",
            "description_tooltip": null,
            "layout": "IPY_MODEL_d25f83bb34a94c78a2d2630c12b7e417",
            "placeholder": "​",
            "style": "IPY_MODEL_4acadb521a1c491e9fea57f08e445fe2",
            "value": " 2.59k/2.59k [00:00&lt;00:00, 111kB/s]"
          }
        },
        "c55ecac638e147d4bf710b1651a794bf": {
          "model_module": "@jupyter-widgets/base",
          "model_name": "LayoutModel",
          "model_module_version": "1.2.0",
          "state": {
            "_model_module": "@jupyter-widgets/base",
            "_model_module_version": "1.2.0",
            "_model_name": "LayoutModel",
            "_view_count": null,
            "_view_module": "@jupyter-widgets/base",
            "_view_module_version": "1.2.0",
            "_view_name": "LayoutView",
            "align_content": null,
            "align_items": null,
            "align_self": null,
            "border": null,
            "bottom": null,
            "display": null,
            "flex": null,
            "flex_flow": null,
            "grid_area": null,
            "grid_auto_columns": null,
            "grid_auto_flow": null,
            "grid_auto_rows": null,
            "grid_column": null,
            "grid_gap": null,
            "grid_row": null,
            "grid_template_areas": null,
            "grid_template_columns": null,
            "grid_template_rows": null,
            "height": null,
            "justify_content": null,
            "justify_items": null,
            "left": null,
            "margin": null,
            "max_height": null,
            "max_width": null,
            "min_height": null,
            "min_width": null,
            "object_fit": null,
            "object_position": null,
            "order": null,
            "overflow": null,
            "overflow_x": null,
            "overflow_y": null,
            "padding": null,
            "right": null,
            "top": null,
            "visibility": null,
            "width": null
          }
        },
        "d22637037ba748df9169b87940f0891a": {
          "model_module": "@jupyter-widgets/base",
          "model_name": "LayoutModel",
          "model_module_version": "1.2.0",
          "state": {
            "_model_module": "@jupyter-widgets/base",
            "_model_module_version": "1.2.0",
            "_model_name": "LayoutModel",
            "_view_count": null,
            "_view_module": "@jupyter-widgets/base",
            "_view_module_version": "1.2.0",
            "_view_name": "LayoutView",
            "align_content": null,
            "align_items": null,
            "align_self": null,
            "border": null,
            "bottom": null,
            "display": null,
            "flex": null,
            "flex_flow": null,
            "grid_area": null,
            "grid_auto_columns": null,
            "grid_auto_flow": null,
            "grid_auto_rows": null,
            "grid_column": null,
            "grid_gap": null,
            "grid_row": null,
            "grid_template_areas": null,
            "grid_template_columns": null,
            "grid_template_rows": null,
            "height": null,
            "justify_content": null,
            "justify_items": null,
            "left": null,
            "margin": null,
            "max_height": null,
            "max_width": null,
            "min_height": null,
            "min_width": null,
            "object_fit": null,
            "object_position": null,
            "order": null,
            "overflow": null,
            "overflow_x": null,
            "overflow_y": null,
            "padding": null,
            "right": null,
            "top": null,
            "visibility": null,
            "width": null
          }
        },
        "517d42273335433396ae62fd224bdb82": {
          "model_module": "@jupyter-widgets/controls",
          "model_name": "DescriptionStyleModel",
          "model_module_version": "1.5.0",
          "state": {
            "_model_module": "@jupyter-widgets/controls",
            "_model_module_version": "1.5.0",
            "_model_name": "DescriptionStyleModel",
            "_view_count": null,
            "_view_module": "@jupyter-widgets/base",
            "_view_module_version": "1.2.0",
            "_view_name": "StyleView",
            "description_width": ""
          }
        },
        "04e3cb8c166846a28a89665ddd5db590": {
          "model_module": "@jupyter-widgets/base",
          "model_name": "LayoutModel",
          "model_module_version": "1.2.0",
          "state": {
            "_model_module": "@jupyter-widgets/base",
            "_model_module_version": "1.2.0",
            "_model_name": "LayoutModel",
            "_view_count": null,
            "_view_module": "@jupyter-widgets/base",
            "_view_module_version": "1.2.0",
            "_view_name": "LayoutView",
            "align_content": null,
            "align_items": null,
            "align_self": null,
            "border": null,
            "bottom": null,
            "display": null,
            "flex": null,
            "flex_flow": null,
            "grid_area": null,
            "grid_auto_columns": null,
            "grid_auto_flow": null,
            "grid_auto_rows": null,
            "grid_column": null,
            "grid_gap": null,
            "grid_row": null,
            "grid_template_areas": null,
            "grid_template_columns": null,
            "grid_template_rows": null,
            "height": null,
            "justify_content": null,
            "justify_items": null,
            "left": null,
            "margin": null,
            "max_height": null,
            "max_width": null,
            "min_height": null,
            "min_width": null,
            "object_fit": null,
            "object_position": null,
            "order": null,
            "overflow": null,
            "overflow_x": null,
            "overflow_y": null,
            "padding": null,
            "right": null,
            "top": null,
            "visibility": null,
            "width": null
          }
        },
        "712732a71af746d79f23b72be7c84afb": {
          "model_module": "@jupyter-widgets/controls",
          "model_name": "ProgressStyleModel",
          "model_module_version": "1.5.0",
          "state": {
            "_model_module": "@jupyter-widgets/controls",
            "_model_module_version": "1.5.0",
            "_model_name": "ProgressStyleModel",
            "_view_count": null,
            "_view_module": "@jupyter-widgets/base",
            "_view_module_version": "1.2.0",
            "_view_name": "StyleView",
            "bar_color": null,
            "description_width": ""
          }
        },
        "d25f83bb34a94c78a2d2630c12b7e417": {
          "model_module": "@jupyter-widgets/base",
          "model_name": "LayoutModel",
          "model_module_version": "1.2.0",
          "state": {
            "_model_module": "@jupyter-widgets/base",
            "_model_module_version": "1.2.0",
            "_model_name": "LayoutModel",
            "_view_count": null,
            "_view_module": "@jupyter-widgets/base",
            "_view_module_version": "1.2.0",
            "_view_name": "LayoutView",
            "align_content": null,
            "align_items": null,
            "align_self": null,
            "border": null,
            "bottom": null,
            "display": null,
            "flex": null,
            "flex_flow": null,
            "grid_area": null,
            "grid_auto_columns": null,
            "grid_auto_flow": null,
            "grid_auto_rows": null,
            "grid_column": null,
            "grid_gap": null,
            "grid_row": null,
            "grid_template_areas": null,
            "grid_template_columns": null,
            "grid_template_rows": null,
            "height": null,
            "justify_content": null,
            "justify_items": null,
            "left": null,
            "margin": null,
            "max_height": null,
            "max_width": null,
            "min_height": null,
            "min_width": null,
            "object_fit": null,
            "object_position": null,
            "order": null,
            "overflow": null,
            "overflow_x": null,
            "overflow_y": null,
            "padding": null,
            "right": null,
            "top": null,
            "visibility": null,
            "width": null
          }
        },
        "4acadb521a1c491e9fea57f08e445fe2": {
          "model_module": "@jupyter-widgets/controls",
          "model_name": "DescriptionStyleModel",
          "model_module_version": "1.5.0",
          "state": {
            "_model_module": "@jupyter-widgets/controls",
            "_model_module_version": "1.5.0",
            "_model_name": "DescriptionStyleModel",
            "_view_count": null,
            "_view_module": "@jupyter-widgets/base",
            "_view_module_version": "1.2.0",
            "_view_name": "StyleView",
            "description_width": ""
          }
        },
        "73533665c99c42ffab8b8d7c9446ba5e": {
          "model_module": "@jupyter-widgets/controls",
          "model_name": "HBoxModel",
          "model_module_version": "1.5.0",
          "state": {
            "_dom_classes": [],
            "_model_module": "@jupyter-widgets/controls",
            "_model_module_version": "1.5.0",
            "_model_name": "HBoxModel",
            "_view_count": null,
            "_view_module": "@jupyter-widgets/controls",
            "_view_module_version": "1.5.0",
            "_view_name": "HBoxView",
            "box_style": "",
            "children": [
              "IPY_MODEL_6071de22cf8f438b9e6f4bb91e1bbd4c",
              "IPY_MODEL_3cb2bcca7c2d4619a38f865c32eece54",
              "IPY_MODEL_849ea8aff7374e3ab7034bbc09d82014"
            ],
            "layout": "IPY_MODEL_95b575cd5315478a82bf0fb3937b8e67"
          }
        },
        "6071de22cf8f438b9e6f4bb91e1bbd4c": {
          "model_module": "@jupyter-widgets/controls",
          "model_name": "HTMLModel",
          "model_module_version": "1.5.0",
          "state": {
            "_dom_classes": [],
            "_model_module": "@jupyter-widgets/controls",
            "_model_module_version": "1.5.0",
            "_model_name": "HTMLModel",
            "_view_count": null,
            "_view_module": "@jupyter-widgets/controls",
            "_view_module_version": "1.5.0",
            "_view_name": "HTMLView",
            "description": "",
            "description_tooltip": null,
            "layout": "IPY_MODEL_150fa950497f42b784d2494311ad9bd8",
            "placeholder": "​",
            "style": "IPY_MODEL_94027dcc822d4c19beeae6763ec16d08",
            "value": "Downloading (…)lve/main/config.json: 100%"
          }
        },
        "3cb2bcca7c2d4619a38f865c32eece54": {
          "model_module": "@jupyter-widgets/controls",
          "model_name": "FloatProgressModel",
          "model_module_version": "1.5.0",
          "state": {
            "_dom_classes": [],
            "_model_module": "@jupyter-widgets/controls",
            "_model_module_version": "1.5.0",
            "_model_name": "FloatProgressModel",
            "_view_count": null,
            "_view_module": "@jupyter-widgets/controls",
            "_view_module_version": "1.5.0",
            "_view_name": "ProgressView",
            "bar_style": "success",
            "description": "",
            "description_tooltip": null,
            "layout": "IPY_MODEL_5b63d6b5cee54180ac798be6c0942334",
            "max": 698,
            "min": 0,
            "orientation": "horizontal",
            "style": "IPY_MODEL_6acf550a39e34788b39d820a070a8020",
            "value": 698
          }
        },
        "849ea8aff7374e3ab7034bbc09d82014": {
          "model_module": "@jupyter-widgets/controls",
          "model_name": "HTMLModel",
          "model_module_version": "1.5.0",
          "state": {
            "_dom_classes": [],
            "_model_module": "@jupyter-widgets/controls",
            "_model_module_version": "1.5.0",
            "_model_name": "HTMLModel",
            "_view_count": null,
            "_view_module": "@jupyter-widgets/controls",
            "_view_module_version": "1.5.0",
            "_view_name": "HTMLView",
            "description": "",
            "description_tooltip": null,
            "layout": "IPY_MODEL_56cbaca1369a409cb6eabc4728167f99",
            "placeholder": "​",
            "style": "IPY_MODEL_550a35cd9cbb4fb6ac1fa1664f5411e3",
            "value": " 698/698 [00:00&lt;00:00, 34.8kB/s]"
          }
        },
        "95b575cd5315478a82bf0fb3937b8e67": {
          "model_module": "@jupyter-widgets/base",
          "model_name": "LayoutModel",
          "model_module_version": "1.2.0",
          "state": {
            "_model_module": "@jupyter-widgets/base",
            "_model_module_version": "1.2.0",
            "_model_name": "LayoutModel",
            "_view_count": null,
            "_view_module": "@jupyter-widgets/base",
            "_view_module_version": "1.2.0",
            "_view_name": "LayoutView",
            "align_content": null,
            "align_items": null,
            "align_self": null,
            "border": null,
            "bottom": null,
            "display": null,
            "flex": null,
            "flex_flow": null,
            "grid_area": null,
            "grid_auto_columns": null,
            "grid_auto_flow": null,
            "grid_auto_rows": null,
            "grid_column": null,
            "grid_gap": null,
            "grid_row": null,
            "grid_template_areas": null,
            "grid_template_columns": null,
            "grid_template_rows": null,
            "height": null,
            "justify_content": null,
            "justify_items": null,
            "left": null,
            "margin": null,
            "max_height": null,
            "max_width": null,
            "min_height": null,
            "min_width": null,
            "object_fit": null,
            "object_position": null,
            "order": null,
            "overflow": null,
            "overflow_x": null,
            "overflow_y": null,
            "padding": null,
            "right": null,
            "top": null,
            "visibility": null,
            "width": null
          }
        },
        "150fa950497f42b784d2494311ad9bd8": {
          "model_module": "@jupyter-widgets/base",
          "model_name": "LayoutModel",
          "model_module_version": "1.2.0",
          "state": {
            "_model_module": "@jupyter-widgets/base",
            "_model_module_version": "1.2.0",
            "_model_name": "LayoutModel",
            "_view_count": null,
            "_view_module": "@jupyter-widgets/base",
            "_view_module_version": "1.2.0",
            "_view_name": "LayoutView",
            "align_content": null,
            "align_items": null,
            "align_self": null,
            "border": null,
            "bottom": null,
            "display": null,
            "flex": null,
            "flex_flow": null,
            "grid_area": null,
            "grid_auto_columns": null,
            "grid_auto_flow": null,
            "grid_auto_rows": null,
            "grid_column": null,
            "grid_gap": null,
            "grid_row": null,
            "grid_template_areas": null,
            "grid_template_columns": null,
            "grid_template_rows": null,
            "height": null,
            "justify_content": null,
            "justify_items": null,
            "left": null,
            "margin": null,
            "max_height": null,
            "max_width": null,
            "min_height": null,
            "min_width": null,
            "object_fit": null,
            "object_position": null,
            "order": null,
            "overflow": null,
            "overflow_x": null,
            "overflow_y": null,
            "padding": null,
            "right": null,
            "top": null,
            "visibility": null,
            "width": null
          }
        },
        "94027dcc822d4c19beeae6763ec16d08": {
          "model_module": "@jupyter-widgets/controls",
          "model_name": "DescriptionStyleModel",
          "model_module_version": "1.5.0",
          "state": {
            "_model_module": "@jupyter-widgets/controls",
            "_model_module_version": "1.5.0",
            "_model_name": "DescriptionStyleModel",
            "_view_count": null,
            "_view_module": "@jupyter-widgets/base",
            "_view_module_version": "1.2.0",
            "_view_name": "StyleView",
            "description_width": ""
          }
        },
        "5b63d6b5cee54180ac798be6c0942334": {
          "model_module": "@jupyter-widgets/base",
          "model_name": "LayoutModel",
          "model_module_version": "1.2.0",
          "state": {
            "_model_module": "@jupyter-widgets/base",
            "_model_module_version": "1.2.0",
            "_model_name": "LayoutModel",
            "_view_count": null,
            "_view_module": "@jupyter-widgets/base",
            "_view_module_version": "1.2.0",
            "_view_name": "LayoutView",
            "align_content": null,
            "align_items": null,
            "align_self": null,
            "border": null,
            "bottom": null,
            "display": null,
            "flex": null,
            "flex_flow": null,
            "grid_area": null,
            "grid_auto_columns": null,
            "grid_auto_flow": null,
            "grid_auto_rows": null,
            "grid_column": null,
            "grid_gap": null,
            "grid_row": null,
            "grid_template_areas": null,
            "grid_template_columns": null,
            "grid_template_rows": null,
            "height": null,
            "justify_content": null,
            "justify_items": null,
            "left": null,
            "margin": null,
            "max_height": null,
            "max_width": null,
            "min_height": null,
            "min_width": null,
            "object_fit": null,
            "object_position": null,
            "order": null,
            "overflow": null,
            "overflow_x": null,
            "overflow_y": null,
            "padding": null,
            "right": null,
            "top": null,
            "visibility": null,
            "width": null
          }
        },
        "6acf550a39e34788b39d820a070a8020": {
          "model_module": "@jupyter-widgets/controls",
          "model_name": "ProgressStyleModel",
          "model_module_version": "1.5.0",
          "state": {
            "_model_module": "@jupyter-widgets/controls",
            "_model_module_version": "1.5.0",
            "_model_name": "ProgressStyleModel",
            "_view_count": null,
            "_view_module": "@jupyter-widgets/base",
            "_view_module_version": "1.2.0",
            "_view_name": "StyleView",
            "bar_color": null,
            "description_width": ""
          }
        },
        "56cbaca1369a409cb6eabc4728167f99": {
          "model_module": "@jupyter-widgets/base",
          "model_name": "LayoutModel",
          "model_module_version": "1.2.0",
          "state": {
            "_model_module": "@jupyter-widgets/base",
            "_model_module_version": "1.2.0",
            "_model_name": "LayoutModel",
            "_view_count": null,
            "_view_module": "@jupyter-widgets/base",
            "_view_module_version": "1.2.0",
            "_view_name": "LayoutView",
            "align_content": null,
            "align_items": null,
            "align_self": null,
            "border": null,
            "bottom": null,
            "display": null,
            "flex": null,
            "flex_flow": null,
            "grid_area": null,
            "grid_auto_columns": null,
            "grid_auto_flow": null,
            "grid_auto_rows": null,
            "grid_column": null,
            "grid_gap": null,
            "grid_row": null,
            "grid_template_areas": null,
            "grid_template_columns": null,
            "grid_template_rows": null,
            "height": null,
            "justify_content": null,
            "justify_items": null,
            "left": null,
            "margin": null,
            "max_height": null,
            "max_width": null,
            "min_height": null,
            "min_width": null,
            "object_fit": null,
            "object_position": null,
            "order": null,
            "overflow": null,
            "overflow_x": null,
            "overflow_y": null,
            "padding": null,
            "right": null,
            "top": null,
            "visibility": null,
            "width": null
          }
        },
        "550a35cd9cbb4fb6ac1fa1664f5411e3": {
          "model_module": "@jupyter-widgets/controls",
          "model_name": "DescriptionStyleModel",
          "model_module_version": "1.5.0",
          "state": {
            "_model_module": "@jupyter-widgets/controls",
            "_model_module_version": "1.5.0",
            "_model_name": "DescriptionStyleModel",
            "_view_count": null,
            "_view_module": "@jupyter-widgets/base",
            "_view_module_version": "1.2.0",
            "_view_name": "StyleView",
            "description_width": ""
          }
        },
        "0ec847dbb2a2474a863a83929c297bd4": {
          "model_module": "@jupyter-widgets/controls",
          "model_name": "HBoxModel",
          "model_module_version": "1.5.0",
          "state": {
            "_dom_classes": [],
            "_model_module": "@jupyter-widgets/controls",
            "_model_module_version": "1.5.0",
            "_model_name": "HBoxModel",
            "_view_count": null,
            "_view_module": "@jupyter-widgets/controls",
            "_view_module_version": "1.5.0",
            "_view_name": "HBoxView",
            "box_style": "",
            "children": [
              "IPY_MODEL_25f0d7efb61f4fbe8ef32102f1fe0bf0",
              "IPY_MODEL_5fd6bda34a484185a2544b3d0063059d",
              "IPY_MODEL_203c7c7736184ea0bbf97294f42b2b5f"
            ],
            "layout": "IPY_MODEL_0eacc2ad181a482a9b94d6f78e52657e"
          }
        },
        "25f0d7efb61f4fbe8ef32102f1fe0bf0": {
          "model_module": "@jupyter-widgets/controls",
          "model_name": "HTMLModel",
          "model_module_version": "1.5.0",
          "state": {
            "_dom_classes": [],
            "_model_module": "@jupyter-widgets/controls",
            "_model_module_version": "1.5.0",
            "_model_name": "HTMLModel",
            "_view_count": null,
            "_view_module": "@jupyter-widgets/controls",
            "_view_module_version": "1.5.0",
            "_view_name": "HTMLView",
            "description": "",
            "description_tooltip": null,
            "layout": "IPY_MODEL_ff505491cb6e49268751815ed63e31b4",
            "placeholder": "​",
            "style": "IPY_MODEL_4a99f89e133e42f1bd0e0d7bb50be9eb",
            "value": "Downloading (…)cial_tokens_map.json: 100%"
          }
        },
        "5fd6bda34a484185a2544b3d0063059d": {
          "model_module": "@jupyter-widgets/controls",
          "model_name": "FloatProgressModel",
          "model_module_version": "1.5.0",
          "state": {
            "_dom_classes": [],
            "_model_module": "@jupyter-widgets/controls",
            "_model_module_version": "1.5.0",
            "_model_name": "FloatProgressModel",
            "_view_count": null,
            "_view_module": "@jupyter-widgets/controls",
            "_view_module_version": "1.5.0",
            "_view_name": "ProgressView",
            "bar_style": "success",
            "description": "",
            "description_tooltip": null,
            "layout": "IPY_MODEL_a3b03c18ec924903893336837ae09be5",
            "max": 2503,
            "min": 0,
            "orientation": "horizontal",
            "style": "IPY_MODEL_ff0103a7dd8f4bcf80e1eaba862065f4",
            "value": 2503
          }
        },
        "203c7c7736184ea0bbf97294f42b2b5f": {
          "model_module": "@jupyter-widgets/controls",
          "model_name": "HTMLModel",
          "model_module_version": "1.5.0",
          "state": {
            "_dom_classes": [],
            "_model_module": "@jupyter-widgets/controls",
            "_model_module_version": "1.5.0",
            "_model_name": "HTMLModel",
            "_view_count": null,
            "_view_module": "@jupyter-widgets/controls",
            "_view_module_version": "1.5.0",
            "_view_name": "HTMLView",
            "description": "",
            "description_tooltip": null,
            "layout": "IPY_MODEL_37eb1a354e4445119e76a5b502195b19",
            "placeholder": "​",
            "style": "IPY_MODEL_c40d8cd7944d41f1acf0d7acff5263ed",
            "value": " 2.50k/2.50k [00:00&lt;00:00, 93.6kB/s]"
          }
        },
        "0eacc2ad181a482a9b94d6f78e52657e": {
          "model_module": "@jupyter-widgets/base",
          "model_name": "LayoutModel",
          "model_module_version": "1.2.0",
          "state": {
            "_model_module": "@jupyter-widgets/base",
            "_model_module_version": "1.2.0",
            "_model_name": "LayoutModel",
            "_view_count": null,
            "_view_module": "@jupyter-widgets/base",
            "_view_module_version": "1.2.0",
            "_view_name": "LayoutView",
            "align_content": null,
            "align_items": null,
            "align_self": null,
            "border": null,
            "bottom": null,
            "display": null,
            "flex": null,
            "flex_flow": null,
            "grid_area": null,
            "grid_auto_columns": null,
            "grid_auto_flow": null,
            "grid_auto_rows": null,
            "grid_column": null,
            "grid_gap": null,
            "grid_row": null,
            "grid_template_areas": null,
            "grid_template_columns": null,
            "grid_template_rows": null,
            "height": null,
            "justify_content": null,
            "justify_items": null,
            "left": null,
            "margin": null,
            "max_height": null,
            "max_width": null,
            "min_height": null,
            "min_width": null,
            "object_fit": null,
            "object_position": null,
            "order": null,
            "overflow": null,
            "overflow_x": null,
            "overflow_y": null,
            "padding": null,
            "right": null,
            "top": null,
            "visibility": null,
            "width": null
          }
        },
        "ff505491cb6e49268751815ed63e31b4": {
          "model_module": "@jupyter-widgets/base",
          "model_name": "LayoutModel",
          "model_module_version": "1.2.0",
          "state": {
            "_model_module": "@jupyter-widgets/base",
            "_model_module_version": "1.2.0",
            "_model_name": "LayoutModel",
            "_view_count": null,
            "_view_module": "@jupyter-widgets/base",
            "_view_module_version": "1.2.0",
            "_view_name": "LayoutView",
            "align_content": null,
            "align_items": null,
            "align_self": null,
            "border": null,
            "bottom": null,
            "display": null,
            "flex": null,
            "flex_flow": null,
            "grid_area": null,
            "grid_auto_columns": null,
            "grid_auto_flow": null,
            "grid_auto_rows": null,
            "grid_column": null,
            "grid_gap": null,
            "grid_row": null,
            "grid_template_areas": null,
            "grid_template_columns": null,
            "grid_template_rows": null,
            "height": null,
            "justify_content": null,
            "justify_items": null,
            "left": null,
            "margin": null,
            "max_height": null,
            "max_width": null,
            "min_height": null,
            "min_width": null,
            "object_fit": null,
            "object_position": null,
            "order": null,
            "overflow": null,
            "overflow_x": null,
            "overflow_y": null,
            "padding": null,
            "right": null,
            "top": null,
            "visibility": null,
            "width": null
          }
        },
        "4a99f89e133e42f1bd0e0d7bb50be9eb": {
          "model_module": "@jupyter-widgets/controls",
          "model_name": "DescriptionStyleModel",
          "model_module_version": "1.5.0",
          "state": {
            "_model_module": "@jupyter-widgets/controls",
            "_model_module_version": "1.5.0",
            "_model_name": "DescriptionStyleModel",
            "_view_count": null,
            "_view_module": "@jupyter-widgets/base",
            "_view_module_version": "1.2.0",
            "_view_name": "StyleView",
            "description_width": ""
          }
        },
        "a3b03c18ec924903893336837ae09be5": {
          "model_module": "@jupyter-widgets/base",
          "model_name": "LayoutModel",
          "model_module_version": "1.2.0",
          "state": {
            "_model_module": "@jupyter-widgets/base",
            "_model_module_version": "1.2.0",
            "_model_name": "LayoutModel",
            "_view_count": null,
            "_view_module": "@jupyter-widgets/base",
            "_view_module_version": "1.2.0",
            "_view_name": "LayoutView",
            "align_content": null,
            "align_items": null,
            "align_self": null,
            "border": null,
            "bottom": null,
            "display": null,
            "flex": null,
            "flex_flow": null,
            "grid_area": null,
            "grid_auto_columns": null,
            "grid_auto_flow": null,
            "grid_auto_rows": null,
            "grid_column": null,
            "grid_gap": null,
            "grid_row": null,
            "grid_template_areas": null,
            "grid_template_columns": null,
            "grid_template_rows": null,
            "height": null,
            "justify_content": null,
            "justify_items": null,
            "left": null,
            "margin": null,
            "max_height": null,
            "max_width": null,
            "min_height": null,
            "min_width": null,
            "object_fit": null,
            "object_position": null,
            "order": null,
            "overflow": null,
            "overflow_x": null,
            "overflow_y": null,
            "padding": null,
            "right": null,
            "top": null,
            "visibility": null,
            "width": null
          }
        },
        "ff0103a7dd8f4bcf80e1eaba862065f4": {
          "model_module": "@jupyter-widgets/controls",
          "model_name": "ProgressStyleModel",
          "model_module_version": "1.5.0",
          "state": {
            "_model_module": "@jupyter-widgets/controls",
            "_model_module_version": "1.5.0",
            "_model_name": "ProgressStyleModel",
            "_view_count": null,
            "_view_module": "@jupyter-widgets/base",
            "_view_module_version": "1.2.0",
            "_view_name": "StyleView",
            "bar_color": null,
            "description_width": ""
          }
        },
        "37eb1a354e4445119e76a5b502195b19": {
          "model_module": "@jupyter-widgets/base",
          "model_name": "LayoutModel",
          "model_module_version": "1.2.0",
          "state": {
            "_model_module": "@jupyter-widgets/base",
            "_model_module_version": "1.2.0",
            "_model_name": "LayoutModel",
            "_view_count": null,
            "_view_module": "@jupyter-widgets/base",
            "_view_module_version": "1.2.0",
            "_view_name": "LayoutView",
            "align_content": null,
            "align_items": null,
            "align_self": null,
            "border": null,
            "bottom": null,
            "display": null,
            "flex": null,
            "flex_flow": null,
            "grid_area": null,
            "grid_auto_columns": null,
            "grid_auto_flow": null,
            "grid_auto_rows": null,
            "grid_column": null,
            "grid_gap": null,
            "grid_row": null,
            "grid_template_areas": null,
            "grid_template_columns": null,
            "grid_template_rows": null,
            "height": null,
            "justify_content": null,
            "justify_items": null,
            "left": null,
            "margin": null,
            "max_height": null,
            "max_width": null,
            "min_height": null,
            "min_width": null,
            "object_fit": null,
            "object_position": null,
            "order": null,
            "overflow": null,
            "overflow_x": null,
            "overflow_y": null,
            "padding": null,
            "right": null,
            "top": null,
            "visibility": null,
            "width": null
          }
        },
        "c40d8cd7944d41f1acf0d7acff5263ed": {
          "model_module": "@jupyter-widgets/controls",
          "model_name": "DescriptionStyleModel",
          "model_module_version": "1.5.0",
          "state": {
            "_model_module": "@jupyter-widgets/controls",
            "_model_module_version": "1.5.0",
            "_model_name": "DescriptionStyleModel",
            "_view_count": null,
            "_view_module": "@jupyter-widgets/base",
            "_view_module_version": "1.2.0",
            "_view_name": "StyleView",
            "description_width": ""
          }
        },
        "8ad677cc642c451d9a4b058d783108f2": {
          "model_module": "@jupyter-widgets/controls",
          "model_name": "HBoxModel",
          "model_module_version": "1.5.0",
          "state": {
            "_dom_classes": [],
            "_model_module": "@jupyter-widgets/controls",
            "_model_module_version": "1.5.0",
            "_model_name": "HBoxModel",
            "_view_count": null,
            "_view_module": "@jupyter-widgets/controls",
            "_view_module_version": "1.5.0",
            "_view_name": "HBoxView",
            "box_style": "",
            "children": [
              "IPY_MODEL_aab5f3562bf2480dba994c9f1f4df047",
              "IPY_MODEL_06514da1fe4445d981e9ad80ffeed934",
              "IPY_MODEL_cae06eac0e9446a9962c40107b95fd81"
            ],
            "layout": "IPY_MODEL_6befbf9348a942e7b618b9f4b6b85985"
          }
        },
        "aab5f3562bf2480dba994c9f1f4df047": {
          "model_module": "@jupyter-widgets/controls",
          "model_name": "HTMLModel",
          "model_module_version": "1.5.0",
          "state": {
            "_dom_classes": [],
            "_model_module": "@jupyter-widgets/controls",
            "_model_module_version": "1.5.0",
            "_model_name": "HTMLModel",
            "_view_count": null,
            "_view_module": "@jupyter-widgets/controls",
            "_view_module_version": "1.5.0",
            "_view_name": "HTMLView",
            "description": "",
            "description_tooltip": null,
            "layout": "IPY_MODEL_031db8bf463543e28ab378a4d5819b3c",
            "placeholder": "​",
            "style": "IPY_MODEL_a20898425a134a83a0df7f733a974f98",
            "value": "Downloading pytorch_model.bin: 100%"
          }
        },
        "06514da1fe4445d981e9ad80ffeed934": {
          "model_module": "@jupyter-widgets/controls",
          "model_name": "FloatProgressModel",
          "model_module_version": "1.5.0",
          "state": {
            "_dom_classes": [],
            "_model_module": "@jupyter-widgets/controls",
            "_model_module_version": "1.5.0",
            "_model_name": "FloatProgressModel",
            "_view_count": null,
            "_view_module": "@jupyter-widgets/controls",
            "_view_module_version": "1.5.0",
            "_view_name": "ProgressView",
            "bar_style": "success",
            "description": "",
            "description_tooltip": null,
            "layout": "IPY_MODEL_7b678d39cbe444d09ca2c4c4c5e2ef22",
            "max": 1198627927,
            "min": 0,
            "orientation": "horizontal",
            "style": "IPY_MODEL_b6a73f8c903540209a3f0e78bca25d9c",
            "value": 1198627927
          }
        },
        "cae06eac0e9446a9962c40107b95fd81": {
          "model_module": "@jupyter-widgets/controls",
          "model_name": "HTMLModel",
          "model_module_version": "1.5.0",
          "state": {
            "_dom_classes": [],
            "_model_module": "@jupyter-widgets/controls",
            "_model_module_version": "1.5.0",
            "_model_name": "HTMLModel",
            "_view_count": null,
            "_view_module": "@jupyter-widgets/controls",
            "_view_module_version": "1.5.0",
            "_view_name": "HTMLView",
            "description": "",
            "description_tooltip": null,
            "layout": "IPY_MODEL_b005dfc7143f4d2098c975669584c447",
            "placeholder": "​",
            "style": "IPY_MODEL_09e437fe7225458b90a25a58ac76090e",
            "value": " 1.20G/1.20G [00:31&lt;00:00, 39.1MB/s]"
          }
        },
        "6befbf9348a942e7b618b9f4b6b85985": {
          "model_module": "@jupyter-widgets/base",
          "model_name": "LayoutModel",
          "model_module_version": "1.2.0",
          "state": {
            "_model_module": "@jupyter-widgets/base",
            "_model_module_version": "1.2.0",
            "_model_name": "LayoutModel",
            "_view_count": null,
            "_view_module": "@jupyter-widgets/base",
            "_view_module_version": "1.2.0",
            "_view_name": "LayoutView",
            "align_content": null,
            "align_items": null,
            "align_self": null,
            "border": null,
            "bottom": null,
            "display": null,
            "flex": null,
            "flex_flow": null,
            "grid_area": null,
            "grid_auto_columns": null,
            "grid_auto_flow": null,
            "grid_auto_rows": null,
            "grid_column": null,
            "grid_gap": null,
            "grid_row": null,
            "grid_template_areas": null,
            "grid_template_columns": null,
            "grid_template_rows": null,
            "height": null,
            "justify_content": null,
            "justify_items": null,
            "left": null,
            "margin": null,
            "max_height": null,
            "max_width": null,
            "min_height": null,
            "min_width": null,
            "object_fit": null,
            "object_position": null,
            "order": null,
            "overflow": null,
            "overflow_x": null,
            "overflow_y": null,
            "padding": null,
            "right": null,
            "top": null,
            "visibility": null,
            "width": null
          }
        },
        "031db8bf463543e28ab378a4d5819b3c": {
          "model_module": "@jupyter-widgets/base",
          "model_name": "LayoutModel",
          "model_module_version": "1.2.0",
          "state": {
            "_model_module": "@jupyter-widgets/base",
            "_model_module_version": "1.2.0",
            "_model_name": "LayoutModel",
            "_view_count": null,
            "_view_module": "@jupyter-widgets/base",
            "_view_module_version": "1.2.0",
            "_view_name": "LayoutView",
            "align_content": null,
            "align_items": null,
            "align_self": null,
            "border": null,
            "bottom": null,
            "display": null,
            "flex": null,
            "flex_flow": null,
            "grid_area": null,
            "grid_auto_columns": null,
            "grid_auto_flow": null,
            "grid_auto_rows": null,
            "grid_column": null,
            "grid_gap": null,
            "grid_row": null,
            "grid_template_areas": null,
            "grid_template_columns": null,
            "grid_template_rows": null,
            "height": null,
            "justify_content": null,
            "justify_items": null,
            "left": null,
            "margin": null,
            "max_height": null,
            "max_width": null,
            "min_height": null,
            "min_width": null,
            "object_fit": null,
            "object_position": null,
            "order": null,
            "overflow": null,
            "overflow_x": null,
            "overflow_y": null,
            "padding": null,
            "right": null,
            "top": null,
            "visibility": null,
            "width": null
          }
        },
        "a20898425a134a83a0df7f733a974f98": {
          "model_module": "@jupyter-widgets/controls",
          "model_name": "DescriptionStyleModel",
          "model_module_version": "1.5.0",
          "state": {
            "_model_module": "@jupyter-widgets/controls",
            "_model_module_version": "1.5.0",
            "_model_name": "DescriptionStyleModel",
            "_view_count": null,
            "_view_module": "@jupyter-widgets/base",
            "_view_module_version": "1.2.0",
            "_view_name": "StyleView",
            "description_width": ""
          }
        },
        "7b678d39cbe444d09ca2c4c4c5e2ef22": {
          "model_module": "@jupyter-widgets/base",
          "model_name": "LayoutModel",
          "model_module_version": "1.2.0",
          "state": {
            "_model_module": "@jupyter-widgets/base",
            "_model_module_version": "1.2.0",
            "_model_name": "LayoutModel",
            "_view_count": null,
            "_view_module": "@jupyter-widgets/base",
            "_view_module_version": "1.2.0",
            "_view_name": "LayoutView",
            "align_content": null,
            "align_items": null,
            "align_self": null,
            "border": null,
            "bottom": null,
            "display": null,
            "flex": null,
            "flex_flow": null,
            "grid_area": null,
            "grid_auto_columns": null,
            "grid_auto_flow": null,
            "grid_auto_rows": null,
            "grid_column": null,
            "grid_gap": null,
            "grid_row": null,
            "grid_template_areas": null,
            "grid_template_columns": null,
            "grid_template_rows": null,
            "height": null,
            "justify_content": null,
            "justify_items": null,
            "left": null,
            "margin": null,
            "max_height": null,
            "max_width": null,
            "min_height": null,
            "min_width": null,
            "object_fit": null,
            "object_position": null,
            "order": null,
            "overflow": null,
            "overflow_x": null,
            "overflow_y": null,
            "padding": null,
            "right": null,
            "top": null,
            "visibility": null,
            "width": null
          }
        },
        "b6a73f8c903540209a3f0e78bca25d9c": {
          "model_module": "@jupyter-widgets/controls",
          "model_name": "ProgressStyleModel",
          "model_module_version": "1.5.0",
          "state": {
            "_model_module": "@jupyter-widgets/controls",
            "_model_module_version": "1.5.0",
            "_model_name": "ProgressStyleModel",
            "_view_count": null,
            "_view_module": "@jupyter-widgets/base",
            "_view_module_version": "1.2.0",
            "_view_name": "StyleView",
            "bar_color": null,
            "description_width": ""
          }
        },
        "b005dfc7143f4d2098c975669584c447": {
          "model_module": "@jupyter-widgets/base",
          "model_name": "LayoutModel",
          "model_module_version": "1.2.0",
          "state": {
            "_model_module": "@jupyter-widgets/base",
            "_model_module_version": "1.2.0",
            "_model_name": "LayoutModel",
            "_view_count": null,
            "_view_module": "@jupyter-widgets/base",
            "_view_module_version": "1.2.0",
            "_view_name": "LayoutView",
            "align_content": null,
            "align_items": null,
            "align_self": null,
            "border": null,
            "bottom": null,
            "display": null,
            "flex": null,
            "flex_flow": null,
            "grid_area": null,
            "grid_auto_columns": null,
            "grid_auto_flow": null,
            "grid_auto_rows": null,
            "grid_column": null,
            "grid_gap": null,
            "grid_row": null,
            "grid_template_areas": null,
            "grid_template_columns": null,
            "grid_template_rows": null,
            "height": null,
            "justify_content": null,
            "justify_items": null,
            "left": null,
            "margin": null,
            "max_height": null,
            "max_width": null,
            "min_height": null,
            "min_width": null,
            "object_fit": null,
            "object_position": null,
            "order": null,
            "overflow": null,
            "overflow_x": null,
            "overflow_y": null,
            "padding": null,
            "right": null,
            "top": null,
            "visibility": null,
            "width": null
          }
        },
        "09e437fe7225458b90a25a58ac76090e": {
          "model_module": "@jupyter-widgets/controls",
          "model_name": "DescriptionStyleModel",
          "model_module_version": "1.5.0",
          "state": {
            "_model_module": "@jupyter-widgets/controls",
            "_model_module_version": "1.5.0",
            "_model_name": "DescriptionStyleModel",
            "_view_count": null,
            "_view_module": "@jupyter-widgets/base",
            "_view_module_version": "1.2.0",
            "_view_name": "StyleView",
            "description_width": ""
          }
        },
        "a2ad37c026034410a72a2322e9b86efc": {
          "model_module": "@jupyter-widgets/controls",
          "model_name": "HBoxModel",
          "model_module_version": "1.5.0",
          "state": {
            "_dom_classes": [],
            "_model_module": "@jupyter-widgets/controls",
            "_model_module_version": "1.5.0",
            "_model_name": "HBoxModel",
            "_view_count": null,
            "_view_module": "@jupyter-widgets/controls",
            "_view_module_version": "1.5.0",
            "_view_name": "HBoxView",
            "box_style": "",
            "children": [
              "IPY_MODEL_719302b867224c77b29ed6f79976ca0f",
              "IPY_MODEL_b0f7a95836274cc2a91f19b537946d8c",
              "IPY_MODEL_999f8f9275104e6bac54b5541ffc8a48"
            ],
            "layout": "IPY_MODEL_3df770fa2b334475b6af3aa1cbaf249b"
          }
        },
        "719302b867224c77b29ed6f79976ca0f": {
          "model_module": "@jupyter-widgets/controls",
          "model_name": "HTMLModel",
          "model_module_version": "1.5.0",
          "state": {
            "_dom_classes": [],
            "_model_module": "@jupyter-widgets/controls",
            "_model_module_version": "1.5.0",
            "_model_name": "HTMLModel",
            "_view_count": null,
            "_view_module": "@jupyter-widgets/controls",
            "_view_module_version": "1.5.0",
            "_view_name": "HTMLView",
            "description": "",
            "description_tooltip": null,
            "layout": "IPY_MODEL_159216a2dfa343a5a261967ed8faa921",
            "placeholder": "​",
            "style": "IPY_MODEL_7960fe6cc758497e968e39b9a7d6a33f",
            "value": "Downloading (…)neration_config.json: 100%"
          }
        },
        "b0f7a95836274cc2a91f19b537946d8c": {
          "model_module": "@jupyter-widgets/controls",
          "model_name": "FloatProgressModel",
          "model_module_version": "1.5.0",
          "state": {
            "_dom_classes": [],
            "_model_module": "@jupyter-widgets/controls",
            "_model_module_version": "1.5.0",
            "_model_name": "FloatProgressModel",
            "_view_count": null,
            "_view_module": "@jupyter-widgets/controls",
            "_view_module_version": "1.5.0",
            "_view_name": "ProgressView",
            "bar_style": "success",
            "description": "",
            "description_tooltip": null,
            "layout": "IPY_MODEL_bbf481d9a1f94a54bcd854a744fcbe64",
            "max": 147,
            "min": 0,
            "orientation": "horizontal",
            "style": "IPY_MODEL_66578a061068434d8798c320d38c5739",
            "value": 147
          }
        },
        "999f8f9275104e6bac54b5541ffc8a48": {
          "model_module": "@jupyter-widgets/controls",
          "model_name": "HTMLModel",
          "model_module_version": "1.5.0",
          "state": {
            "_dom_classes": [],
            "_model_module": "@jupyter-widgets/controls",
            "_model_module_version": "1.5.0",
            "_model_name": "HTMLModel",
            "_view_count": null,
            "_view_module": "@jupyter-widgets/controls",
            "_view_module_version": "1.5.0",
            "_view_name": "HTMLView",
            "description": "",
            "description_tooltip": null,
            "layout": "IPY_MODEL_d80f68e519b84bb7bb90d728e91f3bdd",
            "placeholder": "​",
            "style": "IPY_MODEL_2139d21b6a724d349f0fde4d60c56077",
            "value": " 147/147 [00:00&lt;00:00, 5.74kB/s]"
          }
        },
        "3df770fa2b334475b6af3aa1cbaf249b": {
          "model_module": "@jupyter-widgets/base",
          "model_name": "LayoutModel",
          "model_module_version": "1.2.0",
          "state": {
            "_model_module": "@jupyter-widgets/base",
            "_model_module_version": "1.2.0",
            "_model_name": "LayoutModel",
            "_view_count": null,
            "_view_module": "@jupyter-widgets/base",
            "_view_module_version": "1.2.0",
            "_view_name": "LayoutView",
            "align_content": null,
            "align_items": null,
            "align_self": null,
            "border": null,
            "bottom": null,
            "display": null,
            "flex": null,
            "flex_flow": null,
            "grid_area": null,
            "grid_auto_columns": null,
            "grid_auto_flow": null,
            "grid_auto_rows": null,
            "grid_column": null,
            "grid_gap": null,
            "grid_row": null,
            "grid_template_areas": null,
            "grid_template_columns": null,
            "grid_template_rows": null,
            "height": null,
            "justify_content": null,
            "justify_items": null,
            "left": null,
            "margin": null,
            "max_height": null,
            "max_width": null,
            "min_height": null,
            "min_width": null,
            "object_fit": null,
            "object_position": null,
            "order": null,
            "overflow": null,
            "overflow_x": null,
            "overflow_y": null,
            "padding": null,
            "right": null,
            "top": null,
            "visibility": null,
            "width": null
          }
        },
        "159216a2dfa343a5a261967ed8faa921": {
          "model_module": "@jupyter-widgets/base",
          "model_name": "LayoutModel",
          "model_module_version": "1.2.0",
          "state": {
            "_model_module": "@jupyter-widgets/base",
            "_model_module_version": "1.2.0",
            "_model_name": "LayoutModel",
            "_view_count": null,
            "_view_module": "@jupyter-widgets/base",
            "_view_module_version": "1.2.0",
            "_view_name": "LayoutView",
            "align_content": null,
            "align_items": null,
            "align_self": null,
            "border": null,
            "bottom": null,
            "display": null,
            "flex": null,
            "flex_flow": null,
            "grid_area": null,
            "grid_auto_columns": null,
            "grid_auto_flow": null,
            "grid_auto_rows": null,
            "grid_column": null,
            "grid_gap": null,
            "grid_row": null,
            "grid_template_areas": null,
            "grid_template_columns": null,
            "grid_template_rows": null,
            "height": null,
            "justify_content": null,
            "justify_items": null,
            "left": null,
            "margin": null,
            "max_height": null,
            "max_width": null,
            "min_height": null,
            "min_width": null,
            "object_fit": null,
            "object_position": null,
            "order": null,
            "overflow": null,
            "overflow_x": null,
            "overflow_y": null,
            "padding": null,
            "right": null,
            "top": null,
            "visibility": null,
            "width": null
          }
        },
        "7960fe6cc758497e968e39b9a7d6a33f": {
          "model_module": "@jupyter-widgets/controls",
          "model_name": "DescriptionStyleModel",
          "model_module_version": "1.5.0",
          "state": {
            "_model_module": "@jupyter-widgets/controls",
            "_model_module_version": "1.5.0",
            "_model_name": "DescriptionStyleModel",
            "_view_count": null,
            "_view_module": "@jupyter-widgets/base",
            "_view_module_version": "1.2.0",
            "_view_name": "StyleView",
            "description_width": ""
          }
        },
        "bbf481d9a1f94a54bcd854a744fcbe64": {
          "model_module": "@jupyter-widgets/base",
          "model_name": "LayoutModel",
          "model_module_version": "1.2.0",
          "state": {
            "_model_module": "@jupyter-widgets/base",
            "_model_module_version": "1.2.0",
            "_model_name": "LayoutModel",
            "_view_count": null,
            "_view_module": "@jupyter-widgets/base",
            "_view_module_version": "1.2.0",
            "_view_name": "LayoutView",
            "align_content": null,
            "align_items": null,
            "align_self": null,
            "border": null,
            "bottom": null,
            "display": null,
            "flex": null,
            "flex_flow": null,
            "grid_area": null,
            "grid_auto_columns": null,
            "grid_auto_flow": null,
            "grid_auto_rows": null,
            "grid_column": null,
            "grid_gap": null,
            "grid_row": null,
            "grid_template_areas": null,
            "grid_template_columns": null,
            "grid_template_rows": null,
            "height": null,
            "justify_content": null,
            "justify_items": null,
            "left": null,
            "margin": null,
            "max_height": null,
            "max_width": null,
            "min_height": null,
            "min_width": null,
            "object_fit": null,
            "object_position": null,
            "order": null,
            "overflow": null,
            "overflow_x": null,
            "overflow_y": null,
            "padding": null,
            "right": null,
            "top": null,
            "visibility": null,
            "width": null
          }
        },
        "66578a061068434d8798c320d38c5739": {
          "model_module": "@jupyter-widgets/controls",
          "model_name": "ProgressStyleModel",
          "model_module_version": "1.5.0",
          "state": {
            "_model_module": "@jupyter-widgets/controls",
            "_model_module_version": "1.5.0",
            "_model_name": "ProgressStyleModel",
            "_view_count": null,
            "_view_module": "@jupyter-widgets/base",
            "_view_module_version": "1.2.0",
            "_view_name": "StyleView",
            "bar_color": null,
            "description_width": ""
          }
        },
        "d80f68e519b84bb7bb90d728e91f3bdd": {
          "model_module": "@jupyter-widgets/base",
          "model_name": "LayoutModel",
          "model_module_version": "1.2.0",
          "state": {
            "_model_module": "@jupyter-widgets/base",
            "_model_module_version": "1.2.0",
            "_model_name": "LayoutModel",
            "_view_count": null,
            "_view_module": "@jupyter-widgets/base",
            "_view_module_version": "1.2.0",
            "_view_name": "LayoutView",
            "align_content": null,
            "align_items": null,
            "align_self": null,
            "border": null,
            "bottom": null,
            "display": null,
            "flex": null,
            "flex_flow": null,
            "grid_area": null,
            "grid_auto_columns": null,
            "grid_auto_flow": null,
            "grid_auto_rows": null,
            "grid_column": null,
            "grid_gap": null,
            "grid_row": null,
            "grid_template_areas": null,
            "grid_template_columns": null,
            "grid_template_rows": null,
            "height": null,
            "justify_content": null,
            "justify_items": null,
            "left": null,
            "margin": null,
            "max_height": null,
            "max_width": null,
            "min_height": null,
            "min_width": null,
            "object_fit": null,
            "object_position": null,
            "order": null,
            "overflow": null,
            "overflow_x": null,
            "overflow_y": null,
            "padding": null,
            "right": null,
            "top": null,
            "visibility": null,
            "width": null
          }
        },
        "2139d21b6a724d349f0fde4d60c56077": {
          "model_module": "@jupyter-widgets/controls",
          "model_name": "DescriptionStyleModel",
          "model_module_version": "1.5.0",
          "state": {
            "_model_module": "@jupyter-widgets/controls",
            "_model_module_version": "1.5.0",
            "_model_name": "DescriptionStyleModel",
            "_view_count": null,
            "_view_module": "@jupyter-widgets/base",
            "_view_module_version": "1.2.0",
            "_view_name": "StyleView",
            "description_width": ""
          }
        }
      }
    }
  },
  "nbformat": 4,
  "nbformat_minor": 0
}