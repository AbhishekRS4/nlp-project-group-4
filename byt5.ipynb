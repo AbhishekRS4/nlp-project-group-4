{
 "cells": [
  {
   "cell_type": "markdown",
   "metadata": {},
   "source": [
    "# Parameters"
   ]
  },
  {
   "cell_type": "code",
   "execution_count": 1,
   "metadata": {},
   "outputs": [],
   "source": [
    "# Set global random seed\n",
    "SEED = 1234\n",
    "\n",
    "# Set the locations of the train, dev, and test files\n",
    "# Gold is used for test it is the same as .test, but with the actual output labels attached in a similar format to train and dev\n",
    "TRAIN = 'data/deu_600.train'\n",
    "DEV = 'data/deu.dev'\n",
    "TEST = 'data/deu.gold'\n",
    "\n",
    "# Give the model(name) for the Huggingface or the location of a model on your local device\n",
    "# Outputname can be left blank, unless you want to specify a specific name for the currently trained model\n",
    "# Prefix is the prefix used for the task that we are finetuning the model on\n",
    "# GEN_MODEL_OVERRIDE can be used to load a saved model for generation\n",
    "MODEL = 'google/byt5-small'\n",
    "OUTPUTNAME = ''\n",
    "PREFIX = 'morph'\n",
    "GEN_MODEL_OVERRIDE = None\n",
    "\n",
    "# Set the important parameters for the model\n",
    "LEARNRATE = 4e-5\n",
    "EPOCH = 10\n",
    "BATCHES = 16"
   ]
  },
  {
   "attachments": {},
   "cell_type": "markdown",
   "metadata": {},
   "source": [
    "# Code"
   ]
  },
  {
   "attachments": {},
   "cell_type": "markdown",
   "metadata": {},
   "source": [
    "## Imports, time, and random seed"
   ]
  },
  {
   "cell_type": "code",
   "execution_count": 2,
   "metadata": {},
   "outputs": [
    {
     "name": "stderr",
     "output_type": "stream",
     "text": [
      "/home/andre/Documents/University/msc_info_science/3_block/nlp/0_projects/nlp-project-group-4/nlp_project/lib/python3.10/site-packages/tqdm/auto.py:21: TqdmWarning: IProgress not found. Please update jupyter and ipywidgets. See https://ipywidgets.readthedocs.io/en/stable/user_install.html\n",
      "  from .autonotebook import tqdm as notebook_tqdm\n"
     ]
    }
   ],
   "source": [
    "import pandas as pd\n",
    "import numpy as np\n",
    "import torch\n",
    "from transformers import AutoTokenizer, get_scheduler, T5ForConditionalGeneration, set_seed, AutoModelForSeq2SeqLM\n",
    "from torch.utils.data import DataLoader\n",
    "from torch.optim import AdamW\n",
    "from pathlib import Path\n",
    "from datetime import datetime"
   ]
  },
  {
   "cell_type": "code",
   "execution_count": 3,
   "metadata": {},
   "outputs": [],
   "source": [
    "TIMESTRING = datetime.now().strftime('%Y-%m-%d_%H-%M-%S')"
   ]
  },
  {
   "cell_type": "code",
   "execution_count": 4,
   "metadata": {},
   "outputs": [],
   "source": [
    "torch.manual_seed(SEED)\n",
    "set_seed(SEED)\n",
    "np.random.seed(SEED)"
   ]
  },
  {
   "attachments": {},
   "cell_type": "markdown",
   "metadata": {},
   "source": [
    "## Data"
   ]
  },
  {
   "cell_type": "code",
   "execution_count": 5,
   "metadata": {},
   "outputs": [],
   "source": [
    "header_names = ['lemma', 'labels', 'features']\n",
    "\n",
    "train = pd.read_csv(TRAIN, sep='\\t', names=header_names)\n",
    "dev = pd.read_csv(DEV, sep='\\t', names=header_names)\n",
    "test = pd.read_csv(TEST, sep='\\t', names=header_names)"
   ]
  },
  {
   "cell_type": "code",
   "execution_count": 6,
   "metadata": {},
   "outputs": [
    {
     "data": {
      "text/html": [
       "<div>\n",
       "<style scoped>\n",
       "    .dataframe tbody tr th:only-of-type {\n",
       "        vertical-align: middle;\n",
       "    }\n",
       "\n",
       "    .dataframe tbody tr th {\n",
       "        vertical-align: top;\n",
       "    }\n",
       "\n",
       "    .dataframe thead th {\n",
       "        text-align: right;\n",
       "    }\n",
       "</style>\n",
       "<table border=\"1\" class=\"dataframe\">\n",
       "  <thead>\n",
       "    <tr style=\"text-align: right;\">\n",
       "      <th></th>\n",
       "      <th>input</th>\n",
       "      <th>labels</th>\n",
       "    </tr>\n",
       "  </thead>\n",
       "  <tbody>\n",
       "    <tr>\n",
       "      <th>0</th>\n",
       "      <td>morph: Plätzchen N;NOM;NEUT;PL</td>\n",
       "      <td>Plätzchen</td>\n",
       "    </tr>\n",
       "    <tr>\n",
       "      <th>1</th>\n",
       "      <td>morph: Kastanie N;NOM;FEM;PL</td>\n",
       "      <td>Kastanien</td>\n",
       "    </tr>\n",
       "    <tr>\n",
       "      <th>2</th>\n",
       "      <td>morph: Linie N;NOM;FEM;PL</td>\n",
       "      <td>Linien</td>\n",
       "    </tr>\n",
       "    <tr>\n",
       "      <th>3</th>\n",
       "      <td>morph: Scherz N;NOM;MASC;PL</td>\n",
       "      <td>Scherze</td>\n",
       "    </tr>\n",
       "    <tr>\n",
       "      <th>4</th>\n",
       "      <td>morph: Wiederholung N;NOM;FEM;PL</td>\n",
       "      <td>Wiederholungen</td>\n",
       "    </tr>\n",
       "  </tbody>\n",
       "</table>\n",
       "</div>"
      ],
      "text/plain": [
       "                              input          labels\n",
       "0    morph: Plätzchen N;NOM;NEUT;PL       Plätzchen\n",
       "1      morph: Kastanie N;NOM;FEM;PL       Kastanien\n",
       "2         morph: Linie N;NOM;FEM;PL          Linien\n",
       "3       morph: Scherz N;NOM;MASC;PL         Scherze\n",
       "4  morph: Wiederholung N;NOM;FEM;PL  Wiederholungen"
      ]
     },
     "execution_count": 6,
     "metadata": {},
     "output_type": "execute_result"
    }
   ],
   "source": [
    "train['input'] = PREFIX + ': ' + train['lemma'] + ' ' + train['features']\n",
    "train = train[train.columns[[-1, 1]]]\n",
    "train.head()"
   ]
  },
  {
   "cell_type": "code",
   "execution_count": 7,
   "metadata": {},
   "outputs": [
    {
     "data": {
      "text/html": [
       "<div>\n",
       "<style scoped>\n",
       "    .dataframe tbody tr th:only-of-type {\n",
       "        vertical-align: middle;\n",
       "    }\n",
       "\n",
       "    .dataframe tbody tr th {\n",
       "        vertical-align: top;\n",
       "    }\n",
       "\n",
       "    .dataframe thead th {\n",
       "        text-align: right;\n",
       "    }\n",
       "</style>\n",
       "<table border=\"1\" class=\"dataframe\">\n",
       "  <thead>\n",
       "    <tr style=\"text-align: right;\">\n",
       "      <th></th>\n",
       "      <th>input</th>\n",
       "      <th>labels</th>\n",
       "    </tr>\n",
       "  </thead>\n",
       "  <tbody>\n",
       "    <tr>\n",
       "      <th>0</th>\n",
       "      <td>morph: Flitzer N;NOM;MASC;PL</td>\n",
       "      <td>Flitzer</td>\n",
       "    </tr>\n",
       "    <tr>\n",
       "      <th>1</th>\n",
       "      <td>morph: Brosche N;NOM;FEM;PL</td>\n",
       "      <td>Broschen</td>\n",
       "    </tr>\n",
       "    <tr>\n",
       "      <th>2</th>\n",
       "      <td>morph: Chinese N;NOM;MASC;PL</td>\n",
       "      <td>Chinesen</td>\n",
       "    </tr>\n",
       "    <tr>\n",
       "      <th>3</th>\n",
       "      <td>morph: Kloster N;NOM;NEUT;PL</td>\n",
       "      <td>Klöster</td>\n",
       "    </tr>\n",
       "    <tr>\n",
       "      <th>4</th>\n",
       "      <td>morph: Urlaub N;NOM;MASC;PL</td>\n",
       "      <td>Urlaube</td>\n",
       "    </tr>\n",
       "  </tbody>\n",
       "</table>\n",
       "</div>"
      ],
      "text/plain": [
       "                          input    labels\n",
       "0  morph: Flitzer N;NOM;MASC;PL   Flitzer\n",
       "1   morph: Brosche N;NOM;FEM;PL  Broschen\n",
       "2  morph: Chinese N;NOM;MASC;PL  Chinesen\n",
       "3  morph: Kloster N;NOM;NEUT;PL   Klöster\n",
       "4   morph: Urlaub N;NOM;MASC;PL   Urlaube"
      ]
     },
     "execution_count": 7,
     "metadata": {},
     "output_type": "execute_result"
    }
   ],
   "source": [
    "dev['input'] = PREFIX + ': ' + dev['lemma'] + ' ' + dev['features']\n",
    "dev = dev[dev.columns[[-1, 1]]]\n",
    "dev.head()"
   ]
  },
  {
   "cell_type": "code",
   "execution_count": 8,
   "metadata": {},
   "outputs": [
    {
     "data": {
      "text/html": [
       "<div>\n",
       "<style scoped>\n",
       "    .dataframe tbody tr th:only-of-type {\n",
       "        vertical-align: middle;\n",
       "    }\n",
       "\n",
       "    .dataframe tbody tr th {\n",
       "        vertical-align: top;\n",
       "    }\n",
       "\n",
       "    .dataframe thead th {\n",
       "        text-align: right;\n",
       "    }\n",
       "</style>\n",
       "<table border=\"1\" class=\"dataframe\">\n",
       "  <thead>\n",
       "    <tr style=\"text-align: right;\">\n",
       "      <th></th>\n",
       "      <th>input</th>\n",
       "      <th>labels</th>\n",
       "    </tr>\n",
       "  </thead>\n",
       "  <tbody>\n",
       "    <tr>\n",
       "      <th>0</th>\n",
       "      <td>morph: Orgie N;NOM;FEM;PL</td>\n",
       "      <td>Orgien</td>\n",
       "    </tr>\n",
       "    <tr>\n",
       "      <th>1</th>\n",
       "      <td>morph: Sieger N;NOM;MASC;PL</td>\n",
       "      <td>Sieger</td>\n",
       "    </tr>\n",
       "    <tr>\n",
       "      <th>2</th>\n",
       "      <td>morph: Klotz N;NOM;MASC;PL</td>\n",
       "      <td>Klötze</td>\n",
       "    </tr>\n",
       "    <tr>\n",
       "      <th>3</th>\n",
       "      <td>morph: Kalk N;NOM;MASC;PL</td>\n",
       "      <td>Kalke</td>\n",
       "    </tr>\n",
       "    <tr>\n",
       "      <th>4</th>\n",
       "      <td>morph: Skelett N;NOM;NEUT;PL</td>\n",
       "      <td>Skelette</td>\n",
       "    </tr>\n",
       "  </tbody>\n",
       "</table>\n",
       "</div>"
      ],
      "text/plain": [
       "                          input    labels\n",
       "0     morph: Orgie N;NOM;FEM;PL    Orgien\n",
       "1   morph: Sieger N;NOM;MASC;PL    Sieger\n",
       "2    morph: Klotz N;NOM;MASC;PL    Klötze\n",
       "3     morph: Kalk N;NOM;MASC;PL     Kalke\n",
       "4  morph: Skelett N;NOM;NEUT;PL  Skelette"
      ]
     },
     "execution_count": 8,
     "metadata": {},
     "output_type": "execute_result"
    }
   ],
   "source": [
    "test['input'] = PREFIX + ': ' + test['lemma'] + ' ' + test['features']\n",
    "test = test[test.columns[[-1, 1]]]\n",
    "test.head()"
   ]
  },
  {
   "cell_type": "code",
   "execution_count": 9,
   "metadata": {},
   "outputs": [],
   "source": [
    "from datasets import Dataset\n",
    "\n",
    "train = Dataset.from_pandas(train)\n",
    "dev = Dataset.from_pandas(dev)\n",
    "test = Dataset.from_pandas(test)"
   ]
  },
  {
   "cell_type": "code",
   "execution_count": 10,
   "metadata": {},
   "outputs": [],
   "source": [
    "device = torch.device(\"cuda\") if torch.cuda.is_available() else torch.device(\"cpu\")\n",
    "tokenizer = AutoTokenizer.from_pretrained(MODEL)\n",
    "model = T5ForConditionalGeneration.from_pretrained(MODEL).to(device)"
   ]
  },
  {
   "cell_type": "code",
   "execution_count": 11,
   "metadata": {},
   "outputs": [
    {
     "name": "stderr",
     "output_type": "stream",
     "text": [
      "                                                               \r"
     ]
    }
   ],
   "source": [
    "def tokenize_function(examples):\n",
    "    labels = tokenizer(examples[\"labels\"], padding=\"longest\")\n",
    "    labels['input_ids_label'] = labels.pop('input_ids')\n",
    "    labels.pop('attention_mask')\n",
    "\n",
    "    tokenized_dict = tokenizer(examples[\"input\"], padding=\"longest\")\n",
    "    tokenized_dict.update(labels)\n",
    "\n",
    "    return tokenized_dict\n",
    "\n",
    "\n",
    "tokenized_train = train.map(tokenize_function, batched=True)\n",
    "tokenized_dev = dev.map(tokenize_function, batched=True)"
   ]
  },
  {
   "cell_type": "code",
   "execution_count": 12,
   "metadata": {},
   "outputs": [],
   "source": [
    "tokenized_train.set_format(type='torch')\n",
    "tokenized_dev.set_format(type='torch')"
   ]
  },
  {
   "attachments": {},
   "cell_type": "markdown",
   "metadata": {},
   "source": [
    "## Training"
   ]
  },
  {
   "cell_type": "code",
   "execution_count": 13,
   "metadata": {},
   "outputs": [],
   "source": [
    "train_dataloader = DataLoader(tokenized_train, shuffle=True, batch_size=BATCHES)\n",
    "eval_dataloader = DataLoader(tokenized_dev, batch_size=BATCHES)\n",
    "optimizer = AdamW(model.parameters(), lr=LEARNRATE)\n",
    "\n",
    "num_epochs = EPOCH\n",
    "num_training_steps = num_epochs * len(train_dataloader)\n",
    "\n",
    "lr_scheduler = get_scheduler(\n",
    "    name=\"linear\", optimizer=optimizer, num_warmup_steps=0, num_training_steps=num_training_steps\n",
    ")"
   ]
  },
  {
   "cell_type": "code",
   "execution_count": 15,
   "metadata": {},
   "outputs": [
    {
     "name": "stderr",
     "output_type": "stream",
     "text": [
      "100%|██████████| 380/380 [29:15<00:00,  4.16s/it]"
     ]
    }
   ],
   "source": [
    "from tqdm.auto import tqdm\n",
    "\n",
    "progress_bar = tqdm(range(num_training_steps))\n",
    "model.train()\n",
    "for epoch in range(num_epochs):\n",
    "    for batch in train_dataloader:\n",
    "        tensor_list = ['input_ids', 'attention_mask', 'input_ids_label']\n",
    "        # batch = {k: v.to(device) for k, v in batch.items()}\n",
    "        batch_t = {k: v.to(device) for k, v in batch.items() if k in tensor_list}\n",
    "        outputs = model(input_ids=batch_t['input_ids'],\n",
    "                        attention_mask=batch_t['attention_mask'],\n",
    "                        labels=batch_t['input_ids_label'])\n",
    "        loss = outputs.loss\n",
    "        loss.backward()\n",
    "        optimizer.step()\n",
    "        lr_scheduler.step()\n",
    "        optimizer.zero_grad()\n",
    "        progress_bar.update(1)"
   ]
  },
  {
   "attachments": {},
   "cell_type": "markdown",
   "metadata": {},
   "source": [
    "## Model storage"
   ]
  },
  {
   "cell_type": "code",
   "execution_count": 16,
   "metadata": {},
   "outputs": [],
   "source": [
    "def model_serializer(model, output_name, model_name, timestring):\n",
    "    '''Saves the trained/finetuned model'''\n",
    "    path_folder = './models'\n",
    "    Path(path_folder).mkdir(parents=True, exist_ok=True)\n",
    "    \n",
    "    if output_name == '':\n",
    "        path_str = (f'{path_folder}/{timestring}-pytorch_model'\n",
    "                    f'_{model_name}.bin')\n",
    "    else:\n",
    "        path_str = (f'{path_folder}/{timestring}-pytorch_model'\n",
    "                    f'_{output_name}_{model_name}.bin')\n",
    "\n",
    "    torch.save(model.state_dict(), path_str)\n",
    "    return path_str\n",
    "\n",
    "\n",
    "tuned_model = model_serializer(model, OUTPUTNAME, MODEL.replace('/', '_'), TIMESTRING)"
   ]
  },
  {
   "attachments": {},
   "cell_type": "markdown",
   "metadata": {},
   "source": [
    "## Model load and generation"
   ]
  },
  {
   "cell_type": "code",
   "execution_count": 48,
   "metadata": {},
   "outputs": [
    {
     "name": "stderr",
     "output_type": "stream",
     "text": [
      "/home/andre/Documents/University/msc_info_science/3_block/nlp/0_projects/nlp-project-group-4/nlp_project/lib/python3.10/site-packages/transformers/generation/utils.py:1273: UserWarning: Neither `max_length` nor `max_new_tokens` has been set, `max_length` will default to 20 (`generation_config.max_length`). Controlling `max_length` via the config is deprecated and `max_length` will be removed from the config in v5 of Transformers -- we recommend using `max_new_tokens` to control the maximum length of the generation.\n",
      "  warnings.warn(\n"
     ]
    }
   ],
   "source": [
    "if GEN_MODEL_OVERRIDE:\n",
    "    tuned_model = GEN_MODEL_OVERRIDE\n",
    "\n",
    "gen_model = T5ForConditionalGeneration.from_pretrained(tuned_model, return_dict=True, config=MODEL)\n",
    "gen_model.to(device)\n",
    "\n",
    "gen_inputs = tokenizer([f'{PREFIX}: {item}' for item in test['input']], return_tensors='pt', padding=True).to(device)\n",
    "\n",
    "outputs = model.generate(\n",
    "    input_ids=gen_inputs['input_ids'],\n",
    "    attention_mask=gen_inputs['attention_mask'],\n",
    "    # max_length=50,\n",
    "    # num_beams=5,\n",
    "    # no_repeat_ngram_size=2,\n",
    "    # early_stopping=True,\n",
    "    do_sample=False,  # disable sampling to test if batching affects output\n",
    ")\n",
    "\n",
    "gen_outputs = tokenizer.batch_decode(outputs, skip_special_tokens=True)"
   ]
  },
  {
   "cell_type": "code",
   "execution_count": null,
   "metadata": {},
   "outputs": [],
   "source": [
    "gen_comparison = pd.DataFrame.from_dict({'Expected': test['labels'][:20], 'Predicted': gen_outputs[:20]})\n",
    "gen_comparison"
   ]
  },
  {
   "attachments": {},
   "cell_type": "markdown",
   "metadata": {},
   "source": [
    "## Evaluation"
   ]
  },
  {
   "cell_type": "code",
   "execution_count": null,
   "metadata": {},
   "outputs": [],
   "source": [
    "ac_score = 0\n",
    "for idx, item in enumerate(test['labels']):\n",
    "    if item == gen_outputs[idx]:\n",
    "        ac_score += 1\n",
    "\n",
    "print('The accuracy score is {}'.format(ac_score / len(test['labels'])))\n",
    "    "
   ]
  }
 ],
 "metadata": {
  "kernelspec": {
   "display_name": "nlp_project",
   "language": "python",
   "name": "python3"
  },
  "language_info": {
   "codemirror_mode": {
    "name": "ipython",
    "version": 3
   },
   "file_extension": ".py",
   "mimetype": "text/x-python",
   "name": "python",
   "nbconvert_exporter": "python",
   "pygments_lexer": "ipython3",
   "version": "3.10.9"
  },
  "orig_nbformat": 4,
  "vscode": {
   "interpreter": {
    "hash": "da982d180a07211c2fcb2e20ea1814d29d4c51e17f67c3847e86fccf77d47621"
   }
  }
 },
 "nbformat": 4,
 "nbformat_minor": 2
}
