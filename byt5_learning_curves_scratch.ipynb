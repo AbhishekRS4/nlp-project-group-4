{
  "cells": [
    {
      "cell_type": "markdown",
      "metadata": {
        "id": "zg2VF8mPo9Jf"
      },
      "source": [
        "# Parameters"
      ]
    },
    {
      "cell_type": "code",
      "source": [
        "import os\n",
        "import sys"
      ],
      "metadata": {
        "id": "D_dWm21ZA3-z"
      },
      "execution_count": 1,
      "outputs": []
    },
    {
      "cell_type": "code",
      "source": [
        "# Set global random seed\n",
        "SEED = 1234\n",
        "\n",
        "# Set the project directories for local and/or Google Colab \n",
        "dir_local = '.'\n",
        "dir_colab = 'drive/MyDrive/NLP_code_notebooks/project/'\n",
        "file_to_import = os.path.join(dir_colab, \"byt5_model.py\")\n",
        "\n",
        "# Set the important parameters for the model\n",
        "learning_rate = 1e-4\n",
        "num_epochs = 50\n",
        "batch_size = 16"
      ],
      "metadata": {
        "id": "frel8DFL_lQd"
      },
      "execution_count": 2,
      "outputs": []
    },
    {
      "cell_type": "code",
      "source": [
        "try:\n",
        "  import google.colab\n",
        "  IN_COLAB = True\n",
        "except:\n",
        "  IN_COLAB = False"
      ],
      "metadata": {
        "id": "pmDOHeCX_8jq"
      },
      "execution_count": 3,
      "outputs": []
    },
    {
      "cell_type": "code",
      "source": [
        "if IN_COLAB:\n",
        "  print('Running on Google Colab')\n",
        "  from google.colab import drive\n",
        "\n",
        "  !pip install transformers datasets SentencePiece\n",
        "  drive.mount('/content/drive')\n",
        "  dir_project = dir_colab\n",
        "  !cp $file_to_import .\n",
        "  #sys.path.append(dir_project)\n",
        "else:\n",
        "  print('Running locally')\n",
        "  dir_project = dir_local"
      ],
      "metadata": {
        "colab": {
          "base_uri": "https://localhost:8080/"
        },
        "id": "ij2gcFN-AACp",
        "outputId": "7b169d78-4a81-4fa4-d30c-97af05596d48"
      },
      "execution_count": 4,
      "outputs": [
        {
          "output_type": "stream",
          "name": "stdout",
          "text": [
            "Running on Google Colab\n",
            "Looking in indexes: https://pypi.org/simple, https://us-python.pkg.dev/colab-wheels/public/simple/\n",
            "Requirement already satisfied: transformers in /usr/local/lib/python3.9/dist-packages (4.27.4)\n",
            "Requirement already satisfied: datasets in /usr/local/lib/python3.9/dist-packages (2.11.0)\n",
            "Requirement already satisfied: SentencePiece in /usr/local/lib/python3.9/dist-packages (0.1.97)\n",
            "Requirement already satisfied: pyyaml>=5.1 in /usr/local/lib/python3.9/dist-packages (from transformers) (6.0)\n",
            "Requirement already satisfied: packaging>=20.0 in /usr/local/lib/python3.9/dist-packages (from transformers) (23.0)\n",
            "Requirement already satisfied: requests in /usr/local/lib/python3.9/dist-packages (from transformers) (2.27.1)\n",
            "Requirement already satisfied: filelock in /usr/local/lib/python3.9/dist-packages (from transformers) (3.10.7)\n",
            "Requirement already satisfied: huggingface-hub<1.0,>=0.11.0 in /usr/local/lib/python3.9/dist-packages (from transformers) (0.13.3)\n",
            "Requirement already satisfied: regex!=2019.12.17 in /usr/local/lib/python3.9/dist-packages (from transformers) (2022.10.31)\n",
            "Requirement already satisfied: tokenizers!=0.11.3,<0.14,>=0.11.1 in /usr/local/lib/python3.9/dist-packages (from transformers) (0.13.2)\n",
            "Requirement already satisfied: numpy>=1.17 in /usr/local/lib/python3.9/dist-packages (from transformers) (1.22.4)\n",
            "Requirement already satisfied: tqdm>=4.27 in /usr/local/lib/python3.9/dist-packages (from transformers) (4.65.0)\n",
            "Requirement already satisfied: pandas in /usr/local/lib/python3.9/dist-packages (from datasets) (1.4.4)\n",
            "Requirement already satisfied: xxhash in /usr/local/lib/python3.9/dist-packages (from datasets) (3.2.0)\n",
            "Requirement already satisfied: aiohttp in /usr/local/lib/python3.9/dist-packages (from datasets) (3.8.4)\n",
            "Requirement already satisfied: fsspec[http]>=2021.11.1 in /usr/local/lib/python3.9/dist-packages (from datasets) (2023.3.0)\n",
            "Requirement already satisfied: responses<0.19 in /usr/local/lib/python3.9/dist-packages (from datasets) (0.18.0)\n",
            "Requirement already satisfied: multiprocess in /usr/local/lib/python3.9/dist-packages (from datasets) (0.70.14)\n",
            "Requirement already satisfied: dill<0.3.7,>=0.3.0 in /usr/local/lib/python3.9/dist-packages (from datasets) (0.3.6)\n",
            "Requirement already satisfied: pyarrow>=8.0.0 in /usr/local/lib/python3.9/dist-packages (from datasets) (9.0.0)\n",
            "Requirement already satisfied: yarl<2.0,>=1.0 in /usr/local/lib/python3.9/dist-packages (from aiohttp->datasets) (1.8.2)\n",
            "Requirement already satisfied: multidict<7.0,>=4.5 in /usr/local/lib/python3.9/dist-packages (from aiohttp->datasets) (6.0.4)\n",
            "Requirement already satisfied: async-timeout<5.0,>=4.0.0a3 in /usr/local/lib/python3.9/dist-packages (from aiohttp->datasets) (4.0.2)\n",
            "Requirement already satisfied: charset-normalizer<4.0,>=2.0 in /usr/local/lib/python3.9/dist-packages (from aiohttp->datasets) (2.0.12)\n",
            "Requirement already satisfied: aiosignal>=1.1.2 in /usr/local/lib/python3.9/dist-packages (from aiohttp->datasets) (1.3.1)\n",
            "Requirement already satisfied: attrs>=17.3.0 in /usr/local/lib/python3.9/dist-packages (from aiohttp->datasets) (22.2.0)\n",
            "Requirement already satisfied: frozenlist>=1.1.1 in /usr/local/lib/python3.9/dist-packages (from aiohttp->datasets) (1.3.3)\n",
            "Requirement already satisfied: typing-extensions>=3.7.4.3 in /usr/local/lib/python3.9/dist-packages (from huggingface-hub<1.0,>=0.11.0->transformers) (4.5.0)\n",
            "Requirement already satisfied: idna<4,>=2.5 in /usr/local/lib/python3.9/dist-packages (from requests->transformers) (3.4)\n",
            "Requirement already satisfied: urllib3<1.27,>=1.21.1 in /usr/local/lib/python3.9/dist-packages (from requests->transformers) (1.26.15)\n",
            "Requirement already satisfied: certifi>=2017.4.17 in /usr/local/lib/python3.9/dist-packages (from requests->transformers) (2022.12.7)\n",
            "Requirement already satisfied: pytz>=2020.1 in /usr/local/lib/python3.9/dist-packages (from pandas->datasets) (2022.7.1)\n",
            "Requirement already satisfied: python-dateutil>=2.8.1 in /usr/local/lib/python3.9/dist-packages (from pandas->datasets) (2.8.2)\n",
            "Requirement already satisfied: six>=1.5 in /usr/local/lib/python3.9/dist-packages (from python-dateutil>=2.8.1->pandas->datasets) (1.16.0)\n",
            "Drive already mounted at /content/drive; to attempt to forcibly remount, call drive.mount(\"/content/drive\", force_remount=True).\n"
          ]
        }
      ]
    },
    {
      "cell_type": "markdown",
      "metadata": {
        "id": "bpYScF1io9Jl"
      },
      "source": [
        "# Code"
      ]
    },
    {
      "cell_type": "markdown",
      "metadata": {
        "id": "76mpTJcUo9Jl"
      },
      "source": [
        "## Imports, time, and random seed"
      ]
    },
    {
      "cell_type": "code",
      "execution_count": 5,
      "metadata": {
        "id": "CbruWdyPo9Jl"
      },
      "outputs": [],
      "source": [
        "import pandas as pd\n",
        "import numpy as np\n",
        "import torch\n",
        "from byt5_model import *\n",
        "from pathlib import Path\n",
        "from datetime import datetime"
      ]
    },
    {
      "cell_type": "code",
      "source": [
        "from transformers import set_seed"
      ],
      "metadata": {
        "id": "buKUuh1t-kLp"
      },
      "execution_count": 6,
      "outputs": []
    },
    {
      "cell_type": "code",
      "source": [
        "dir_dataset = os.path.join(dir_project, 'data')"
      ],
      "metadata": {
        "id": "-2d6paorqZaM"
      },
      "execution_count": 7,
      "outputs": []
    },
    {
      "cell_type": "code",
      "execution_count": 8,
      "metadata": {
        "id": "qqkCQS8ko9Jm"
      },
      "outputs": [],
      "source": [
        "time_string = datetime.now().strftime(\"%Y-%m-%d_%H-%M-%S\")"
      ]
    },
    {
      "cell_type": "code",
      "execution_count": 9,
      "metadata": {
        "id": "JyxAOhyVo9Jn"
      },
      "outputs": [],
      "source": [
        "torch.manual_seed(SEED)\n",
        "np.random.seed(SEED)\n",
        "set_seed(SEED)"
      ]
    },
    {
      "cell_type": "code",
      "source": [
        "model_name = 'google/byt5-small'\n"
      ],
      "metadata": {
        "id": "-5bTzf7gGH4x"
      },
      "execution_count": 10,
      "outputs": []
    },
    {
      "cell_type": "markdown",
      "metadata": {
        "id": "aMNJ8a3Mo9Jn"
      },
      "source": [
        "## Data"
      ]
    },
    {
      "cell_type": "markdown",
      "source": [],
      "metadata": {
        "id": "QzBPlUhQrfu-"
      }
    },
    {
      "cell_type": "code",
      "source": [
        "header_names = [\"lemma\", \"labels\", \"features\"]\n",
        "df_train_ger, df_valid_ger, df_test_ger = load_raw_data_as_df(dir_dataset)\n",
        "df_train_tur, df_valid_tur, df_test_tur = load_raw_data_as_df(dir_dataset, which_dataset=\"turkish\")"
      ],
      "metadata": {
        "id": "bwXPwbK_p8rr"
      },
      "execution_count": 11,
      "outputs": []
    },
    {
      "cell_type": "code",
      "execution_count": 12,
      "metadata": {
        "colab": {
          "base_uri": "https://localhost:8080/",
          "height": 206
        },
        "id": "TqkRqddMo9Jo",
        "outputId": "1dbdac75-16ee-48af-8b91-bb9c88dfc32c"
      },
      "outputs": [
        {
          "output_type": "execute_result",
          "data": {
            "text/plain": [
              "          lemma          labels       features                     inputs\n",
              "0     Plätzchen       Plätzchen  N;NOM;NEUT;PL    Plätzchen N;NOM;NEUT;PL\n",
              "1      Kastanie       Kastanien   N;NOM;FEM;PL      Kastanie N;NOM;FEM;PL\n",
              "2         Linie          Linien   N;NOM;FEM;PL         Linie N;NOM;FEM;PL\n",
              "3        Scherz         Scherze  N;NOM;MASC;PL       Scherz N;NOM;MASC;PL\n",
              "4  Wiederholung  Wiederholungen   N;NOM;FEM;PL  Wiederholung N;NOM;FEM;PL"
            ],
            "text/html": [
              "\n",
              "  <div id=\"df-ddde6e24-abf0-4564-9ba0-80df91221818\">\n",
              "    <div class=\"colab-df-container\">\n",
              "      <div>\n",
              "<style scoped>\n",
              "    .dataframe tbody tr th:only-of-type {\n",
              "        vertical-align: middle;\n",
              "    }\n",
              "\n",
              "    .dataframe tbody tr th {\n",
              "        vertical-align: top;\n",
              "    }\n",
              "\n",
              "    .dataframe thead th {\n",
              "        text-align: right;\n",
              "    }\n",
              "</style>\n",
              "<table border=\"1\" class=\"dataframe\">\n",
              "  <thead>\n",
              "    <tr style=\"text-align: right;\">\n",
              "      <th></th>\n",
              "      <th>lemma</th>\n",
              "      <th>labels</th>\n",
              "      <th>features</th>\n",
              "      <th>inputs</th>\n",
              "    </tr>\n",
              "  </thead>\n",
              "  <tbody>\n",
              "    <tr>\n",
              "      <th>0</th>\n",
              "      <td>Plätzchen</td>\n",
              "      <td>Plätzchen</td>\n",
              "      <td>N;NOM;NEUT;PL</td>\n",
              "      <td>Plätzchen N;NOM;NEUT;PL</td>\n",
              "    </tr>\n",
              "    <tr>\n",
              "      <th>1</th>\n",
              "      <td>Kastanie</td>\n",
              "      <td>Kastanien</td>\n",
              "      <td>N;NOM;FEM;PL</td>\n",
              "      <td>Kastanie N;NOM;FEM;PL</td>\n",
              "    </tr>\n",
              "    <tr>\n",
              "      <th>2</th>\n",
              "      <td>Linie</td>\n",
              "      <td>Linien</td>\n",
              "      <td>N;NOM;FEM;PL</td>\n",
              "      <td>Linie N;NOM;FEM;PL</td>\n",
              "    </tr>\n",
              "    <tr>\n",
              "      <th>3</th>\n",
              "      <td>Scherz</td>\n",
              "      <td>Scherze</td>\n",
              "      <td>N;NOM;MASC;PL</td>\n",
              "      <td>Scherz N;NOM;MASC;PL</td>\n",
              "    </tr>\n",
              "    <tr>\n",
              "      <th>4</th>\n",
              "      <td>Wiederholung</td>\n",
              "      <td>Wiederholungen</td>\n",
              "      <td>N;NOM;FEM;PL</td>\n",
              "      <td>Wiederholung N;NOM;FEM;PL</td>\n",
              "    </tr>\n",
              "  </tbody>\n",
              "</table>\n",
              "</div>\n",
              "      <button class=\"colab-df-convert\" onclick=\"convertToInteractive('df-ddde6e24-abf0-4564-9ba0-80df91221818')\"\n",
              "              title=\"Convert this dataframe to an interactive table.\"\n",
              "              style=\"display:none;\">\n",
              "        \n",
              "  <svg xmlns=\"http://www.w3.org/2000/svg\" height=\"24px\"viewBox=\"0 0 24 24\"\n",
              "       width=\"24px\">\n",
              "    <path d=\"M0 0h24v24H0V0z\" fill=\"none\"/>\n",
              "    <path d=\"M18.56 5.44l.94 2.06.94-2.06 2.06-.94-2.06-.94-.94-2.06-.94 2.06-2.06.94zm-11 1L8.5 8.5l.94-2.06 2.06-.94-2.06-.94L8.5 2.5l-.94 2.06-2.06.94zm10 10l.94 2.06.94-2.06 2.06-.94-2.06-.94-.94-2.06-.94 2.06-2.06.94z\"/><path d=\"M17.41 7.96l-1.37-1.37c-.4-.4-.92-.59-1.43-.59-.52 0-1.04.2-1.43.59L10.3 9.45l-7.72 7.72c-.78.78-.78 2.05 0 2.83L4 21.41c.39.39.9.59 1.41.59.51 0 1.02-.2 1.41-.59l7.78-7.78 2.81-2.81c.8-.78.8-2.07 0-2.86zM5.41 20L4 18.59l7.72-7.72 1.47 1.35L5.41 20z\"/>\n",
              "  </svg>\n",
              "      </button>\n",
              "      \n",
              "  <style>\n",
              "    .colab-df-container {\n",
              "      display:flex;\n",
              "      flex-wrap:wrap;\n",
              "      gap: 12px;\n",
              "    }\n",
              "\n",
              "    .colab-df-convert {\n",
              "      background-color: #E8F0FE;\n",
              "      border: none;\n",
              "      border-radius: 50%;\n",
              "      cursor: pointer;\n",
              "      display: none;\n",
              "      fill: #1967D2;\n",
              "      height: 32px;\n",
              "      padding: 0 0 0 0;\n",
              "      width: 32px;\n",
              "    }\n",
              "\n",
              "    .colab-df-convert:hover {\n",
              "      background-color: #E2EBFA;\n",
              "      box-shadow: 0px 1px 2px rgba(60, 64, 67, 0.3), 0px 1px 3px 1px rgba(60, 64, 67, 0.15);\n",
              "      fill: #174EA6;\n",
              "    }\n",
              "\n",
              "    [theme=dark] .colab-df-convert {\n",
              "      background-color: #3B4455;\n",
              "      fill: #D2E3FC;\n",
              "    }\n",
              "\n",
              "    [theme=dark] .colab-df-convert:hover {\n",
              "      background-color: #434B5C;\n",
              "      box-shadow: 0px 1px 3px 1px rgba(0, 0, 0, 0.15);\n",
              "      filter: drop-shadow(0px 1px 2px rgba(0, 0, 0, 0.3));\n",
              "      fill: #FFFFFF;\n",
              "    }\n",
              "  </style>\n",
              "\n",
              "      <script>\n",
              "        const buttonEl =\n",
              "          document.querySelector('#df-ddde6e24-abf0-4564-9ba0-80df91221818 button.colab-df-convert');\n",
              "        buttonEl.style.display =\n",
              "          google.colab.kernel.accessAllowed ? 'block' : 'none';\n",
              "\n",
              "        async function convertToInteractive(key) {\n",
              "          const element = document.querySelector('#df-ddde6e24-abf0-4564-9ba0-80df91221818');\n",
              "          const dataTable =\n",
              "            await google.colab.kernel.invokeFunction('convertToInteractive',\n",
              "                                                     [key], {});\n",
              "          if (!dataTable) return;\n",
              "\n",
              "          const docLinkHtml = 'Like what you see? Visit the ' +\n",
              "            '<a target=\"_blank\" href=https://colab.research.google.com/notebooks/data_table.ipynb>data table notebook</a>'\n",
              "            + ' to learn more about interactive tables.';\n",
              "          element.innerHTML = '';\n",
              "          dataTable['output_type'] = 'display_data';\n",
              "          await google.colab.output.renderOutput(dataTable, element);\n",
              "          const docLink = document.createElement('div');\n",
              "          docLink.innerHTML = docLinkHtml;\n",
              "          element.appendChild(docLink);\n",
              "        }\n",
              "      </script>\n",
              "    </div>\n",
              "  </div>\n",
              "  "
            ]
          },
          "metadata": {},
          "execution_count": 12
        }
      ],
      "source": [
        "df_train_ger.head()"
      ]
    },
    {
      "cell_type": "code",
      "source": [
        "df_train_tur.head()"
      ],
      "metadata": {
        "id": "1bDjrDDDEN6Y",
        "colab": {
          "base_uri": "https://localhost:8080/",
          "height": 206
        },
        "outputId": "bf0dd86b-1030-4a49-ae70-c068effc0183"
      },
      "execution_count": 13,
      "outputs": [
        {
          "output_type": "execute_result",
          "data": {
            "text/plain": [
              "        lemma                  labels                               features  \\\n",
              "0   kurtarmak  kurtarmış olacak mıydı     V;PROSP;SG;3;POS;PST;INTR;LGSPEC03   \n",
              "1       inmek     inecek olacak mıyım          V;PROSP;IND;SG;1;POS;FUT;INTR   \n",
              "2      kaçmak          kaçmamışlarmış  V;DECL;PL;3;NEG;PST;LGSPEC01;LGSPEC03   \n",
              "3  söz vermek        söz vermeyeceğim                V;DECL;IND;SG;1;NEG;FUT   \n",
              "4   parlatmak       parlatmamış mısın           V;SG;2;NEG;PST;INTR;LGSPEC03   \n",
              "\n",
              "                                         inputs  \n",
              "0  kurtarmak V;PROSP;SG;3;POS;PST;INTR;LGSPEC03  \n",
              "1           inmek V;PROSP;IND;SG;1;POS;FUT;INTR  \n",
              "2  kaçmak V;DECL;PL;3;NEG;PST;LGSPEC01;LGSPEC03  \n",
              "3            söz vermek V;DECL;IND;SG;1;NEG;FUT  \n",
              "4        parlatmak V;SG;2;NEG;PST;INTR;LGSPEC03  "
            ],
            "text/html": [
              "\n",
              "  <div id=\"df-85b77d10-c3fd-4936-a496-4f1c799dd9a2\">\n",
              "    <div class=\"colab-df-container\">\n",
              "      <div>\n",
              "<style scoped>\n",
              "    .dataframe tbody tr th:only-of-type {\n",
              "        vertical-align: middle;\n",
              "    }\n",
              "\n",
              "    .dataframe tbody tr th {\n",
              "        vertical-align: top;\n",
              "    }\n",
              "\n",
              "    .dataframe thead th {\n",
              "        text-align: right;\n",
              "    }\n",
              "</style>\n",
              "<table border=\"1\" class=\"dataframe\">\n",
              "  <thead>\n",
              "    <tr style=\"text-align: right;\">\n",
              "      <th></th>\n",
              "      <th>lemma</th>\n",
              "      <th>labels</th>\n",
              "      <th>features</th>\n",
              "      <th>inputs</th>\n",
              "    </tr>\n",
              "  </thead>\n",
              "  <tbody>\n",
              "    <tr>\n",
              "      <th>0</th>\n",
              "      <td>kurtarmak</td>\n",
              "      <td>kurtarmış olacak mıydı</td>\n",
              "      <td>V;PROSP;SG;3;POS;PST;INTR;LGSPEC03</td>\n",
              "      <td>kurtarmak V;PROSP;SG;3;POS;PST;INTR;LGSPEC03</td>\n",
              "    </tr>\n",
              "    <tr>\n",
              "      <th>1</th>\n",
              "      <td>inmek</td>\n",
              "      <td>inecek olacak mıyım</td>\n",
              "      <td>V;PROSP;IND;SG;1;POS;FUT;INTR</td>\n",
              "      <td>inmek V;PROSP;IND;SG;1;POS;FUT;INTR</td>\n",
              "    </tr>\n",
              "    <tr>\n",
              "      <th>2</th>\n",
              "      <td>kaçmak</td>\n",
              "      <td>kaçmamışlarmış</td>\n",
              "      <td>V;DECL;PL;3;NEG;PST;LGSPEC01;LGSPEC03</td>\n",
              "      <td>kaçmak V;DECL;PL;3;NEG;PST;LGSPEC01;LGSPEC03</td>\n",
              "    </tr>\n",
              "    <tr>\n",
              "      <th>3</th>\n",
              "      <td>söz vermek</td>\n",
              "      <td>söz vermeyeceğim</td>\n",
              "      <td>V;DECL;IND;SG;1;NEG;FUT</td>\n",
              "      <td>söz vermek V;DECL;IND;SG;1;NEG;FUT</td>\n",
              "    </tr>\n",
              "    <tr>\n",
              "      <th>4</th>\n",
              "      <td>parlatmak</td>\n",
              "      <td>parlatmamış mısın</td>\n",
              "      <td>V;SG;2;NEG;PST;INTR;LGSPEC03</td>\n",
              "      <td>parlatmak V;SG;2;NEG;PST;INTR;LGSPEC03</td>\n",
              "    </tr>\n",
              "  </tbody>\n",
              "</table>\n",
              "</div>\n",
              "      <button class=\"colab-df-convert\" onclick=\"convertToInteractive('df-85b77d10-c3fd-4936-a496-4f1c799dd9a2')\"\n",
              "              title=\"Convert this dataframe to an interactive table.\"\n",
              "              style=\"display:none;\">\n",
              "        \n",
              "  <svg xmlns=\"http://www.w3.org/2000/svg\" height=\"24px\"viewBox=\"0 0 24 24\"\n",
              "       width=\"24px\">\n",
              "    <path d=\"M0 0h24v24H0V0z\" fill=\"none\"/>\n",
              "    <path d=\"M18.56 5.44l.94 2.06.94-2.06 2.06-.94-2.06-.94-.94-2.06-.94 2.06-2.06.94zm-11 1L8.5 8.5l.94-2.06 2.06-.94-2.06-.94L8.5 2.5l-.94 2.06-2.06.94zm10 10l.94 2.06.94-2.06 2.06-.94-2.06-.94-.94-2.06-.94 2.06-2.06.94z\"/><path d=\"M17.41 7.96l-1.37-1.37c-.4-.4-.92-.59-1.43-.59-.52 0-1.04.2-1.43.59L10.3 9.45l-7.72 7.72c-.78.78-.78 2.05 0 2.83L4 21.41c.39.39.9.59 1.41.59.51 0 1.02-.2 1.41-.59l7.78-7.78 2.81-2.81c.8-.78.8-2.07 0-2.86zM5.41 20L4 18.59l7.72-7.72 1.47 1.35L5.41 20z\"/>\n",
              "  </svg>\n",
              "      </button>\n",
              "      \n",
              "  <style>\n",
              "    .colab-df-container {\n",
              "      display:flex;\n",
              "      flex-wrap:wrap;\n",
              "      gap: 12px;\n",
              "    }\n",
              "\n",
              "    .colab-df-convert {\n",
              "      background-color: #E8F0FE;\n",
              "      border: none;\n",
              "      border-radius: 50%;\n",
              "      cursor: pointer;\n",
              "      display: none;\n",
              "      fill: #1967D2;\n",
              "      height: 32px;\n",
              "      padding: 0 0 0 0;\n",
              "      width: 32px;\n",
              "    }\n",
              "\n",
              "    .colab-df-convert:hover {\n",
              "      background-color: #E2EBFA;\n",
              "      box-shadow: 0px 1px 2px rgba(60, 64, 67, 0.3), 0px 1px 3px 1px rgba(60, 64, 67, 0.15);\n",
              "      fill: #174EA6;\n",
              "    }\n",
              "\n",
              "    [theme=dark] .colab-df-convert {\n",
              "      background-color: #3B4455;\n",
              "      fill: #D2E3FC;\n",
              "    }\n",
              "\n",
              "    [theme=dark] .colab-df-convert:hover {\n",
              "      background-color: #434B5C;\n",
              "      box-shadow: 0px 1px 3px 1px rgba(0, 0, 0, 0.15);\n",
              "      filter: drop-shadow(0px 1px 2px rgba(0, 0, 0, 0.3));\n",
              "      fill: #FFFFFF;\n",
              "    }\n",
              "  </style>\n",
              "\n",
              "      <script>\n",
              "        const buttonEl =\n",
              "          document.querySelector('#df-85b77d10-c3fd-4936-a496-4f1c799dd9a2 button.colab-df-convert');\n",
              "        buttonEl.style.display =\n",
              "          google.colab.kernel.accessAllowed ? 'block' : 'none';\n",
              "\n",
              "        async function convertToInteractive(key) {\n",
              "          const element = document.querySelector('#df-85b77d10-c3fd-4936-a496-4f1c799dd9a2');\n",
              "          const dataTable =\n",
              "            await google.colab.kernel.invokeFunction('convertToInteractive',\n",
              "                                                     [key], {});\n",
              "          if (!dataTable) return;\n",
              "\n",
              "          const docLinkHtml = 'Like what you see? Visit the ' +\n",
              "            '<a target=\"_blank\" href=https://colab.research.google.com/notebooks/data_table.ipynb>data table notebook</a>'\n",
              "            + ' to learn more about interactive tables.';\n",
              "          element.innerHTML = '';\n",
              "          dataTable['output_type'] = 'display_data';\n",
              "          await google.colab.output.renderOutput(dataTable, element);\n",
              "          const docLink = document.createElement('div');\n",
              "          docLink.innerHTML = docLinkHtml;\n",
              "          element.appendChild(docLink);\n",
              "        }\n",
              "      </script>\n",
              "    </div>\n",
              "  </div>\n",
              "  "
            ]
          },
          "metadata": {},
          "execution_count": 13
        }
      ]
    },
    {
      "cell_type": "code",
      "execution_count": 14,
      "metadata": {
        "id": "hANUctZvo9Jp"
      },
      "outputs": [],
      "source": [
        "device = torch.device(\"cuda\") if torch.cuda.is_available() else torch.device(\"cpu\")"
      ]
    },
    {
      "cell_type": "code",
      "source": [
        "tokenizer_ger = get_tokenizer(model_name)\n",
        "tokenizer_tur = get_tokenizer(model_name)"
      ],
      "metadata": {
        "id": "1XcLhLVtDths"
      },
      "execution_count": 15,
      "outputs": []
    },
    {
      "cell_type": "code",
      "source": [
        "tokenizer_tur.save_pretrained(os.path.join(dir_project, \"saved_tokenizer_tur\"))\n",
        "tokenizer_ger.save_pretrained(os.path.join(dir_project, \"saved_tokenizer_ger\"))"
      ],
      "metadata": {
        "colab": {
          "base_uri": "https://localhost:8080/"
        },
        "id": "DoXzTKjVRu1a",
        "outputId": "5cfcf57b-2754-4991-d445-c64f6328126d"
      },
      "execution_count": 16,
      "outputs": [
        {
          "output_type": "execute_result",
          "data": {
            "text/plain": [
              "('drive/MyDrive/NLP_code_notebooks/project/saved_tokenizer_ger/tokenizer_config.json',\n",
              " 'drive/MyDrive/NLP_code_notebooks/project/saved_tokenizer_ger/special_tokens_map.json',\n",
              " 'drive/MyDrive/NLP_code_notebooks/project/saved_tokenizer_ger/added_tokens.json')"
            ]
          },
          "metadata": {},
          "execution_count": 16
        }
      ]
    },
    {
      "cell_type": "code",
      "source": [
        "tokenized_train_ger, tokenized_valid_ger, tokenized_test_ger = get_tokenized_data(tokenizer_ger, df_train_ger, df_valid_ger, df_test_ger)"
      ],
      "metadata": {
        "id": "iWfHK8qtwW4-"
      },
      "execution_count": 17,
      "outputs": []
    },
    {
      "cell_type": "code",
      "source": [
        "tokenized_train_tur, tokenized_valid_tur, tokenized_test_tur = get_tokenized_data(tokenizer_tur, df_train_tur, df_valid_tur, df_test_tur)"
      ],
      "metadata": {
        "id": "JwK82kXxj6Ke"
      },
      "execution_count": 18,
      "outputs": []
    },
    {
      "cell_type": "code",
      "execution_count": 19,
      "metadata": {
        "colab": {
          "base_uri": "https://localhost:8080/"
        },
        "id": "ZHwF6OGRo9Jq",
        "outputId": "794d79fd-2c66-4793-d943-cb5281905a48"
      },
      "outputs": [
        {
          "output_type": "execute_result",
          "data": {
            "text/plain": [
              "{'input_ids': tensor([[ 83, 111, 198,  ...,   0,   0,   0],\n",
              "         [ 78, 100, 118,  ...,   0,   0,   0],\n",
              "         [ 79, 108, 113,  ...,   0,   0,   0],\n",
              "         ...,\n",
              "         [ 80, 108, 119,  ...,   0,   0,   0],\n",
              "         [ 86, 119, 100,  ...,   0,   0,   0],\n",
              "         [ 85, 120, 103,  ...,   0,   0,   0]]),\n",
              " 'attention_mask': tensor([[1, 1, 1,  ..., 0, 0, 0],\n",
              "         [1, 1, 1,  ..., 0, 0, 0],\n",
              "         [1, 1, 1,  ..., 0, 0, 0],\n",
              "         ...,\n",
              "         [1, 1, 1,  ..., 0, 0, 0],\n",
              "         [1, 1, 1,  ..., 0, 0, 0],\n",
              "         [1, 1, 1,  ..., 0, 0, 0]]),\n",
              " 'labels': tensor([[ 83, 111, 198,  ...,   0,   0,   0],\n",
              "         [ 78, 100, 118,  ...,   0,   0,   0],\n",
              "         [ 79, 108, 113,  ...,   0,   0,   0],\n",
              "         ...,\n",
              "         [ 80, 108, 119,  ...,   0,   0,   0],\n",
              "         [ 86, 119, 100,  ...,   0,   0,   0],\n",
              "         [ 85, 120, 103,  ...,   0,   0,   0]])}"
            ]
          },
          "metadata": {},
          "execution_count": 19
        }
      ],
      "source": [
        "tokenized_train_ger"
      ]
    },
    {
      "cell_type": "code",
      "source": [
        "tokenized_train_tur"
      ],
      "metadata": {
        "colab": {
          "base_uri": "https://localhost:8080/"
        },
        "id": "-dqTWClEj_DM",
        "outputId": "13652f25-8278-4c46-c2a0-da330b9d6f0d"
      },
      "execution_count": 20,
      "outputs": [
        {
          "output_type": "execute_result",
          "data": {
            "text/plain": [
              "{'input_ids': tensor([[110, 120, 117,  ...,   0,   0,   0],\n",
              "         [108, 113, 112,  ...,   0,   0,   0],\n",
              "         [110, 100, 198,  ...,   0,   0,   0],\n",
              "         ...,\n",
              "         [125, 100, 105,  ...,   0,   0,   0],\n",
              "         [118, 199, 180,  ...,   0,   0,   0],\n",
              "         [101, 198, 185,  ...,   0,   0,   0]]),\n",
              " 'attention_mask': tensor([[1, 1, 1,  ..., 0, 0, 0],\n",
              "         [1, 1, 1,  ..., 0, 0, 0],\n",
              "         [1, 1, 1,  ..., 0, 0, 0],\n",
              "         ...,\n",
              "         [1, 1, 1,  ..., 0, 0, 0],\n",
              "         [1, 1, 1,  ..., 0, 0, 0],\n",
              "         [1, 1, 1,  ..., 0, 0, 0]]),\n",
              " 'labels': tensor([[110, 120, 117,  ...,   0,   0,   0],\n",
              "         [108, 113, 104,  ...,   0,   0,   0],\n",
              "         [110, 100, 198,  ...,   0,   0,   0],\n",
              "         ...,\n",
              "         [125, 100, 105,  ...,   0,   0,   0],\n",
              "         [118, 199, 180,  ...,   0,   0,   0],\n",
              "         [101, 198, 185,  ...,   0,   0,   0]])}"
            ]
          },
          "metadata": {},
          "execution_count": 20
        }
      ]
    },
    {
      "cell_type": "markdown",
      "metadata": {
        "id": "cwB6NQyHo9Jq"
      },
      "source": [
        "## Fine-tuning the pretrained model for the German dataset"
      ]
    },
    {
      "cell_type": "code",
      "source": [
        "import torch\n",
        "from transformers import T5ForConditionalGeneration, T5Config"
      ],
      "metadata": {
        "id": "oOycdLp4Abe7"
      },
      "execution_count": 21,
      "outputs": []
    },
    {
      "cell_type": "code",
      "source": [
        "dir_path_model_ger = os.path.join(dir_project, \"saved_model_scratch_ger_new\")\n",
        "if not os.path.isdir(dir_path_model_ger):\n",
        "  os.makedirs(dir_path_model_ger)"
      ],
      "metadata": {
        "id": "-Gh57IUdEnRo"
      },
      "execution_count": 22,
      "outputs": []
    },
    {
      "cell_type": "code",
      "source": [
        "model_scratch_ger = get_byt5_model(device, model_name, pretrained=False)"
      ],
      "metadata": {
        "id": "Ii87jFOrgwtc",
        "colab": {
          "base_uri": "https://localhost:8080/",
          "height": 205,
          "referenced_widgets": [
            "d505b0f6c9564c4698e0bb10ff7d2e54",
            "8cbde62c5cb347c3892f2c6e07f7e3ed",
            "11471b35f79643948e8b668e6c383869",
            "88a0fbfc210d47b294f32a9f9b7a8d1e",
            "5202d68db2954d038616febe852f366e",
            "7abd3b8fa4234ab885685f14dd4ea8d8",
            "240fd6c7258c47319f1327fbd7a28282",
            "cc057bf89f39427fb7129021a42ddcc2",
            "c1cd1265c4694008aa298f8b643044a2",
            "8fd9d242481e4c9898777eb45b0dccda",
            "e59325bf00014762a1c8babff6b59530",
            "3c8d9ae2c82d4f93867437ccb2dff5d4",
            "cc6702a4b1024ae9868590ac64a914b4",
            "7e42fb16bac74da59068912ceed8d919",
            "4e1914485abb459db1d082a31cd9f0a7",
            "63dab86c866c42b6bd003124258fc5e9",
            "c9fc89c518ed46baa76421aac8a55507",
            "f3c4d0af3b294267aabe7cbec166f521",
            "ec0cbd7a7eed4aeb8598373532ed0e02",
            "7bcb0d896dce4300b47bb3d57fdefdca",
            "b2348c571d5941d09d3e8b4b1993f25b",
            "dbb79530b94f4711b6e1ae971a39f839"
          ]
        },
        "outputId": "83c6a7ee-1028-4b70-b330-9285e9365a84"
      },
      "execution_count": 23,
      "outputs": [
        {
          "output_type": "display_data",
          "data": {
            "text/plain": [
              "Downloading (…)ve/main/spiece.model:   0%|          | 0.00/792k [00:00<?, ?B/s]"
            ],
            "application/vnd.jupyter.widget-view+json": {
              "version_major": 2,
              "version_minor": 0,
              "model_id": "d505b0f6c9564c4698e0bb10ff7d2e54"
            }
          },
          "metadata": {}
        },
        {
          "output_type": "display_data",
          "data": {
            "text/plain": [
              "Downloading (…)lve/main/config.json:   0%|          | 0.00/1.21k [00:00<?, ?B/s]"
            ],
            "application/vnd.jupyter.widget-view+json": {
              "version_major": 2,
              "version_minor": 0,
              "model_id": "3c8d9ae2c82d4f93867437ccb2dff5d4"
            }
          },
          "metadata": {}
        },
        {
          "output_type": "stream",
          "name": "stderr",
          "text": [
            "/usr/local/lib/python3.9/dist-packages/transformers/models/t5/tokenization_t5.py:163: FutureWarning: This tokenizer was incorrectly instantiated with a model max length of 512 which will be corrected in Transformers v5.\n",
            "For now, this behavior is kept to avoid breaking backwards compatibility when padding/encoding with `truncation is True`.\n",
            "- Be aware that you SHOULD NOT rely on t5-small automatically truncating your input to 512 when padding/encoding.\n",
            "- If you want to encode/pad to sequences longer than 512 you can either instantiate this tokenizer with `model_max_length` or pass `max_length` when encoding/padding.\n",
            "- To avoid this warning, please instantiate this tokenizer with `model_max_length` set to your preferred value.\n",
            "  warnings.warn(\n"
          ]
        }
      ]
    },
    {
      "cell_type": "code",
      "source": [],
      "metadata": {
        "id": "pmhiPiJnxkhp"
      },
      "execution_count": 23,
      "outputs": []
    },
    {
      "cell_type": "code",
      "source": [
        "optimizer_scratch_ger = get_optimizer(model_scratch_ger, learning_rate)"
      ],
      "metadata": {
        "id": "6thaHaRRGSVc"
      },
      "execution_count": 24,
      "outputs": []
    },
    {
      "cell_type": "code",
      "source": [
        "train_dataloader_ger = get_dataloader(tokenized_train_ger, batch_size=batch_size)\n",
        "valid_dataloader_ger = get_dataloader(tokenized_valid_ger, batch_size=1, shuffle=False)"
      ],
      "metadata": {
        "id": "ikr8VJPuxu51",
        "colab": {
          "base_uri": "https://localhost:8080/"
        },
        "outputId": "0ffad843-85c6-4e6f-d110-d457db606df3"
      },
      "execution_count": 25,
      "outputs": [
        {
          "output_type": "stream",
          "name": "stderr",
          "text": [
            "/usr/local/lib/python3.9/dist-packages/torch/utils/data/dataloader.py:561: UserWarning: This DataLoader will create 4 worker processes in total. Our suggested max number of worker in current system is 2, which is smaller than what this DataLoader is going to create. Please be aware that excessive worker creation might get DataLoader running slow or even freeze, lower the worker number to avoid potential slowness/freeze if necessary.\n",
            "  warnings.warn(_create_warning_msg(\n"
          ]
        }
      ]
    },
    {
      "cell_type": "code",
      "source": [
        "list_train_losses_scratch_ger, list_valid_losses_scratch_ger = [], []\n",
        "list_train_losses_scratch_ger, list_valid_losses_scratch_ger = train_validation_loop(model_scratch_ger, \n",
        "                                                                                     train_dataloader_ger, \n",
        "                                                                                     valid_dataloader_ger, \n",
        "                                                                                     optimizer_scratch_ger, \n",
        "                                                                                     device, \n",
        "                                                                                     dir_path_model_ger, \n",
        "                                                                                     num_epochs=num_epochs)\n",
        "np.save(os.path.join(dir_project, \"train_losses_scratch_ger.npy\"), np.array(list_train_losses_scratch_ger))\n",
        "np.save(os.path.join(dir_project, \"valid_losses_scratch_ger.npy\"), np.array(list_valid_losses_scratch_ger))"
      ],
      "metadata": {
        "id": "1u4pergDxilv",
        "colab": {
          "base_uri": "https://localhost:8080/"
        },
        "outputId": "16462dd1-edf5-42e2-ea97-f9cb28432822"
      },
      "execution_count": 26,
      "outputs": [
        {
          "output_type": "stream",
          "name": "stdout",
          "text": [
            "epoch: 1 / 50, train loss: 3.3330, validation loss: 3.1108\n",
            "epoch: 2 / 50, train loss: 2.4358, validation loss: 2.4808\n",
            "epoch: 3 / 50, train loss: 1.9812, validation loss: 2.0092\n",
            "epoch: 4 / 50, train loss: 1.6831, validation loss: 1.7649\n",
            "epoch: 5 / 50, train loss: 1.4661, validation loss: 1.5621\n",
            "epoch: 6 / 50, train loss: 1.2881, validation loss: 1.4272\n",
            "epoch: 7 / 50, train loss: 1.1610, validation loss: 1.3568\n",
            "epoch: 8 / 50, train loss: 1.0563, validation loss: 1.3115\n",
            "epoch: 9 / 50, train loss: 0.9587, validation loss: 1.2077\n",
            "epoch: 10 / 50, train loss: 0.8865, validation loss: 1.1632\n",
            "epoch: 11 / 50, train loss: 0.8192, validation loss: 1.1580\n",
            "epoch: 12 / 50, train loss: 0.7424, validation loss: 1.1138\n",
            "epoch: 13 / 50, train loss: 0.6659, validation loss: 1.1066\n",
            "epoch: 14 / 50, train loss: 0.6254, validation loss: 1.0718\n",
            "epoch: 15 / 50, train loss: 0.5571, validation loss: 1.0357\n",
            "epoch: 16 / 50, train loss: 0.4869, validation loss: 0.9973\n",
            "epoch: 17 / 50, train loss: 0.4480, validation loss: 0.9897\n",
            "epoch: 18 / 50, train loss: 0.4463, validation loss: 0.9696\n",
            "epoch: 19 / 50, train loss: 0.4025, validation loss: 0.9361\n",
            "epoch: 20 / 50, train loss: 0.3503, validation loss: 0.9442\n",
            "epoch: 21 / 50, train loss: 0.3379, validation loss: 0.9597\n",
            "epoch: 22 / 50, train loss: 0.3060, validation loss: 0.9315\n",
            "epoch: 23 / 50, train loss: 0.2819, validation loss: 0.9563\n",
            "epoch: 24 / 50, train loss: 0.2455, validation loss: 0.9605\n",
            "epoch: 25 / 50, train loss: 0.2468, validation loss: 0.9251\n",
            "epoch: 26 / 50, train loss: 0.2265, validation loss: 0.9383\n",
            "epoch: 27 / 50, train loss: 0.2239, validation loss: 0.9465\n",
            "epoch: 28 / 50, train loss: 0.2045, validation loss: 0.9277\n",
            "epoch: 29 / 50, train loss: 0.1828, validation loss: 0.9409\n",
            "epoch: 30 / 50, train loss: 0.1753, validation loss: 0.9517\n",
            "epoch: 31 / 50, train loss: 0.1733, validation loss: 0.9593\n",
            "epoch: 32 / 50, train loss: 0.1738, validation loss: 0.9521\n",
            "epoch: 33 / 50, train loss: 0.1625, validation loss: 0.9718\n",
            "epoch: 34 / 50, train loss: 0.1624, validation loss: 0.9759\n",
            "epoch: 35 / 50, train loss: 0.1564, validation loss: 0.9927\n",
            "epoch: 36 / 50, train loss: 0.1429, validation loss: 1.0026\n",
            "epoch: 37 / 50, train loss: 0.1287, validation loss: 1.0401\n",
            "epoch: 38 / 50, train loss: 0.1460, validation loss: 0.9671\n",
            "epoch: 39 / 50, train loss: 0.1435, validation loss: 0.9870\n",
            "epoch: 40 / 50, train loss: 0.1285, validation loss: 0.9661\n",
            "epoch: 41 / 50, train loss: 0.1209, validation loss: 0.9732\n",
            "epoch: 42 / 50, train loss: 0.1106, validation loss: 1.0041\n",
            "epoch: 43 / 50, train loss: 0.1052, validation loss: 1.0065\n",
            "epoch: 44 / 50, train loss: 0.1019, validation loss: 1.0354\n",
            "epoch: 45 / 50, train loss: 0.1142, validation loss: 0.9720\n",
            "epoch: 46 / 50, train loss: 0.1047, validation loss: 0.9792\n",
            "epoch: 47 / 50, train loss: 0.1065, validation loss: 0.9901\n",
            "epoch: 48 / 50, train loss: 0.1018, validation loss: 1.0035\n",
            "epoch: 49 / 50, train loss: 0.0896, validation loss: 1.0449\n",
            "epoch: 50 / 50, train loss: 0.0861, validation loss: 1.0022\n"
          ]
        }
      ]
    },
    {
      "cell_type": "code",
      "execution_count": null,
      "metadata": {
        "id": "oBVr22Ido9Jr"
      },
      "outputs": [],
      "source": []
    },
    {
      "cell_type": "code",
      "source": [],
      "metadata": {
        "id": "ZUvge-OaG3z5"
      },
      "execution_count": null,
      "outputs": []
    },
    {
      "cell_type": "code",
      "source": [],
      "metadata": {
        "id": "IEBD79GqG3cZ"
      },
      "execution_count": null,
      "outputs": []
    },
    {
      "cell_type": "markdown",
      "source": [
        "## Fine-tuning the pretrained model for the Turkish dataset\n"
      ],
      "metadata": {
        "id": "7KjqgcmQmfjB"
      }
    },
    {
      "cell_type": "code",
      "source": [
        "dir_path_model_tur = os.path.join(dir_project, \"saved_model_scratch_tur_new\")\n",
        "if not os.path.isdir(dir_path_model_tur):\n",
        "  os.makedirs(dir_path_model_tur)"
      ],
      "metadata": {
        "id": "hYIhkrMBrWnc"
      },
      "execution_count": 27,
      "outputs": []
    },
    {
      "cell_type": "code",
      "source": [
        "model_scratch_tur = get_byt5_model(device, model_name, pretrained=False)"
      ],
      "metadata": {
        "id": "qt76_3QNmWy5"
      },
      "execution_count": 28,
      "outputs": []
    },
    {
      "cell_type": "code",
      "source": [
        "optimizer_scratch_tur = get_optimizer(model_scratch_tur, learning_rate)"
      ],
      "metadata": {
        "id": "XfFMUtx8G22K"
      },
      "execution_count": 29,
      "outputs": []
    },
    {
      "cell_type": "code",
      "source": [
        "train_dataloader_tur = get_dataloader(tokenized_train_tur, batch_size=batch_size)\n",
        "valid_dataloader_tur = get_dataloader(tokenized_valid_tur, batch_size=1, shuffle=False)"
      ],
      "metadata": {
        "id": "Oo1fDsmWF3ZX"
      },
      "execution_count": 30,
      "outputs": []
    },
    {
      "cell_type": "code",
      "source": [
        "list_train_losses_scratch_tur, list_valid_losses_scratch_tur = [], []\n",
        "list_train_losses_scratch_tur, list_valid_losses_scratch_tur = train_validation_loop(model_scratch_tur, \n",
        "                                                                                     train_dataloader_tur, \n",
        "                                                                                     valid_dataloader_tur, \n",
        "                                                                                     optimizer_scratch_tur, \n",
        "                                                                                     device, \n",
        "                                                                                     dir_path_model_tur, \n",
        "                                                                                     num_epochs=num_epochs)\n",
        "np.save(os.path.join(dir_project, \"train_losses_scratch_tur.npy\"), np.array(list_train_losses_scratch_tur))\n",
        "np.save(os.path.join(dir_project, \"valid_losses_scratch_tur.npy\"), np.array(list_valid_losses_scratch_tur))"
      ],
      "metadata": {
        "id": "6ZJwMO1rr19V",
        "colab": {
          "base_uri": "https://localhost:8080/"
        },
        "outputId": "bbb807b8-657a-4390-c9b9-2bac31ab4f8d"
      },
      "execution_count": 31,
      "outputs": [
        {
          "output_type": "stream",
          "name": "stdout",
          "text": [
            "epoch: 1 / 50, train loss: 3.5470, validation loss: 2.3004\n",
            "epoch: 2 / 50, train loss: 2.1254, validation loss: 1.5940\n",
            "epoch: 3 / 50, train loss: 1.6711, validation loss: 1.3628\n",
            "epoch: 4 / 50, train loss: 1.4596, validation loss: 1.2068\n",
            "epoch: 5 / 50, train loss: 1.2762, validation loss: 1.0468\n",
            "epoch: 6 / 50, train loss: 1.1063, validation loss: 0.9149\n",
            "epoch: 7 / 50, train loss: 0.9497, validation loss: 0.8099\n",
            "epoch: 8 / 50, train loss: 0.8287, validation loss: 0.7169\n",
            "epoch: 9 / 50, train loss: 0.7148, validation loss: 0.6418\n",
            "epoch: 10 / 50, train loss: 0.6413, validation loss: 0.5991\n",
            "epoch: 11 / 50, train loss: 0.5854, validation loss: 0.5817\n",
            "epoch: 12 / 50, train loss: 0.5270, validation loss: 0.5471\n",
            "epoch: 13 / 50, train loss: 0.4734, validation loss: 0.5089\n",
            "epoch: 14 / 50, train loss: 0.4269, validation loss: 0.4963\n",
            "epoch: 15 / 50, train loss: 0.3972, validation loss: 0.4817\n",
            "epoch: 16 / 50, train loss: 0.3698, validation loss: 0.4527\n",
            "epoch: 17 / 50, train loss: 0.3380, validation loss: 0.4546\n",
            "epoch: 18 / 50, train loss: 0.3116, validation loss: 0.4382\n",
            "epoch: 19 / 50, train loss: 0.2817, validation loss: 0.4303\n",
            "epoch: 20 / 50, train loss: 0.2671, validation loss: 0.4314\n",
            "epoch: 21 / 50, train loss: 0.2448, validation loss: 0.4170\n",
            "epoch: 22 / 50, train loss: 0.2300, validation loss: 0.4192\n",
            "epoch: 23 / 50, train loss: 0.2242, validation loss: 0.4104\n",
            "epoch: 24 / 50, train loss: 0.2067, validation loss: 0.3970\n",
            "epoch: 25 / 50, train loss: 0.1865, validation loss: 0.4038\n",
            "epoch: 26 / 50, train loss: 0.1810, validation loss: 0.4196\n",
            "epoch: 27 / 50, train loss: 0.1696, validation loss: 0.3920\n",
            "epoch: 28 / 50, train loss: 0.1585, validation loss: 0.3985\n",
            "epoch: 29 / 50, train loss: 0.1485, validation loss: 0.3996\n",
            "epoch: 30 / 50, train loss: 0.1492, validation loss: 0.3874\n",
            "epoch: 31 / 50, train loss: 0.1400, validation loss: 0.3880\n",
            "epoch: 32 / 50, train loss: 0.1366, validation loss: 0.3791\n",
            "epoch: 33 / 50, train loss: 0.1222, validation loss: 0.4011\n",
            "epoch: 34 / 50, train loss: 0.1266, validation loss: 0.3996\n",
            "epoch: 35 / 50, train loss: 0.1231, validation loss: 0.3793\n",
            "epoch: 36 / 50, train loss: 0.1143, validation loss: 0.3906\n",
            "epoch: 37 / 50, train loss: 0.1034, validation loss: 0.3895\n",
            "epoch: 38 / 50, train loss: 0.1055, validation loss: 0.3984\n",
            "epoch: 39 / 50, train loss: 0.0972, validation loss: 0.3768\n",
            "epoch: 40 / 50, train loss: 0.0901, validation loss: 0.4039\n",
            "epoch: 41 / 50, train loss: 0.0904, validation loss: 0.3810\n",
            "epoch: 42 / 50, train loss: 0.0828, validation loss: 0.3926\n",
            "epoch: 43 / 50, train loss: 0.0891, validation loss: 0.3932\n",
            "epoch: 44 / 50, train loss: 0.0802, validation loss: 0.4001\n",
            "epoch: 45 / 50, train loss: 0.0771, validation loss: 0.3799\n",
            "epoch: 46 / 50, train loss: 0.0798, validation loss: 0.3919\n",
            "epoch: 47 / 50, train loss: 0.0715, validation loss: 0.3969\n",
            "epoch: 48 / 50, train loss: 0.0696, validation loss: 0.4000\n",
            "epoch: 49 / 50, train loss: 0.0713, validation loss: 0.3952\n",
            "epoch: 50 / 50, train loss: 0.0714, validation loss: 0.3824\n"
          ]
        }
      ]
    },
    {
      "cell_type": "code",
      "source": [],
      "metadata": {
        "id": "5Clw3UKxGJsk"
      },
      "execution_count": null,
      "outputs": []
    },
    {
      "cell_type": "code",
      "source": [],
      "metadata": {
        "id": "C0_mTFlNGJYM"
      },
      "execution_count": null,
      "outputs": []
    },
    {
      "cell_type": "code",
      "source": [],
      "metadata": {
        "id": "ZWvBPb9nJuUi"
      },
      "execution_count": null,
      "outputs": []
    },
    {
      "cell_type": "code",
      "source": [],
      "metadata": {
        "id": "ew07h6h-gdfb"
      },
      "execution_count": null,
      "outputs": []
    }
  ],
  "metadata": {
    "kernelspec": {
      "display_name": "nlp_project",
      "language": "python",
      "name": "python3"
    },
    "language_info": {
      "codemirror_mode": {
        "name": "ipython",
        "version": 3
      },
      "file_extension": ".py",
      "mimetype": "text/x-python",
      "name": "python",
      "nbconvert_exporter": "python",
      "pygments_lexer": "ipython3",
      "version": "3.10.9"
    },
    "orig_nbformat": 4,
    "vscode": {
      "interpreter": {
        "hash": "da982d180a07211c2fcb2e20ea1814d29d4c51e17f67c3847e86fccf77d47621"
      }
    },
    "colab": {
      "provenance": [],
      "gpuType": "T4"
    },
    "accelerator": "GPU",
    "gpuClass": "standard",
    "widgets": {
      "application/vnd.jupyter.widget-state+json": {
        "d505b0f6c9564c4698e0bb10ff7d2e54": {
          "model_module": "@jupyter-widgets/controls",
          "model_name": "HBoxModel",
          "model_module_version": "1.5.0",
          "state": {
            "_dom_classes": [],
            "_model_module": "@jupyter-widgets/controls",
            "_model_module_version": "1.5.0",
            "_model_name": "HBoxModel",
            "_view_count": null,
            "_view_module": "@jupyter-widgets/controls",
            "_view_module_version": "1.5.0",
            "_view_name": "HBoxView",
            "box_style": "",
            "children": [
              "IPY_MODEL_8cbde62c5cb347c3892f2c6e07f7e3ed",
              "IPY_MODEL_11471b35f79643948e8b668e6c383869",
              "IPY_MODEL_88a0fbfc210d47b294f32a9f9b7a8d1e"
            ],
            "layout": "IPY_MODEL_5202d68db2954d038616febe852f366e"
          }
        },
        "8cbde62c5cb347c3892f2c6e07f7e3ed": {
          "model_module": "@jupyter-widgets/controls",
          "model_name": "HTMLModel",
          "model_module_version": "1.5.0",
          "state": {
            "_dom_classes": [],
            "_model_module": "@jupyter-widgets/controls",
            "_model_module_version": "1.5.0",
            "_model_name": "HTMLModel",
            "_view_count": null,
            "_view_module": "@jupyter-widgets/controls",
            "_view_module_version": "1.5.0",
            "_view_name": "HTMLView",
            "description": "",
            "description_tooltip": null,
            "layout": "IPY_MODEL_7abd3b8fa4234ab885685f14dd4ea8d8",
            "placeholder": "​",
            "style": "IPY_MODEL_240fd6c7258c47319f1327fbd7a28282",
            "value": "Downloading (…)ve/main/spiece.model: 100%"
          }
        },
        "11471b35f79643948e8b668e6c383869": {
          "model_module": "@jupyter-widgets/controls",
          "model_name": "FloatProgressModel",
          "model_module_version": "1.5.0",
          "state": {
            "_dom_classes": [],
            "_model_module": "@jupyter-widgets/controls",
            "_model_module_version": "1.5.0",
            "_model_name": "FloatProgressModel",
            "_view_count": null,
            "_view_module": "@jupyter-widgets/controls",
            "_view_module_version": "1.5.0",
            "_view_name": "ProgressView",
            "bar_style": "success",
            "description": "",
            "description_tooltip": null,
            "layout": "IPY_MODEL_cc057bf89f39427fb7129021a42ddcc2",
            "max": 791656,
            "min": 0,
            "orientation": "horizontal",
            "style": "IPY_MODEL_c1cd1265c4694008aa298f8b643044a2",
            "value": 791656
          }
        },
        "88a0fbfc210d47b294f32a9f9b7a8d1e": {
          "model_module": "@jupyter-widgets/controls",
          "model_name": "HTMLModel",
          "model_module_version": "1.5.0",
          "state": {
            "_dom_classes": [],
            "_model_module": "@jupyter-widgets/controls",
            "_model_module_version": "1.5.0",
            "_model_name": "HTMLModel",
            "_view_count": null,
            "_view_module": "@jupyter-widgets/controls",
            "_view_module_version": "1.5.0",
            "_view_name": "HTMLView",
            "description": "",
            "description_tooltip": null,
            "layout": "IPY_MODEL_8fd9d242481e4c9898777eb45b0dccda",
            "placeholder": "​",
            "style": "IPY_MODEL_e59325bf00014762a1c8babff6b59530",
            "value": " 792k/792k [00:00&lt;00:00, 1.85MB/s]"
          }
        },
        "5202d68db2954d038616febe852f366e": {
          "model_module": "@jupyter-widgets/base",
          "model_name": "LayoutModel",
          "model_module_version": "1.2.0",
          "state": {
            "_model_module": "@jupyter-widgets/base",
            "_model_module_version": "1.2.0",
            "_model_name": "LayoutModel",
            "_view_count": null,
            "_view_module": "@jupyter-widgets/base",
            "_view_module_version": "1.2.0",
            "_view_name": "LayoutView",
            "align_content": null,
            "align_items": null,
            "align_self": null,
            "border": null,
            "bottom": null,
            "display": null,
            "flex": null,
            "flex_flow": null,
            "grid_area": null,
            "grid_auto_columns": null,
            "grid_auto_flow": null,
            "grid_auto_rows": null,
            "grid_column": null,
            "grid_gap": null,
            "grid_row": null,
            "grid_template_areas": null,
            "grid_template_columns": null,
            "grid_template_rows": null,
            "height": null,
            "justify_content": null,
            "justify_items": null,
            "left": null,
            "margin": null,
            "max_height": null,
            "max_width": null,
            "min_height": null,
            "min_width": null,
            "object_fit": null,
            "object_position": null,
            "order": null,
            "overflow": null,
            "overflow_x": null,
            "overflow_y": null,
            "padding": null,
            "right": null,
            "top": null,
            "visibility": null,
            "width": null
          }
        },
        "7abd3b8fa4234ab885685f14dd4ea8d8": {
          "model_module": "@jupyter-widgets/base",
          "model_name": "LayoutModel",
          "model_module_version": "1.2.0",
          "state": {
            "_model_module": "@jupyter-widgets/base",
            "_model_module_version": "1.2.0",
            "_model_name": "LayoutModel",
            "_view_count": null,
            "_view_module": "@jupyter-widgets/base",
            "_view_module_version": "1.2.0",
            "_view_name": "LayoutView",
            "align_content": null,
            "align_items": null,
            "align_self": null,
            "border": null,
            "bottom": null,
            "display": null,
            "flex": null,
            "flex_flow": null,
            "grid_area": null,
            "grid_auto_columns": null,
            "grid_auto_flow": null,
            "grid_auto_rows": null,
            "grid_column": null,
            "grid_gap": null,
            "grid_row": null,
            "grid_template_areas": null,
            "grid_template_columns": null,
            "grid_template_rows": null,
            "height": null,
            "justify_content": null,
            "justify_items": null,
            "left": null,
            "margin": null,
            "max_height": null,
            "max_width": null,
            "min_height": null,
            "min_width": null,
            "object_fit": null,
            "object_position": null,
            "order": null,
            "overflow": null,
            "overflow_x": null,
            "overflow_y": null,
            "padding": null,
            "right": null,
            "top": null,
            "visibility": null,
            "width": null
          }
        },
        "240fd6c7258c47319f1327fbd7a28282": {
          "model_module": "@jupyter-widgets/controls",
          "model_name": "DescriptionStyleModel",
          "model_module_version": "1.5.0",
          "state": {
            "_model_module": "@jupyter-widgets/controls",
            "_model_module_version": "1.5.0",
            "_model_name": "DescriptionStyleModel",
            "_view_count": null,
            "_view_module": "@jupyter-widgets/base",
            "_view_module_version": "1.2.0",
            "_view_name": "StyleView",
            "description_width": ""
          }
        },
        "cc057bf89f39427fb7129021a42ddcc2": {
          "model_module": "@jupyter-widgets/base",
          "model_name": "LayoutModel",
          "model_module_version": "1.2.0",
          "state": {
            "_model_module": "@jupyter-widgets/base",
            "_model_module_version": "1.2.0",
            "_model_name": "LayoutModel",
            "_view_count": null,
            "_view_module": "@jupyter-widgets/base",
            "_view_module_version": "1.2.0",
            "_view_name": "LayoutView",
            "align_content": null,
            "align_items": null,
            "align_self": null,
            "border": null,
            "bottom": null,
            "display": null,
            "flex": null,
            "flex_flow": null,
            "grid_area": null,
            "grid_auto_columns": null,
            "grid_auto_flow": null,
            "grid_auto_rows": null,
            "grid_column": null,
            "grid_gap": null,
            "grid_row": null,
            "grid_template_areas": null,
            "grid_template_columns": null,
            "grid_template_rows": null,
            "height": null,
            "justify_content": null,
            "justify_items": null,
            "left": null,
            "margin": null,
            "max_height": null,
            "max_width": null,
            "min_height": null,
            "min_width": null,
            "object_fit": null,
            "object_position": null,
            "order": null,
            "overflow": null,
            "overflow_x": null,
            "overflow_y": null,
            "padding": null,
            "right": null,
            "top": null,
            "visibility": null,
            "width": null
          }
        },
        "c1cd1265c4694008aa298f8b643044a2": {
          "model_module": "@jupyter-widgets/controls",
          "model_name": "ProgressStyleModel",
          "model_module_version": "1.5.0",
          "state": {
            "_model_module": "@jupyter-widgets/controls",
            "_model_module_version": "1.5.0",
            "_model_name": "ProgressStyleModel",
            "_view_count": null,
            "_view_module": "@jupyter-widgets/base",
            "_view_module_version": "1.2.0",
            "_view_name": "StyleView",
            "bar_color": null,
            "description_width": ""
          }
        },
        "8fd9d242481e4c9898777eb45b0dccda": {
          "model_module": "@jupyter-widgets/base",
          "model_name": "LayoutModel",
          "model_module_version": "1.2.0",
          "state": {
            "_model_module": "@jupyter-widgets/base",
            "_model_module_version": "1.2.0",
            "_model_name": "LayoutModel",
            "_view_count": null,
            "_view_module": "@jupyter-widgets/base",
            "_view_module_version": "1.2.0",
            "_view_name": "LayoutView",
            "align_content": null,
            "align_items": null,
            "align_self": null,
            "border": null,
            "bottom": null,
            "display": null,
            "flex": null,
            "flex_flow": null,
            "grid_area": null,
            "grid_auto_columns": null,
            "grid_auto_flow": null,
            "grid_auto_rows": null,
            "grid_column": null,
            "grid_gap": null,
            "grid_row": null,
            "grid_template_areas": null,
            "grid_template_columns": null,
            "grid_template_rows": null,
            "height": null,
            "justify_content": null,
            "justify_items": null,
            "left": null,
            "margin": null,
            "max_height": null,
            "max_width": null,
            "min_height": null,
            "min_width": null,
            "object_fit": null,
            "object_position": null,
            "order": null,
            "overflow": null,
            "overflow_x": null,
            "overflow_y": null,
            "padding": null,
            "right": null,
            "top": null,
            "visibility": null,
            "width": null
          }
        },
        "e59325bf00014762a1c8babff6b59530": {
          "model_module": "@jupyter-widgets/controls",
          "model_name": "DescriptionStyleModel",
          "model_module_version": "1.5.0",
          "state": {
            "_model_module": "@jupyter-widgets/controls",
            "_model_module_version": "1.5.0",
            "_model_name": "DescriptionStyleModel",
            "_view_count": null,
            "_view_module": "@jupyter-widgets/base",
            "_view_module_version": "1.2.0",
            "_view_name": "StyleView",
            "description_width": ""
          }
        },
        "3c8d9ae2c82d4f93867437ccb2dff5d4": {
          "model_module": "@jupyter-widgets/controls",
          "model_name": "HBoxModel",
          "model_module_version": "1.5.0",
          "state": {
            "_dom_classes": [],
            "_model_module": "@jupyter-widgets/controls",
            "_model_module_version": "1.5.0",
            "_model_name": "HBoxModel",
            "_view_count": null,
            "_view_module": "@jupyter-widgets/controls",
            "_view_module_version": "1.5.0",
            "_view_name": "HBoxView",
            "box_style": "",
            "children": [
              "IPY_MODEL_cc6702a4b1024ae9868590ac64a914b4",
              "IPY_MODEL_7e42fb16bac74da59068912ceed8d919",
              "IPY_MODEL_4e1914485abb459db1d082a31cd9f0a7"
            ],
            "layout": "IPY_MODEL_63dab86c866c42b6bd003124258fc5e9"
          }
        },
        "cc6702a4b1024ae9868590ac64a914b4": {
          "model_module": "@jupyter-widgets/controls",
          "model_name": "HTMLModel",
          "model_module_version": "1.5.0",
          "state": {
            "_dom_classes": [],
            "_model_module": "@jupyter-widgets/controls",
            "_model_module_version": "1.5.0",
            "_model_name": "HTMLModel",
            "_view_count": null,
            "_view_module": "@jupyter-widgets/controls",
            "_view_module_version": "1.5.0",
            "_view_name": "HTMLView",
            "description": "",
            "description_tooltip": null,
            "layout": "IPY_MODEL_c9fc89c518ed46baa76421aac8a55507",
            "placeholder": "​",
            "style": "IPY_MODEL_f3c4d0af3b294267aabe7cbec166f521",
            "value": "Downloading (…)lve/main/config.json: 100%"
          }
        },
        "7e42fb16bac74da59068912ceed8d919": {
          "model_module": "@jupyter-widgets/controls",
          "model_name": "FloatProgressModel",
          "model_module_version": "1.5.0",
          "state": {
            "_dom_classes": [],
            "_model_module": "@jupyter-widgets/controls",
            "_model_module_version": "1.5.0",
            "_model_name": "FloatProgressModel",
            "_view_count": null,
            "_view_module": "@jupyter-widgets/controls",
            "_view_module_version": "1.5.0",
            "_view_name": "ProgressView",
            "bar_style": "success",
            "description": "",
            "description_tooltip": null,
            "layout": "IPY_MODEL_ec0cbd7a7eed4aeb8598373532ed0e02",
            "max": 1206,
            "min": 0,
            "orientation": "horizontal",
            "style": "IPY_MODEL_7bcb0d896dce4300b47bb3d57fdefdca",
            "value": 1206
          }
        },
        "4e1914485abb459db1d082a31cd9f0a7": {
          "model_module": "@jupyter-widgets/controls",
          "model_name": "HTMLModel",
          "model_module_version": "1.5.0",
          "state": {
            "_dom_classes": [],
            "_model_module": "@jupyter-widgets/controls",
            "_model_module_version": "1.5.0",
            "_model_name": "HTMLModel",
            "_view_count": null,
            "_view_module": "@jupyter-widgets/controls",
            "_view_module_version": "1.5.0",
            "_view_name": "HTMLView",
            "description": "",
            "description_tooltip": null,
            "layout": "IPY_MODEL_b2348c571d5941d09d3e8b4b1993f25b",
            "placeholder": "​",
            "style": "IPY_MODEL_dbb79530b94f4711b6e1ae971a39f839",
            "value": " 1.21k/1.21k [00:00&lt;00:00, 50.1kB/s]"
          }
        },
        "63dab86c866c42b6bd003124258fc5e9": {
          "model_module": "@jupyter-widgets/base",
          "model_name": "LayoutModel",
          "model_module_version": "1.2.0",
          "state": {
            "_model_module": "@jupyter-widgets/base",
            "_model_module_version": "1.2.0",
            "_model_name": "LayoutModel",
            "_view_count": null,
            "_view_module": "@jupyter-widgets/base",
            "_view_module_version": "1.2.0",
            "_view_name": "LayoutView",
            "align_content": null,
            "align_items": null,
            "align_self": null,
            "border": null,
            "bottom": null,
            "display": null,
            "flex": null,
            "flex_flow": null,
            "grid_area": null,
            "grid_auto_columns": null,
            "grid_auto_flow": null,
            "grid_auto_rows": null,
            "grid_column": null,
            "grid_gap": null,
            "grid_row": null,
            "grid_template_areas": null,
            "grid_template_columns": null,
            "grid_template_rows": null,
            "height": null,
            "justify_content": null,
            "justify_items": null,
            "left": null,
            "margin": null,
            "max_height": null,
            "max_width": null,
            "min_height": null,
            "min_width": null,
            "object_fit": null,
            "object_position": null,
            "order": null,
            "overflow": null,
            "overflow_x": null,
            "overflow_y": null,
            "padding": null,
            "right": null,
            "top": null,
            "visibility": null,
            "width": null
          }
        },
        "c9fc89c518ed46baa76421aac8a55507": {
          "model_module": "@jupyter-widgets/base",
          "model_name": "LayoutModel",
          "model_module_version": "1.2.0",
          "state": {
            "_model_module": "@jupyter-widgets/base",
            "_model_module_version": "1.2.0",
            "_model_name": "LayoutModel",
            "_view_count": null,
            "_view_module": "@jupyter-widgets/base",
            "_view_module_version": "1.2.0",
            "_view_name": "LayoutView",
            "align_content": null,
            "align_items": null,
            "align_self": null,
            "border": null,
            "bottom": null,
            "display": null,
            "flex": null,
            "flex_flow": null,
            "grid_area": null,
            "grid_auto_columns": null,
            "grid_auto_flow": null,
            "grid_auto_rows": null,
            "grid_column": null,
            "grid_gap": null,
            "grid_row": null,
            "grid_template_areas": null,
            "grid_template_columns": null,
            "grid_template_rows": null,
            "height": null,
            "justify_content": null,
            "justify_items": null,
            "left": null,
            "margin": null,
            "max_height": null,
            "max_width": null,
            "min_height": null,
            "min_width": null,
            "object_fit": null,
            "object_position": null,
            "order": null,
            "overflow": null,
            "overflow_x": null,
            "overflow_y": null,
            "padding": null,
            "right": null,
            "top": null,
            "visibility": null,
            "width": null
          }
        },
        "f3c4d0af3b294267aabe7cbec166f521": {
          "model_module": "@jupyter-widgets/controls",
          "model_name": "DescriptionStyleModel",
          "model_module_version": "1.5.0",
          "state": {
            "_model_module": "@jupyter-widgets/controls",
            "_model_module_version": "1.5.0",
            "_model_name": "DescriptionStyleModel",
            "_view_count": null,
            "_view_module": "@jupyter-widgets/base",
            "_view_module_version": "1.2.0",
            "_view_name": "StyleView",
            "description_width": ""
          }
        },
        "ec0cbd7a7eed4aeb8598373532ed0e02": {
          "model_module": "@jupyter-widgets/base",
          "model_name": "LayoutModel",
          "model_module_version": "1.2.0",
          "state": {
            "_model_module": "@jupyter-widgets/base",
            "_model_module_version": "1.2.0",
            "_model_name": "LayoutModel",
            "_view_count": null,
            "_view_module": "@jupyter-widgets/base",
            "_view_module_version": "1.2.0",
            "_view_name": "LayoutView",
            "align_content": null,
            "align_items": null,
            "align_self": null,
            "border": null,
            "bottom": null,
            "display": null,
            "flex": null,
            "flex_flow": null,
            "grid_area": null,
            "grid_auto_columns": null,
            "grid_auto_flow": null,
            "grid_auto_rows": null,
            "grid_column": null,
            "grid_gap": null,
            "grid_row": null,
            "grid_template_areas": null,
            "grid_template_columns": null,
            "grid_template_rows": null,
            "height": null,
            "justify_content": null,
            "justify_items": null,
            "left": null,
            "margin": null,
            "max_height": null,
            "max_width": null,
            "min_height": null,
            "min_width": null,
            "object_fit": null,
            "object_position": null,
            "order": null,
            "overflow": null,
            "overflow_x": null,
            "overflow_y": null,
            "padding": null,
            "right": null,
            "top": null,
            "visibility": null,
            "width": null
          }
        },
        "7bcb0d896dce4300b47bb3d57fdefdca": {
          "model_module": "@jupyter-widgets/controls",
          "model_name": "ProgressStyleModel",
          "model_module_version": "1.5.0",
          "state": {
            "_model_module": "@jupyter-widgets/controls",
            "_model_module_version": "1.5.0",
            "_model_name": "ProgressStyleModel",
            "_view_count": null,
            "_view_module": "@jupyter-widgets/base",
            "_view_module_version": "1.2.0",
            "_view_name": "StyleView",
            "bar_color": null,
            "description_width": ""
          }
        },
        "b2348c571d5941d09d3e8b4b1993f25b": {
          "model_module": "@jupyter-widgets/base",
          "model_name": "LayoutModel",
          "model_module_version": "1.2.0",
          "state": {
            "_model_module": "@jupyter-widgets/base",
            "_model_module_version": "1.2.0",
            "_model_name": "LayoutModel",
            "_view_count": null,
            "_view_module": "@jupyter-widgets/base",
            "_view_module_version": "1.2.0",
            "_view_name": "LayoutView",
            "align_content": null,
            "align_items": null,
            "align_self": null,
            "border": null,
            "bottom": null,
            "display": null,
            "flex": null,
            "flex_flow": null,
            "grid_area": null,
            "grid_auto_columns": null,
            "grid_auto_flow": null,
            "grid_auto_rows": null,
            "grid_column": null,
            "grid_gap": null,
            "grid_row": null,
            "grid_template_areas": null,
            "grid_template_columns": null,
            "grid_template_rows": null,
            "height": null,
            "justify_content": null,
            "justify_items": null,
            "left": null,
            "margin": null,
            "max_height": null,
            "max_width": null,
            "min_height": null,
            "min_width": null,
            "object_fit": null,
            "object_position": null,
            "order": null,
            "overflow": null,
            "overflow_x": null,
            "overflow_y": null,
            "padding": null,
            "right": null,
            "top": null,
            "visibility": null,
            "width": null
          }
        },
        "dbb79530b94f4711b6e1ae971a39f839": {
          "model_module": "@jupyter-widgets/controls",
          "model_name": "DescriptionStyleModel",
          "model_module_version": "1.5.0",
          "state": {
            "_model_module": "@jupyter-widgets/controls",
            "_model_module_version": "1.5.0",
            "_model_name": "DescriptionStyleModel",
            "_view_count": null,
            "_view_module": "@jupyter-widgets/base",
            "_view_module_version": "1.2.0",
            "_view_name": "StyleView",
            "description_width": ""
          }
        }
      }
    }
  },
  "nbformat": 4,
  "nbformat_minor": 0
}